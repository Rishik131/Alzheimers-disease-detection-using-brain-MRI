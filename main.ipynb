{
  "cells": [
    {
      "cell_type": "code",
      "execution_count": null,
      "metadata": {
        "colab": {
          "base_uri": "https://localhost:8080/"
        },
        "id": "dEsRCgN5HmHR",
        "outputId": "c6193b54-098f-4e37-e66b-4b10e68188f2"
      },
      "outputs": [
        {
          "output_type": "stream",
          "name": "stdout",
          "text": [
            "Mounted at /content/drive\n"
          ]
        }
      ],
      "source": [
        "from google.colab import drive\n",
        "drive.mount('/content/drive')"
      ]
    },
    {
      "cell_type": "code",
      "execution_count": null,
      "metadata": {
        "colab": {
          "base_uri": "https://localhost:8080/"
        },
        "id": "ut0vNIl5HuHV",
        "outputId": "404e702c-2ddc-473c-8c5b-1bda16c2244d"
      },
      "outputs": [
        {
          "output_type": "stream",
          "name": "stdout",
          "text": [
            "/content/drive/MyDrive/research\n"
          ]
        }
      ],
      "source": [
        "cd drive/MyDrive/research"
      ]
    },
    {
      "cell_type": "code",
      "execution_count": null,
      "metadata": {
        "colab": {
          "base_uri": "https://localhost:8080/"
        },
        "id": "5i-p6HM9H674",
        "outputId": "41f4f2e3-7e84-49dd-e466-f97ada86fc1e"
      },
      "outputs": [
        {
          "output_type": "stream",
          "name": "stdout",
          "text": [
            "simple_3d_unet.py  test_resized.zip  train_resized.zip\n",
            "\u001b[0m\u001b[01;34mtest_resized\u001b[0m/      \u001b[01;34mtrain_resized\u001b[0m/\n"
          ]
        }
      ],
      "source": [
        "ls"
      ]
    },
    {
      "cell_type": "code",
      "execution_count": null,
      "metadata": {
        "id": "Y8-P_AxhIbgH"
      },
      "outputs": [],
      "source": [
        "import torch\n",
        "import torch.nn as nn"
      ]
    },
    {
      "cell_type": "code",
      "execution_count": null,
      "metadata": {
        "colab": {
          "base_uri": "https://localhost:8080/",
          "height": 35
        },
        "id": "dzJoCug0JDNh",
        "outputId": "858bedad-7273-43ca-b907-082cefbc3985"
      },
      "outputs": [
        {
          "output_type": "execute_result",
          "data": {
            "text/plain": [
              "'cuda'"
            ],
            "application/vnd.google.colaboratory.intrinsic+json": {
              "type": "string"
            }
          },
          "metadata": {},
          "execution_count": 72
        }
      ],
      "source": [
        "device = \"cuda\" if torch.cuda.is_available() else \"cpu\"\n",
        "device"
      ]
    },
    {
      "cell_type": "code",
      "execution_count": null,
      "metadata": {
        "id": "r0446O6lJENx"
      },
      "outputs": [],
      "source": [
        "import os\n",
        "def walk_through_dir(dir_path):\n",
        "    for dirpath,dirnames,filenames in os.walk(dir_path):\n",
        "        print(f\"There are {len(dirnames)} directories and {len(filenames)} images in '{dirpath}.\")\n"
      ]
    },
    {
      "cell_type": "code",
      "execution_count": null,
      "metadata": {
        "colab": {
          "base_uri": "https://localhost:8080/"
        },
        "id": "9RqJScGGJFNt",
        "outputId": "eb710d47-fd5a-43fa-c6e5-21aa42a7c9b0"
      },
      "outputs": [
        {
          "output_type": "stream",
          "name": "stdout",
          "text": [
            "There are 4 directories and 0 images in 'train_resized.\n",
            "There are 0 directories and 2560 images in 'train_resized/NonDemented.\n",
            "There are 0 directories and 2560 images in 'train_resized/VeryMildDemented.\n",
            "There are 0 directories and 2560 images in 'train_resized/ModerateDemented.\n",
            "There are 0 directories and 2560 images in 'train_resized/MildDemented.\n"
          ]
        }
      ],
      "source": [
        "walk_through_dir(dir_path='train_resized')"
      ]
    },
    {
      "cell_type": "code",
      "execution_count": null,
      "metadata": {
        "id": "RdOuuBmWJGc-"
      },
      "outputs": [],
      "source": [
        "\n",
        "from pathlib import Path\n",
        "train_dir = Path(\"train_resized\")\n",
        "test_dir = \"test_resized\""
      ]
    },
    {
      "cell_type": "code",
      "execution_count": null,
      "metadata": {
        "colab": {
          "base_uri": "https://localhost:8080/"
        },
        "id": "9FeBEkrVJH03",
        "outputId": "220d809c-d5da-4162-ff40-ba4bd5b588ff"
      },
      "outputs": [
        {
          "output_type": "stream",
          "name": "stdout",
          "text": [
            "train_resized/NonDemented/nondementedDem1882.jpg\n"
          ]
        }
      ],
      "source": [
        "\n",
        "import random\n",
        "from PIL import Image\n",
        "random.seed(42)\n",
        "image_path_list = list(train_dir.glob(\"*/*.jpg\"))\n",
        "random_image = random.choice(image_path_list)\n",
        "print(random_image)"
      ]
    },
    {
      "cell_type": "code",
      "execution_count": null,
      "metadata": {
        "colab": {
          "base_uri": "https://localhost:8080/",
          "height": 35
        },
        "id": "Nhlp4L__JIzJ",
        "outputId": "1dbf55aa-d040-4cf6-ee8d-6d89370fb076"
      },
      "outputs": [
        {
          "output_type": "execute_result",
          "data": {
            "text/plain": [
              "'NonDemented'"
            ],
            "application/vnd.google.colaboratory.intrinsic+json": {
              "type": "string"
            }
          },
          "metadata": {},
          "execution_count": 77
        }
      ],
      "source": [
        "Image_class = random_image.parent.stem\n",
        "Image_class"
      ]
    },
    {
      "cell_type": "code",
      "execution_count": null,
      "metadata": {
        "id": "JR0fxNYMJKBa"
      },
      "outputs": [],
      "source": [
        "import torch\n",
        "from torch.utils.data import DataLoader\n",
        "from torchvision import datasets,transforms\n"
      ]
    },
    {
      "cell_type": "code",
      "execution_count": null,
      "metadata": {
        "id": "EZ8LS77kJK7b"
      },
      "outputs": [],
      "source": [
        "data_tansform = transforms.Compose([\n",
        "    transforms.ToTensor()\n",
        "])"
      ]
    },
    {
      "cell_type": "code",
      "execution_count": null,
      "metadata": {
        "id": "kptfIzv-JL9u"
      },
      "outputs": [],
      "source": [
        "img = Image.open(random_image)"
      ]
    },
    {
      "cell_type": "code",
      "execution_count": null,
      "metadata": {
        "colab": {
          "base_uri": "https://localhost:8080/"
        },
        "id": "ZCnPi2o9JNM5",
        "outputId": "90306fbc-1e0c-40e6-ca67-40a92a530e5c"
      },
      "outputs": [
        {
          "output_type": "execute_result",
          "data": {
            "text/plain": [
              "tensor([[[0., 0., 0.,  ..., 0., 0., 0.],\n",
              "         [0., 0., 0.,  ..., 0., 0., 0.],\n",
              "         [0., 0., 0.,  ..., 0., 0., 0.],\n",
              "         ...,\n",
              "         [0., 0., 0.,  ..., 0., 0., 0.],\n",
              "         [0., 0., 0.,  ..., 0., 0., 0.],\n",
              "         [0., 0., 0.,  ..., 0., 0., 0.]]])"
            ]
          },
          "metadata": {},
          "execution_count": 81
        }
      ],
      "source": [
        "data_tansform(img=img)"
      ]
    },
    {
      "cell_type": "code",
      "execution_count": null,
      "metadata": {
        "id": "kGbbRXgwJORf"
      },
      "outputs": [],
      "source": [
        "train_data  =datasets.ImageFolder(root=\"train_resized\",transform=data_tansform,target_transform=None)\n",
        "test_data  =datasets.ImageFolder(root=\"test_resized\",transform=data_tansform,target_transform=None)"
      ]
    },
    {
      "cell_type": "code",
      "execution_count": null,
      "metadata": {
        "colab": {
          "base_uri": "https://localhost:8080/"
        },
        "id": "eAAT47tdJRJI",
        "outputId": "629f8b69-0444-4cce-d8ec-5729921e3475"
      },
      "outputs": [
        {
          "output_type": "execute_result",
          "data": {
            "text/plain": [
              "Dataset ImageFolder\n",
              "    Number of datapoints: 10240\n",
              "    Root location: train_resized\n",
              "    StandardTransform\n",
              "Transform: Compose(\n",
              "               ToTensor()\n",
              "           )"
            ]
          },
          "metadata": {},
          "execution_count": 83
        }
      ],
      "source": [
        "train_data"
      ]
    },
    {
      "cell_type": "code",
      "execution_count": null,
      "metadata": {
        "colab": {
          "base_uri": "https://localhost:8080/"
        },
        "id": "9A_Xcsc4JSNX",
        "outputId": "cfe37cf6-bbd9-43af-db56-239822566883"
      },
      "outputs": [
        {
          "output_type": "execute_result",
          "data": {
            "text/plain": [
              "{'MildDemented': 0,\n",
              " 'ModerateDemented': 1,\n",
              " 'NonDemented': 2,\n",
              " 'VeryMildDemented': 3}"
            ]
          },
          "metadata": {},
          "execution_count": 84
        }
      ],
      "source": [
        "class_names = train_data.class_to_idx\n",
        "class_names"
      ]
    },
    {
      "cell_type": "code",
      "execution_count": null,
      "metadata": {
        "colab": {
          "base_uri": "https://localhost:8080/"
        },
        "id": "nULzs4zuJUAY",
        "outputId": "b449a36c-87f6-4ebd-ccb9-b74a143578da"
      },
      "outputs": [
        {
          "output_type": "execute_result",
          "data": {
            "text/plain": [
              "(10240, 2560)"
            ]
          },
          "metadata": {},
          "execution_count": 85
        }
      ],
      "source": [
        "len(train_data) , len(test_data)"
      ]
    },
    {
      "cell_type": "code",
      "execution_count": null,
      "metadata": {
        "id": "EPkm6xB7JVOn"
      },
      "outputs": [],
      "source": [
        "img , label = train_data[0][0],train_data[0][1]"
      ]
    },
    {
      "cell_type": "code",
      "execution_count": null,
      "metadata": {
        "colab": {
          "base_uri": "https://localhost:8080/"
        },
        "id": "zMI0UD3MJWPl",
        "outputId": "edd5f600-ed81-4f96-f151-d857017f8a2e"
      },
      "outputs": [
        {
          "output_type": "execute_result",
          "data": {
            "text/plain": [
              "0"
            ]
          },
          "metadata": {},
          "execution_count": 87
        }
      ],
      "source": [
        "label"
      ]
    },
    {
      "cell_type": "code",
      "execution_count": null,
      "metadata": {
        "colab": {
          "base_uri": "https://localhost:8080/"
        },
        "id": "Y_U3vbPVJXmr",
        "outputId": "4c01a4dd-2b9c-493a-bddc-a7aca1185205"
      },
      "outputs": [
        {
          "output_type": "execute_result",
          "data": {
            "text/plain": [
              "2"
            ]
          },
          "metadata": {},
          "execution_count": 88
        }
      ],
      "source": [
        "\n",
        "import os\n",
        "os.cpu_count()"
      ]
    },
    {
      "cell_type": "code",
      "execution_count": null,
      "metadata": {
        "colab": {
          "base_uri": "https://localhost:8080/"
        },
        "id": "Zb6S1q31JYlF",
        "outputId": "1d7f7ce4-087a-488d-f86e-a14a62bcadc0"
      },
      "outputs": [
        {
          "output_type": "execute_result",
          "data": {
            "text/plain": [
              "(<torch.utils.data.dataloader.DataLoader at 0x7fb8d11c6710>,\n",
              " <torch.utils.data.dataloader.DataLoader at 0x7fb8d11c7c40>)"
            ]
          },
          "metadata": {},
          "execution_count": 89
        }
      ],
      "source": [
        "from torch.utils.data import DataLoader\n",
        "BATCH_SIZE = 16\n",
        "train_dataloader = DataLoader(dataset=train_data,batch_size=BATCH_SIZE,num_workers=os.cpu_count(),shuffle=True)\n",
        "test_dataloader = DataLoader(dataset=test_data,batch_size=BATCH_SIZE,num_workers=os.cpu_count(),shuffle=True)\n",
        "train_dataloader,test_dataloader"
      ]
    },
    {
      "cell_type": "code",
      "execution_count": null,
      "metadata": {
        "colab": {
          "base_uri": "https://localhost:8080/"
        },
        "id": "G7CqeDxvJaDu",
        "outputId": "ecb4445a-7b6b-4a4b-9c98-ffee5ff5ac52"
      },
      "outputs": [
        {
          "output_type": "execute_result",
          "data": {
            "text/plain": [
              "640"
            ]
          },
          "metadata": {},
          "execution_count": 90
        }
      ],
      "source": [
        "len(train_dataloader)"
      ]
    },
    {
      "cell_type": "code",
      "execution_count": null,
      "metadata": {
        "id": "JEhwZG-7JbTH"
      },
      "outputs": [],
      "source": [
        "  img , label  = next(iter(train_dataloader))"
      ]
    },
    {
      "cell_type": "code",
      "execution_count": null,
      "metadata": {
        "colab": {
          "base_uri": "https://localhost:8080/"
        },
        "id": "cu6j9RhzJc5H",
        "outputId": "1b647994-27e8-4105-90a4-cd668ed5b12b"
      },
      "outputs": [
        {
          "output_type": "stream",
          "name": "stdout",
          "text": [
            "torch.Size([16, 3, 176, 176])\n"
          ]
        }
      ],
      "source": [
        "print(img.shape)"
      ]
    },
    {
      "cell_type": "code",
      "execution_count": null,
      "metadata": {
        "id": "L-M7RoSnJeHX"
      },
      "outputs": [],
      "source": [
        "\n",
        "class TinyVGG(nn.Module):\n",
        "    def __init__(self, input_shape:int,hidden_units:int,output_shape:int) -> None:\n",
        "        super().__init__()\n",
        "        self.conv_block_1 = nn.Sequential(\n",
        "            nn.Conv2d(in_channels=input_shape,\n",
        "                      out_channels=hidden_units,\n",
        "                      kernel_size=3,\n",
        "                      stride=1,\n",
        "                      padding=0),\n",
        "            nn.ReLU(),\n",
        "            nn.Conv2d(in_channels=hidden_units,\n",
        "                      out_channels = hidden_units,\n",
        "                      kernel_size = 3,\n",
        "                      stride = 1,\n",
        "                      padding =0),\n",
        "            nn.ReLU(),\n",
        "            nn.MaxPool2d(kernel_size=2,\n",
        "                         stride = 1)\n",
        "        )\n",
        "\n",
        "        self.conv_block_2 = nn.Sequential(\n",
        "            nn.Conv2d(in_channels=hidden_units,\n",
        "                      out_channels=hidden_units,\n",
        "                      kernel_size=3,\n",
        "                      stride=1,\n",
        "                      padding=0),\n",
        "            nn.ReLU(),\n",
        "            nn.Conv2d(in_channels=hidden_units,\n",
        "                      out_channels = hidden_units,\n",
        "                      kernel_size = 3,\n",
        "                      stride = 1,\n",
        "                      padding =0),\n",
        "            nn.ReLU(),\n",
        "            nn.MaxPool2d(kernel_size=2,\n",
        "                         stride = 2)\n",
        "        )\n",
        "        self.classifier = nn.Sequential(\n",
        "            nn.Flatten(),\n",
        "            nn.Linear(in_features=hidden_units*83*83,\n",
        "                      out_features=output_shape)\n",
        "        )\n",
        "\n",
        "\n",
        "    def forward(self,x):\n",
        "        x = self.conv_block_1(x)\n",
        "        # print(x.shape)\n",
        "        x = self.conv_block_2(x)\n",
        "        # print(x.shape)\n",
        "        x = self.classifier(x)\n",
        "        # print(x.shape)\n",
        "        return x\n",
        "        # return self.classifier(self.conv_block_2(self.conv_block_1(x)))\n"
      ]
    },
    {
      "cell_type": "code",
      "execution_count": null,
      "metadata": {
        "id": "qSA7qYU38ni6"
      },
      "outputs": [],
      "source": [
        "# import torch\n",
        "# import torch.nn as nn\n",
        "\n",
        "# class DEMNet(nn.Module):\n",
        "#     def __init__(self):\n",
        "#         super(DEMNet, self).__init__()\n",
        "\n",
        "#         self.conv1 = nn.Conv2d(3, 16, kernel_size=3, padding=1)\n",
        "#         self.relu = nn.ReLU()\n",
        "#         self.conv2 = nn.Conv2d(16, 16, kernel_size=3, padding=1)\n",
        "#         self.batchnorm = nn.BatchNorm2d(16)\n",
        "#         self.maxpool = nn.MaxPool2d(kernel_size=2, stride=2)\n",
        "\n",
        "#         self.demnet_block1 = self._make_demnet_block(16, 32)\n",
        "#         self.demnet_block2 = self._make_demnet_block(32, 64)\n",
        "#         self.demnet_block3 = self._make_demnet_block(64, 128)\n",
        "#         self.demnet_block4 = self._make_demnet_block(128, 256)\n",
        "\n",
        "#         self.dropout1 = nn.Dropout2d(p=0.5)\n",
        "#         self.dropout2 = nn.Dropout2d(p=0.5)\n",
        "\n",
        "#         self.flatten = nn.Flatten()\n",
        "\n",
        "#         self.fc1 = nn.Linear(6400, 512)\n",
        "#         self.fc2 = nn.Linear(512, 128)\n",
        "#         self.fc3 = nn.Linear(128, 64)\n",
        "#         self.softmax = nn.Softmax(dim=1)\n",
        "\n",
        "#     def _make_demnet_block(self, in_channels, out_channels):\n",
        "#         return nn.Sequential(\n",
        "#             nn.Conv2d(in_channels, out_channels, kernel_size=3, padding=1),\n",
        "#             nn.ReLU(),\n",
        "#             nn.Conv2d(out_channels, out_channels, kernel_size=3, padding=1),\n",
        "#             nn.ReLU(),\n",
        "#             nn.BatchNorm2d(out_channels),\n",
        "#             nn.MaxPool2d(kernel_size=2, stride=2)\n",
        "#         )\n",
        "\n",
        "#     def forward(self, x):\n",
        "#         x = self.relu(self.conv1(x))\n",
        "#         print(x.shape)\n",
        "#         x = self.relu(self.conv2(x))\n",
        "#         print(x.shape)\n",
        "#         # x = self.batchnorm(x)\n",
        "#         x = self.maxpool(x)\n",
        "#         print(x.shape)\n",
        "#         x = self.demnet_block1(x)\n",
        "#         print(x.shape)\n",
        "#         x = self.demnet_block2(x)\n",
        "#         print(x.shape)\n",
        "#         x = self.demnet_block3(x)\n",
        "#         print(x.shape)\n",
        "#         x = self.dropout1(x)\n",
        "#         print(x.shape)\n",
        "\n",
        "#         x = self.demnet_block4(x)\n",
        "#         print(x.shape)\n",
        "#         x = self.dropout2(x)\n",
        "#         print(x.shape)\n",
        "\n",
        "#         x = self.flatten(x)\n",
        "#         print(x.shape)\n",
        "\n",
        "#         x = self.fc1(x)\n",
        "#         print(x.shape)\n",
        "#         x = self.fc2(x)\n",
        "#         print(x.shape)\n",
        "#         x = self.fc3(x)\n",
        "#         print(x.shape)\n",
        "#         x = self.softmax(x)\n",
        "#         print(x.shape)\n",
        "\n",
        "#         return x\n",
        "\n",
        "# # Create an instance of the DEMNet model\n",
        "# model = DEMNet()\n",
        "\n",
        "# # Print the model summary\n",
        "# print(model)\n"
      ]
    },
    {
      "cell_type": "code",
      "execution_count": null,
      "metadata": {
        "id": "i6qXNStrLCZE"
      },
      "outputs": [],
      "source": [
        "class DEMNetBlock(nn.Module):\n",
        "    def __init__(self, in_channels, out_channels):\n",
        "        super(DEMNetBlock, self).__init__()\n",
        "        self.conv1 = nn.Conv2d(in_channels, out_channels, kernel_size=3, padding=1)\n",
        "        self.relu1 = nn.ReLU(inplace=True)\n",
        "        self.conv2 = nn.Conv2d(out_channels, out_channels, kernel_size=3, padding=1)\n",
        "        self.relu2 = nn.ReLU(inplace=True)\n",
        "        self.batchnorm = nn.BatchNorm2d(out_channels)\n",
        "        self.maxpool = nn.MaxPool2d(kernel_size=2, stride=2)\n",
        "\n",
        "    def forward(self, x):\n",
        "        out = self.conv1(x)\n",
        "        out = self.relu1(out)\n",
        "        out = self.conv2(out)\n",
        "        out = self.relu2(out)\n",
        "        out = self.batchnorm(out)\n",
        "        out = self.maxpool(out)\n",
        "        return out\n",
        "\n",
        "class DEMNet(nn.Module):\n",
        "    def __init__(self, num_classes=4):\n",
        "        super(DEMNet, self).__init__()\n",
        "        self.conv1 = nn.Conv2d(3, 16, kernel_size=3, padding=1)\n",
        "        self.relu1 = nn.ReLU(inplace=True)\n",
        "        self.conv2 = nn.Conv2d(16, 16, kernel_size=3, padding=1)\n",
        "        self.relu2 = nn.ReLU(inplace=True)\n",
        "        self.maxpool = nn.MaxPool2d(kernel_size=2, stride=2)\n",
        "\n",
        "        self.block1 = DEMNetBlock(16, 32)\n",
        "        self.block2 = DEMNetBlock(32, 64)\n",
        "        self.block3 = DEMNetBlock(64, 128)\n",
        "        self.dropout1 = nn.Dropout2d(p=0.5)\n",
        "        self.block4 = DEMNetBlock(128, 256)\n",
        "        self.dropout2 = nn.Dropout2d(p=0.5)\n",
        "\n",
        "        self.flatten = nn.Flatten()\n",
        "\n",
        "        # Adjust the input size of the first fully connected layer\n",
        "\n",
        "        self.fc1 = nn.Linear(6400, 512)\n",
        "        self.dropout3 = nn.Dropout2d(p=0.7)\n",
        "        self.fc2 = nn.Linear(512, 128)\n",
        "        self.dropout4 = nn.Dropout2d(p=0.5)\n",
        "        self.fc3 = nn.Linear(128, 64)\n",
        "        self.dropout5 = nn.Dropout2d(p=0.2)\n",
        "        # self.softmax = nn.Softmax(1,4)\n",
        "        # self.fc1 = nn.Linear(256 * 22 * 22, 1024)\n",
        "        # self.fc2 = nn.Linear(1024, 512)\n",
        "        # self.fc3 = nn.Linear(512, 128)\n",
        "        self.fc4 = nn.Linear(64, num_classes)\n",
        "        # self.softmax = nn.Softmax(dim=1)\n",
        "\n",
        "    def forward(self, x):\n",
        "        out = self.conv1(x)\n",
        "        # print(out.shape)\n",
        "        out = self.relu1(out)\n",
        "        # print(out.shape)\n",
        "        out = self.conv2(out)\n",
        "        # print(out.shape)\n",
        "        out = self.relu2(out)\n",
        "        # print(out.shape)\n",
        "        out = self.maxpool(out)\n",
        "        # print(out.shape)\n",
        "\n",
        "        out = self.block1(out)\n",
        "        # print(out.shape)\n",
        "        out = self.block2(out)\n",
        "        # print(out.shape)\n",
        "        out = self.block3(out)\n",
        "        # print(out.shape)\n",
        "        out = self.dropout1(out)\n",
        "        # print(out.shape)\n",
        "        out = self.block4(out)\n",
        "        # print(out.shape)\n",
        "        out = self.dropout2(out)\n",
        "        # print(out.shape)\n",
        "\n",
        "        out = self.flatten(out)\n",
        "        # print(out.shape)\n",
        "        out = self.fc1(out)\n",
        "        out = self.dropout3(out)\n",
        "        # print(out.shape)\n",
        "        out = self.fc2(out)\n",
        "        out = self.dropout4(out)\n",
        "        # print(out.shape)\n",
        "        out = self.fc3(out)\n",
        "        out = self.dropout5(out)\n",
        "        # print(out.shape)\n",
        "        out = self.fc4(out)\n",
        "\n",
        "        return out"
      ]
    },
    {
      "cell_type": "code",
      "execution_count": null,
      "metadata": {
        "colab": {
          "base_uri": "https://localhost:8080/"
        },
        "id": "FgfvehEjJfMG",
        "outputId": "ee9accfd-af27-45e1-c529-3d2013b5ba9b"
      },
      "outputs": [
        {
          "output_type": "execute_result",
          "data": {
            "text/plain": [
              "DEMNet(\n",
              "  (conv1): Conv2d(3, 16, kernel_size=(3, 3), stride=(1, 1), padding=(1, 1))\n",
              "  (relu1): ReLU(inplace=True)\n",
              "  (conv2): Conv2d(16, 16, kernel_size=(3, 3), stride=(1, 1), padding=(1, 1))\n",
              "  (relu2): ReLU(inplace=True)\n",
              "  (maxpool): MaxPool2d(kernel_size=2, stride=2, padding=0, dilation=1, ceil_mode=False)\n",
              "  (block1): DEMNetBlock(\n",
              "    (conv1): Conv2d(16, 32, kernel_size=(3, 3), stride=(1, 1), padding=(1, 1))\n",
              "    (relu1): ReLU(inplace=True)\n",
              "    (conv2): Conv2d(32, 32, kernel_size=(3, 3), stride=(1, 1), padding=(1, 1))\n",
              "    (relu2): ReLU(inplace=True)\n",
              "    (batchnorm): BatchNorm2d(32, eps=1e-05, momentum=0.1, affine=True, track_running_stats=True)\n",
              "    (maxpool): MaxPool2d(kernel_size=2, stride=2, padding=0, dilation=1, ceil_mode=False)\n",
              "  )\n",
              "  (block2): DEMNetBlock(\n",
              "    (conv1): Conv2d(32, 64, kernel_size=(3, 3), stride=(1, 1), padding=(1, 1))\n",
              "    (relu1): ReLU(inplace=True)\n",
              "    (conv2): Conv2d(64, 64, kernel_size=(3, 3), stride=(1, 1), padding=(1, 1))\n",
              "    (relu2): ReLU(inplace=True)\n",
              "    (batchnorm): BatchNorm2d(64, eps=1e-05, momentum=0.1, affine=True, track_running_stats=True)\n",
              "    (maxpool): MaxPool2d(kernel_size=2, stride=2, padding=0, dilation=1, ceil_mode=False)\n",
              "  )\n",
              "  (block3): DEMNetBlock(\n",
              "    (conv1): Conv2d(64, 128, kernel_size=(3, 3), stride=(1, 1), padding=(1, 1))\n",
              "    (relu1): ReLU(inplace=True)\n",
              "    (conv2): Conv2d(128, 128, kernel_size=(3, 3), stride=(1, 1), padding=(1, 1))\n",
              "    (relu2): ReLU(inplace=True)\n",
              "    (batchnorm): BatchNorm2d(128, eps=1e-05, momentum=0.1, affine=True, track_running_stats=True)\n",
              "    (maxpool): MaxPool2d(kernel_size=2, stride=2, padding=0, dilation=1, ceil_mode=False)\n",
              "  )\n",
              "  (dropout1): Dropout2d(p=0.5, inplace=False)\n",
              "  (block4): DEMNetBlock(\n",
              "    (conv1): Conv2d(128, 256, kernel_size=(3, 3), stride=(1, 1), padding=(1, 1))\n",
              "    (relu1): ReLU(inplace=True)\n",
              "    (conv2): Conv2d(256, 256, kernel_size=(3, 3), stride=(1, 1), padding=(1, 1))\n",
              "    (relu2): ReLU(inplace=True)\n",
              "    (batchnorm): BatchNorm2d(256, eps=1e-05, momentum=0.1, affine=True, track_running_stats=True)\n",
              "    (maxpool): MaxPool2d(kernel_size=2, stride=2, padding=0, dilation=1, ceil_mode=False)\n",
              "  )\n",
              "  (dropout2): Dropout2d(p=0.5, inplace=False)\n",
              "  (flatten): Flatten(start_dim=1, end_dim=-1)\n",
              "  (fc1): Linear(in_features=6400, out_features=512, bias=True)\n",
              "  (dropout3): Dropout2d(p=0.7, inplace=False)\n",
              "  (fc2): Linear(in_features=512, out_features=128, bias=True)\n",
              "  (dropout4): Dropout2d(p=0.5, inplace=False)\n",
              "  (fc3): Linear(in_features=128, out_features=64, bias=True)\n",
              "  (dropout5): Dropout2d(p=0.2, inplace=False)\n",
              "  (fc4): Linear(in_features=64, out_features=4, bias=True)\n",
              ")"
            ]
          },
          "metadata": {},
          "execution_count": 110
        }
      ],
      "source": [
        "torch.manual_seed(42)\n",
        "# model_0 = TinyVGG(input_shape=3,\n",
        "#                   hidden_units=10,\n",
        "#                   output_shape=len(class_names)).to(device)\n",
        "\n",
        "# model_0\n",
        "model_0 = DEMNet(num_classes=4).to(device)\n",
        "model_0"
      ]
    },
    {
      "cell_type": "code",
      "execution_count": null,
      "metadata": {
        "colab": {
          "base_uri": "https://localhost:8080/"
        },
        "id": "m5JA5Ko6JiWq",
        "outputId": "dc896e71-5ebc-4e17-ce8e-58e914f40e5c"
      },
      "outputs": [
        {
          "output_type": "execute_result",
          "data": {
            "text/plain": [
              "(torch.Size([16, 3, 176, 176]), torch.Size([16]))"
            ]
          },
          "metadata": {},
          "execution_count": 111
        }
      ],
      "source": [
        "image_batch , label_batch = next(iter(train_dataloader))\n",
        "image_batch.shape , label_batch.shape"
      ]
    },
    {
      "cell_type": "code",
      "execution_count": null,
      "metadata": {
        "colab": {
          "base_uri": "https://localhost:8080/"
        },
        "id": "LN1OvNRdJkPj",
        "outputId": "ec563b26-87ab-429c-e101-5513745f8f6b"
      },
      "outputs": [
        {
          "output_type": "stream",
          "name": "stderr",
          "text": [
            "/usr/local/lib/python3.10/dist-packages/torch/nn/functional.py:1331: UserWarning: dropout2d: Received a 2-D input to dropout2d, which is deprecated and will result in an error in a future release. To retain the behavior and silence this warning, please use dropout instead. Note that dropout2d exists to provide channel-wise dropout on inputs with 2 spatial dimensions, a channel dimension, and an optional batch dimension (i.e. 3D or 4D inputs).\n",
            "  warnings.warn(warn_msg)\n"
          ]
        },
        {
          "output_type": "execute_result",
          "data": {
            "text/plain": [
              "tensor([[ 0.9977, -0.3725, -0.7369,  0.1103],\n",
              "        [-1.3375,  0.4522, -0.2817, -0.3207],\n",
              "        [-0.0286, -0.4002, -0.3657, -0.5688],\n",
              "        [-0.6263,  0.2065, -0.2694,  0.7104],\n",
              "        [-0.7547,  0.3272,  0.3293,  1.3505],\n",
              "        [-0.1105, -0.6919, -0.9010, -0.2165],\n",
              "        [ 0.4100,  0.1572,  0.0647,  0.4237],\n",
              "        [-0.4367, -0.0055,  0.1429, -0.8831],\n",
              "        [-0.8001, -0.5174,  0.4713, -0.6703],\n",
              "        [-1.3432,  0.3704,  1.2959, -1.2422],\n",
              "        [-0.3022, -0.1493,  0.1847, -1.1298],\n",
              "        [ 0.0535,  1.9238, -0.9125,  0.4787],\n",
              "        [-0.6181, -0.7590,  0.2427, -0.6327],\n",
              "        [-0.6472, -0.5705,  0.3085, -0.3077],\n",
              "        [ 1.4163,  0.2776, -0.2260,  0.1094],\n",
              "        [ 0.8471,  0.3805, -1.0787,  0.1469]], device='cuda:0',\n",
              "       grad_fn=<AddmmBackward0>)"
            ]
          },
          "metadata": {},
          "execution_count": 112
        }
      ],
      "source": [
        "model_0(image_batch.to(device))"
      ]
    },
    {
      "cell_type": "code",
      "execution_count": null,
      "metadata": {
        "colab": {
          "base_uri": "https://localhost:8080/"
        },
        "id": "J_G2G08N2GHx",
        "outputId": "1f818f10-dd04-4b71-c92d-f6bf748ffea5"
      },
      "outputs": [
        {
          "output_type": "stream",
          "name": "stdout",
          "text": [
            "Looking in indexes: https://pypi.org/simple, https://us-python.pkg.dev/colab-wheels/public/simple/\n",
            "Requirement already satisfied: torchinfo in /usr/local/lib/python3.10/dist-packages (1.8.0)\n"
          ]
        }
      ],
      "source": [
        "!pip install torchinfo"
      ]
    },
    {
      "cell_type": "code",
      "execution_count": null,
      "metadata": {
        "id": "dwOL82MEJlQs"
      },
      "outputs": [],
      "source": [
        "import torchinfo"
      ]
    },
    {
      "cell_type": "code",
      "execution_count": null,
      "metadata": {
        "id": "k644NffVJmE-"
      },
      "outputs": [],
      "source": [
        "from torchinfo import summary"
      ]
    },
    {
      "cell_type": "code",
      "execution_count": null,
      "metadata": {
        "colab": {
          "base_uri": "https://localhost:8080/"
        },
        "id": "zFYC2qJEJnRH",
        "outputId": "f4294aae-96ce-4356-e0c8-b5989143e318"
      },
      "outputs": [
        {
          "output_type": "execute_result",
          "data": {
            "text/plain": [
              "==========================================================================================\n",
              "Layer (type:depth-idx)                   Output Shape              Param #\n",
              "==========================================================================================\n",
              "DEMNet                                   [1, 4]                    --\n",
              "├─Conv2d: 1-1                            [1, 16, 176, 176]         448\n",
              "├─ReLU: 1-2                              [1, 16, 176, 176]         --\n",
              "├─Conv2d: 1-3                            [1, 16, 176, 176]         2,320\n",
              "├─ReLU: 1-4                              [1, 16, 176, 176]         --\n",
              "├─MaxPool2d: 1-5                         [1, 16, 88, 88]           --\n",
              "├─DEMNetBlock: 1-6                       [1, 32, 44, 44]           --\n",
              "│    └─Conv2d: 2-1                       [1, 32, 88, 88]           4,640\n",
              "│    └─ReLU: 2-2                         [1, 32, 88, 88]           --\n",
              "│    └─Conv2d: 2-3                       [1, 32, 88, 88]           9,248\n",
              "│    └─ReLU: 2-4                         [1, 32, 88, 88]           --\n",
              "│    └─BatchNorm2d: 2-5                  [1, 32, 88, 88]           64\n",
              "│    └─MaxPool2d: 2-6                    [1, 32, 44, 44]           --\n",
              "├─DEMNetBlock: 1-7                       [1, 64, 22, 22]           --\n",
              "│    └─Conv2d: 2-7                       [1, 64, 44, 44]           18,496\n",
              "│    └─ReLU: 2-8                         [1, 64, 44, 44]           --\n",
              "│    └─Conv2d: 2-9                       [1, 64, 44, 44]           36,928\n",
              "│    └─ReLU: 2-10                        [1, 64, 44, 44]           --\n",
              "│    └─BatchNorm2d: 2-11                 [1, 64, 44, 44]           128\n",
              "│    └─MaxPool2d: 2-12                   [1, 64, 22, 22]           --\n",
              "├─DEMNetBlock: 1-8                       [1, 128, 11, 11]          --\n",
              "│    └─Conv2d: 2-13                      [1, 128, 22, 22]          73,856\n",
              "│    └─ReLU: 2-14                        [1, 128, 22, 22]          --\n",
              "│    └─Conv2d: 2-15                      [1, 128, 22, 22]          147,584\n",
              "│    └─ReLU: 2-16                        [1, 128, 22, 22]          --\n",
              "│    └─BatchNorm2d: 2-17                 [1, 128, 22, 22]          256\n",
              "│    └─MaxPool2d: 2-18                   [1, 128, 11, 11]          --\n",
              "├─Dropout2d: 1-9                         [1, 128, 11, 11]          --\n",
              "├─DEMNetBlock: 1-10                      [1, 256, 5, 5]            --\n",
              "│    └─Conv2d: 2-19                      [1, 256, 11, 11]          295,168\n",
              "│    └─ReLU: 2-20                        [1, 256, 11, 11]          --\n",
              "│    └─Conv2d: 2-21                      [1, 256, 11, 11]          590,080\n",
              "│    └─ReLU: 2-22                        [1, 256, 11, 11]          --\n",
              "│    └─BatchNorm2d: 2-23                 [1, 256, 11, 11]          512\n",
              "│    └─MaxPool2d: 2-24                   [1, 256, 5, 5]            --\n",
              "├─Dropout2d: 1-11                        [1, 256, 5, 5]            --\n",
              "├─Flatten: 1-12                          [1, 6400]                 --\n",
              "├─Linear: 1-13                           [1, 512]                  3,277,312\n",
              "├─Dropout2d: 1-14                        [1, 512]                  --\n",
              "├─Linear: 1-15                           [1, 128]                  65,664\n",
              "├─Dropout2d: 1-16                        [1, 128]                  --\n",
              "├─Linear: 1-17                           [1, 64]                   8,256\n",
              "├─Dropout2d: 1-18                        [1, 64]                   --\n",
              "├─Linear: 1-19                           [1, 4]                    260\n",
              "==========================================================================================\n",
              "Total params: 4,531,220\n",
              "Trainable params: 4,531,220\n",
              "Non-trainable params: 0\n",
              "Total mult-adds (M): 518.24\n",
              "==========================================================================================\n",
              "Input size (MB): 0.37\n",
              "Forward/backward pass size (MB): 19.09\n",
              "Params size (MB): 18.12\n",
              "Estimated Total Size (MB): 37.58\n",
              "=========================================================================================="
            ]
          },
          "metadata": {},
          "execution_count": 116
        }
      ],
      "source": [
        "summary(model_0,input_size = [1,3,176,176])"
      ]
    },
    {
      "cell_type": "code",
      "execution_count": null,
      "metadata": {
        "id": "z4l78fZwiA8S"
      },
      "outputs": [],
      "source": [
        "import torch.optim as optim\n",
        "from torchvision.transforms import transforms"
      ]
    },
    {
      "cell_type": "code",
      "execution_count": null,
      "metadata": {
        "id": "1TElW_MfJuat"
      },
      "outputs": [],
      "source": [
        "def train_step(model:torch.nn.Module,dataloader:torch.utils.data.DataLoader,loss_fn:torch.nn.Module,\n",
        "                optimizer:torch.optim.RMSprop,device=device):\n",
        "    model.train()\n",
        "    train_loss,train_acc = 0,0\n",
        "    # scheduler = optim.lr_scheduler.ReduceLROnPlateau(optimizer, factor=0.1,patience=5)\n",
        "    for batch,(X,y) in enumerate(dataloader):\n",
        "        X,y = X.to(device),y.to(device)\n",
        "        y_pred = model(X)\n",
        "        loss = loss_fn(y_pred,y)\n",
        "        l1_regularization = torch.tensor(0.,device=device)\n",
        "        for param in model.parameters():\n",
        "            l1_regularization += torch.norm(param, 1)\n",
        "        l1_lambda = 0.001\n",
        "        loss += l1_lambda * l1_regularization\n",
        "        train_loss+=loss.item()\n",
        "        optimizer.zero_grad()\n",
        "        loss.backward()\n",
        "        optimizer.step()\n",
        "\n",
        "        y_pred_class = torch.argmax(torch.softmax(y_pred,dim=1),dim=1)\n",
        "        train_acc += ((y_pred_class==y).sum().item()/len(y_pred))\n",
        "\n",
        "    train_loss = train_loss / len(dataloader)\n",
        "    train_acc = train_acc / len(dataloader)\n",
        "    # scheduler.step(train_loss)\n",
        "    return train_loss,train_acc"
      ]
    },
    {
      "cell_type": "code",
      "execution_count": null,
      "metadata": {
        "id": "eNUh6RQuJvqv"
      },
      "outputs": [],
      "source": [
        "def test_step(model:torch.nn.Module,dataloader:torch.utils.data.DataLoader,loss_fn:torch.nn.Module,\n",
        "                device=device):\n",
        "    model.eval()\n",
        "    test_loss,test_acc = 0,0\n",
        "    scheduler = optim.lr_scheduler.ReduceLROnPlateau(optimizer, factor=0.1,patience=5)\n",
        "    with torch.inference_mode():\n",
        "        for batch,(X,y) in enumerate(dataloader):\n",
        "            X,y = X.to(device),y.to(device)\n",
        "            test_pred_logits = model(X)\n",
        "            loss = loss_fn(test_pred_logits,y)\n",
        "            l1_regularization = torch.tensor(0.,device=device)\n",
        "            for param in model.parameters():\n",
        "                l1_regularization += torch.norm(param, 1)\n",
        "            l1_lambda = 0.001\n",
        "            loss += l1_lambda * l1_regularization\n",
        "            test_loss+=loss.item()\n",
        "\n",
        "            test_pred_labels =test_pred_logits.argmax(dim=1)\n",
        "            test_acc += ((test_pred_labels==y).sum().item()/len(test_pred_labels))\n",
        "\n",
        "        test_loss = test_loss / len(dataloader)\n",
        "        test_acc = test_acc / len(dataloader)\n",
        "        scheduler.step(test_loss)\n",
        "        return test_loss,test_acc"
      ]
    },
    {
      "cell_type": "code",
      "execution_count": null,
      "metadata": {
        "id": "aIggT9LfJwjL"
      },
      "outputs": [],
      "source": [
        "from tqdm.auto import tqdm\n",
        "\n",
        "def train(mode:torch.nn.Module,\n",
        "          train_dataloader:torch.utils.data.DataLoader,\n",
        "          test_dataloader:torch.utils.data.DataLoader,\n",
        "          optimizer:torch.optim.Optimizer,\n",
        "          loss_fn:torch.nn.Module = nn.CrossEntropyLoss(),\n",
        "            epochs:int = 10,\n",
        "            device=device):\n",
        "    results = {\n",
        "        \"train_loss\":[],\n",
        "        \"train_acc\":[],\n",
        "        \"test_loss\":[],\n",
        "        \"test_acc\":[]\n",
        "    }\n",
        "\n",
        "    for epoch in tqdm(range(epochs)):\n",
        "        train_loss,train_acc = train_step(model_0,train_dataloader,loss_fn,optimizer,device)\n",
        "        test_loss,test_acc = test_step(model_0,test_dataloader,loss_fn,device)\n",
        "        print(f\"Epoch : {epoch} | Train Loss : {train_loss:.4f} | Train Acc : {train_acc:.4f} | Test Loss : {test_loss:.4f} | Test Acc : {test_acc:.4f}\")\n",
        "        results[\"train_loss\"].append(train_loss)\n",
        "        results[\"train_acc\"].append(train_acc)\n",
        "        results[\"test_loss\"].append(test_loss)\n",
        "        results[\"test_acc\"].append(test_acc)\n",
        "\n",
        "    return results"
      ]
    },
    {
      "cell_type": "code",
      "execution_count": null,
      "metadata": {
        "colab": {
          "base_uri": "https://localhost:8080/",
          "height": 1000,
          "referenced_widgets": [
            "8a3ba7d6e97b4ca981a5736276bcfd05",
            "a49028a9f25e4c2490ef9e368a0988f0",
            "7f19ce3098eb45738c3263f8c3e0c692",
            "532e633b50f44e55a1846771569cd891",
            "962da0fe59d84cde8b0af3faca1e178c",
            "f5163b18cc31472bad94d3e615a7f7eb",
            "214f442973084ba7874bfabc8b30dfd7",
            "8b85ce02a87e40f89ef8e56e6ec4ce8f",
            "bbe6ece414794eb296d732cb695e349b",
            "6bea8f6bd96b4aec829982edd95440fc",
            "58d32b382411461ba64982f105ef7d6f"
          ]
        },
        "id": "tLQsVWTtJxct",
        "outputId": "c1223ac6-b196-4614-e317-9e0283a59ef9"
      },
      "outputs": [
        {
          "output_type": "display_data",
          "data": {
            "text/plain": [
              "  0%|          | 0/100 [00:00<?, ?it/s]"
            ],
            "application/vnd.jupyter.widget-view+json": {
              "version_major": 2,
              "version_minor": 0,
              "model_id": "8a3ba7d6e97b4ca981a5736276bcfd05"
            }
          },
          "metadata": {}
        },
        {
          "output_type": "stream",
          "name": "stdout",
          "text": [
            "Epoch : 0 | Train Loss : 9.7802 | Train Acc : 0.3440 | Test Loss : 3.4917 | Test Acc : 0.4129\n",
            "Epoch : 1 | Train Loss : 2.7117 | Train Acc : 0.4688 | Test Loss : 2.5156 | Test Acc : 0.3598\n",
            "Epoch : 2 | Train Loss : 2.2149 | Train Acc : 0.5118 | Test Loss : 3.0436 | Test Acc : 0.2887\n",
            "Epoch : 3 | Train Loss : 2.0370 | Train Acc : 0.5392 | Test Loss : 3.9468 | Test Acc : 0.2648\n",
            "Epoch : 4 | Train Loss : 1.8896 | Train Acc : 0.5521 | Test Loss : 3.3084 | Test Acc : 0.2941\n",
            "Epoch : 5 | Train Loss : 1.7843 | Train Acc : 0.5635 | Test Loss : 2.3200 | Test Acc : 0.4145\n",
            "Epoch : 6 | Train Loss : 1.7735 | Train Acc : 0.5630 | Test Loss : 2.8932 | Test Acc : 0.3805\n",
            "Epoch : 7 | Train Loss : 1.8251 | Train Acc : 0.5693 | Test Loss : 2.8991 | Test Acc : 0.3965\n",
            "Epoch : 8 | Train Loss : 1.6270 | Train Acc : 0.5888 | Test Loss : 3.5259 | Test Acc : 0.4125\n",
            "Epoch : 9 | Train Loss : 1.7840 | Train Acc : 0.5809 | Test Loss : 2.1811 | Test Acc : 0.4598\n",
            "Epoch : 10 | Train Loss : 1.6735 | Train Acc : 0.6026 | Test Loss : 2.7892 | Test Acc : 0.4176\n",
            "Epoch : 11 | Train Loss : 1.6569 | Train Acc : 0.5978 | Test Loss : 3.0488 | Test Acc : 0.3199\n",
            "Epoch : 12 | Train Loss : 1.8058 | Train Acc : 0.5890 | Test Loss : 3.0898 | Test Acc : 0.3719\n",
            "Epoch : 13 | Train Loss : 1.5904 | Train Acc : 0.6200 | Test Loss : 1.9915 | Test Acc : 0.4230\n",
            "Epoch : 14 | Train Loss : 1.5632 | Train Acc : 0.6225 | Test Loss : 2.1234 | Test Acc : 0.4449\n",
            "Epoch : 15 | Train Loss : 1.6248 | Train Acc : 0.6310 | Test Loss : 4.6932 | Test Acc : 0.3367\n",
            "Epoch : 16 | Train Loss : 1.8549 | Train Acc : 0.6078 | Test Loss : 2.3456 | Test Acc : 0.4641\n",
            "Epoch : 17 | Train Loss : 1.5340 | Train Acc : 0.6314 | Test Loss : 1.8971 | Test Acc : 0.5086\n",
            "Epoch : 18 | Train Loss : 1.8365 | Train Acc : 0.6110 | Test Loss : 2.2182 | Test Acc : 0.4730\n",
            "Epoch : 19 | Train Loss : 1.5661 | Train Acc : 0.6433 | Test Loss : 2.5612 | Test Acc : 0.4141\n",
            "Epoch : 20 | Train Loss : 1.6221 | Train Acc : 0.6303 | Test Loss : 3.5693 | Test Acc : 0.3992\n",
            "Epoch : 21 | Train Loss : 1.7251 | Train Acc : 0.6190 | Test Loss : 2.2341 | Test Acc : 0.4133\n",
            "Epoch : 22 | Train Loss : 1.5538 | Train Acc : 0.6455 | Test Loss : 3.7814 | Test Acc : 0.3469\n",
            "Epoch : 23 | Train Loss : 1.7846 | Train Acc : 0.6279 | Test Loss : 2.6755 | Test Acc : 0.4145\n",
            "Epoch : 24 | Train Loss : 1.5782 | Train Acc : 0.6515 | Test Loss : 2.2810 | Test Acc : 0.3918\n",
            "Epoch : 25 | Train Loss : 1.4596 | Train Acc : 0.6647 | Test Loss : 3.4773 | Test Acc : 0.3797\n",
            "Epoch : 26 | Train Loss : 1.7493 | Train Acc : 0.6364 | Test Loss : 2.8135 | Test Acc : 0.3980\n",
            "Epoch : 27 | Train Loss : 1.5275 | Train Acc : 0.6646 | Test Loss : 3.0518 | Test Acc : 0.3816\n",
            "Epoch : 28 | Train Loss : 1.5222 | Train Acc : 0.6576 | Test Loss : 3.1423 | Test Acc : 0.3684\n",
            "Epoch : 29 | Train Loss : 1.4461 | Train Acc : 0.6704 | Test Loss : 2.6036 | Test Acc : 0.2668\n",
            "Epoch : 30 | Train Loss : 1.6492 | Train Acc : 0.6483 | Test Loss : 3.0011 | Test Acc : 0.3957\n",
            "Epoch : 31 | Train Loss : 1.5845 | Train Acc : 0.6609 | Test Loss : 2.6977 | Test Acc : 0.3695\n",
            "Epoch : 32 | Train Loss : 1.6046 | Train Acc : 0.6767 | Test Loss : 2.8357 | Test Acc : 0.4016\n",
            "Epoch : 33 | Train Loss : 1.5991 | Train Acc : 0.6605 | Test Loss : 2.8088 | Test Acc : 0.3160\n",
            "Epoch : 34 | Train Loss : 1.5470 | Train Acc : 0.6792 | Test Loss : 2.5255 | Test Acc : 0.3566\n",
            "Epoch : 35 | Train Loss : 1.4757 | Train Acc : 0.6901 | Test Loss : 2.7158 | Test Acc : 0.3937\n",
            "Epoch : 36 | Train Loss : 1.4512 | Train Acc : 0.6924 | Test Loss : 2.7224 | Test Acc : 0.4141\n",
            "Epoch : 37 | Train Loss : 1.5882 | Train Acc : 0.6893 | Test Loss : 3.5339 | Test Acc : 0.3574\n",
            "Epoch : 38 | Train Loss : 1.5367 | Train Acc : 0.6938 | Test Loss : 2.5794 | Test Acc : 0.4000\n",
            "Epoch : 39 | Train Loss : 1.3967 | Train Acc : 0.7146 | Test Loss : 2.6705 | Test Acc : 0.4078\n",
            "Epoch : 40 | Train Loss : 1.4335 | Train Acc : 0.7021 | Test Loss : 2.9384 | Test Acc : 0.3961\n",
            "Epoch : 41 | Train Loss : 1.4527 | Train Acc : 0.7142 | Test Loss : 2.6660 | Test Acc : 0.3953\n",
            "Epoch : 42 | Train Loss : 1.5805 | Train Acc : 0.7055 | Test Loss : 3.0680 | Test Acc : 0.3809\n",
            "Epoch : 43 | Train Loss : 1.4769 | Train Acc : 0.7098 | Test Loss : 2.8938 | Test Acc : 0.4105\n",
            "Epoch : 44 | Train Loss : 1.4048 | Train Acc : 0.7258 | Test Loss : 2.5969 | Test Acc : 0.4281\n",
            "Epoch : 45 | Train Loss : 1.6229 | Train Acc : 0.6978 | Test Loss : 3.0932 | Test Acc : 0.3766\n",
            "Epoch : 46 | Train Loss : 1.4251 | Train Acc : 0.7290 | Test Loss : 3.7859 | Test Acc : 0.3871\n",
            "Epoch : 47 | Train Loss : 1.4208 | Train Acc : 0.7265 | Test Loss : 2.7745 | Test Acc : 0.4098\n",
            "Epoch : 48 | Train Loss : 1.5424 | Train Acc : 0.7200 | Test Loss : 2.9822 | Test Acc : 0.3898\n",
            "Epoch : 49 | Train Loss : 1.4958 | Train Acc : 0.7256 | Test Loss : 3.5653 | Test Acc : 0.3699\n",
            "Epoch : 50 | Train Loss : 1.3840 | Train Acc : 0.7351 | Test Loss : 3.0747 | Test Acc : 0.4039\n",
            "Epoch : 51 | Train Loss : 1.4710 | Train Acc : 0.7252 | Test Loss : 3.8346 | Test Acc : 0.3672\n",
            "Epoch : 52 | Train Loss : 1.4352 | Train Acc : 0.7241 | Test Loss : 2.8622 | Test Acc : 0.3336\n",
            "Epoch : 53 | Train Loss : 1.4160 | Train Acc : 0.7362 | Test Loss : 2.9284 | Test Acc : 0.4051\n",
            "Epoch : 54 | Train Loss : 1.4223 | Train Acc : 0.7396 | Test Loss : 2.6800 | Test Acc : 0.4117\n",
            "Epoch : 55 | Train Loss : 1.5665 | Train Acc : 0.7194 | Test Loss : 2.7862 | Test Acc : 0.3891\n",
            "Epoch : 56 | Train Loss : 1.4008 | Train Acc : 0.7373 | Test Loss : 3.2466 | Test Acc : 0.3937\n",
            "Epoch : 57 | Train Loss : 1.3948 | Train Acc : 0.7443 | Test Loss : 3.4403 | Test Acc : 0.4070\n",
            "Epoch : 58 | Train Loss : 1.4885 | Train Acc : 0.7341 | Test Loss : 3.0936 | Test Acc : 0.3906\n",
            "Epoch : 59 | Train Loss : 1.4101 | Train Acc : 0.7409 | Test Loss : 2.9035 | Test Acc : 0.3844\n",
            "Epoch : 60 | Train Loss : 1.6689 | Train Acc : 0.7102 | Test Loss : 2.9107 | Test Acc : 0.4129\n",
            "Epoch : 61 | Train Loss : 1.4726 | Train Acc : 0.7433 | Test Loss : 3.4667 | Test Acc : 0.3930\n",
            "Epoch : 62 | Train Loss : 1.3708 | Train Acc : 0.7534 | Test Loss : 3.3585 | Test Acc : 0.3949\n",
            "Epoch : 63 | Train Loss : 1.5128 | Train Acc : 0.7342 | Test Loss : 4.2445 | Test Acc : 0.3695\n",
            "Epoch : 64 | Train Loss : 1.4773 | Train Acc : 0.7355 | Test Loss : 4.0042 | Test Acc : 0.3777\n",
            "Epoch : 65 | Train Loss : 1.3862 | Train Acc : 0.7470 | Test Loss : 3.2296 | Test Acc : 0.4012\n",
            "Epoch : 66 | Train Loss : 2.0203 | Train Acc : 0.7076 | Test Loss : 3.5762 | Test Acc : 0.3926\n",
            "Epoch : 67 | Train Loss : 1.5234 | Train Acc : 0.7401 | Test Loss : 4.2357 | Test Acc : 0.3742\n",
            "Epoch : 68 | Train Loss : 1.4211 | Train Acc : 0.7507 | Test Loss : 2.8380 | Test Acc : 0.3980\n",
            "Epoch : 69 | Train Loss : 1.3518 | Train Acc : 0.7611 | Test Loss : 3.3728 | Test Acc : 0.3855\n",
            "Epoch : 70 | Train Loss : 1.3862 | Train Acc : 0.7555 | Test Loss : 3.2608 | Test Acc : 0.3660\n",
            "Epoch : 71 | Train Loss : 1.4485 | Train Acc : 0.7492 | Test Loss : 7.4886 | Test Acc : 0.3211\n",
            "Epoch : 72 | Train Loss : 1.4201 | Train Acc : 0.7546 | Test Loss : 3.9556 | Test Acc : 0.3895\n",
            "Epoch : 73 | Train Loss : 1.4255 | Train Acc : 0.7525 | Test Loss : 3.2880 | Test Acc : 0.3953\n",
            "Epoch : 74 | Train Loss : 1.4025 | Train Acc : 0.7477 | Test Loss : 3.2874 | Test Acc : 0.4219\n",
            "Epoch : 75 | Train Loss : 1.3710 | Train Acc : 0.7670 | Test Loss : 3.8969 | Test Acc : 0.3980\n",
            "Epoch : 76 | Train Loss : 2.2717 | Train Acc : 0.6760 | Test Loss : 3.1549 | Test Acc : 0.3918\n",
            "Epoch : 77 | Train Loss : 1.5472 | Train Acc : 0.7437 | Test Loss : 3.3215 | Test Acc : 0.3992\n",
            "Epoch : 78 | Train Loss : 1.4402 | Train Acc : 0.7467 | Test Loss : 2.9646 | Test Acc : 0.3937\n",
            "Epoch : 79 | Train Loss : 1.4372 | Train Acc : 0.7480 | Test Loss : 3.5447 | Test Acc : 0.3766\n",
            "Epoch : 80 | Train Loss : 1.4083 | Train Acc : 0.7458 | Test Loss : 4.9164 | Test Acc : 0.3523\n",
            "Epoch : 81 | Train Loss : 1.5359 | Train Acc : 0.7264 | Test Loss : 3.9153 | Test Acc : 0.3820\n",
            "Epoch : 82 | Train Loss : 1.3735 | Train Acc : 0.7573 | Test Loss : 3.7665 | Test Acc : 0.3980\n",
            "Epoch : 83 | Train Loss : 1.4630 | Train Acc : 0.7485 | Test Loss : 5.0485 | Test Acc : 0.3703\n"
          ]
        },
        {
          "output_type": "error",
          "ename": "KeyboardInterrupt",
          "evalue": "ignored",
          "traceback": [
            "\u001b[0;31m---------------------------------------------------------------------------\u001b[0m",
            "\u001b[0;31mKeyboardInterrupt\u001b[0m                         Traceback (most recent call last)",
            "\u001b[0;32m<ipython-input-121-2b3263df48ab>\u001b[0m in \u001b[0;36m<cell line: 22>\u001b[0;34m()\u001b[0m\n\u001b[1;32m     20\u001b[0m \u001b[0;34m\u001b[0m\u001b[0m\n\u001b[1;32m     21\u001b[0m \u001b[0;34m\u001b[0m\u001b[0m\n\u001b[0;32m---> 22\u001b[0;31m \u001b[0mmodel_0_results\u001b[0m \u001b[0;34m=\u001b[0m \u001b[0mtrain\u001b[0m\u001b[0;34m(\u001b[0m\u001b[0mmodel_0\u001b[0m\u001b[0;34m,\u001b[0m\u001b[0mtrain_dataloader\u001b[0m\u001b[0;34m,\u001b[0m\u001b[0mtest_dataloader\u001b[0m\u001b[0;34m,\u001b[0m\u001b[0moptimizer\u001b[0m\u001b[0;34m,\u001b[0m\u001b[0mloss_fn\u001b[0m\u001b[0;34m,\u001b[0m\u001b[0mNUM_EPOCHS\u001b[0m\u001b[0;34m,\u001b[0m\u001b[0mdevice\u001b[0m\u001b[0;34m)\u001b[0m\u001b[0;34m\u001b[0m\u001b[0;34m\u001b[0m\u001b[0m\n\u001b[0m\u001b[1;32m     23\u001b[0m \u001b[0mend_time\u001b[0m \u001b[0;34m=\u001b[0m \u001b[0mtimer\u001b[0m\u001b[0;34m(\u001b[0m\u001b[0;34m)\u001b[0m\u001b[0;34m\u001b[0m\u001b[0;34m\u001b[0m\u001b[0m\n\u001b[1;32m     24\u001b[0m \u001b[0;34m\u001b[0m\u001b[0m\n",
            "\u001b[0;32m<ipython-input-120-d2b1f2dbd97c>\u001b[0m in \u001b[0;36mtrain\u001b[0;34m(mode, train_dataloader, test_dataloader, optimizer, loss_fn, epochs, device)\u001b[0m\n\u001b[1;32m     16\u001b[0m \u001b[0;34m\u001b[0m\u001b[0m\n\u001b[1;32m     17\u001b[0m     \u001b[0;32mfor\u001b[0m \u001b[0mepoch\u001b[0m \u001b[0;32min\u001b[0m \u001b[0mtqdm\u001b[0m\u001b[0;34m(\u001b[0m\u001b[0mrange\u001b[0m\u001b[0;34m(\u001b[0m\u001b[0mepochs\u001b[0m\u001b[0;34m)\u001b[0m\u001b[0;34m)\u001b[0m\u001b[0;34m:\u001b[0m\u001b[0;34m\u001b[0m\u001b[0;34m\u001b[0m\u001b[0m\n\u001b[0;32m---> 18\u001b[0;31m         \u001b[0mtrain_loss\u001b[0m\u001b[0;34m,\u001b[0m\u001b[0mtrain_acc\u001b[0m \u001b[0;34m=\u001b[0m \u001b[0mtrain_step\u001b[0m\u001b[0;34m(\u001b[0m\u001b[0mmodel_0\u001b[0m\u001b[0;34m,\u001b[0m\u001b[0mtrain_dataloader\u001b[0m\u001b[0;34m,\u001b[0m\u001b[0mloss_fn\u001b[0m\u001b[0;34m,\u001b[0m\u001b[0moptimizer\u001b[0m\u001b[0;34m,\u001b[0m\u001b[0mdevice\u001b[0m\u001b[0;34m)\u001b[0m\u001b[0;34m\u001b[0m\u001b[0;34m\u001b[0m\u001b[0m\n\u001b[0m\u001b[1;32m     19\u001b[0m         \u001b[0mtest_loss\u001b[0m\u001b[0;34m,\u001b[0m\u001b[0mtest_acc\u001b[0m \u001b[0;34m=\u001b[0m \u001b[0mtest_step\u001b[0m\u001b[0;34m(\u001b[0m\u001b[0mmodel_0\u001b[0m\u001b[0;34m,\u001b[0m\u001b[0mtest_dataloader\u001b[0m\u001b[0;34m,\u001b[0m\u001b[0mloss_fn\u001b[0m\u001b[0;34m,\u001b[0m\u001b[0mdevice\u001b[0m\u001b[0;34m)\u001b[0m\u001b[0;34m\u001b[0m\u001b[0;34m\u001b[0m\u001b[0m\n\u001b[1;32m     20\u001b[0m         \u001b[0mprint\u001b[0m\u001b[0;34m(\u001b[0m\u001b[0;34mf\"Epoch : {epoch} | Train Loss : {train_loss:.4f} | Train Acc : {train_acc:.4f} | Test Loss : {test_loss:.4f} | Test Acc : {test_acc:.4f}\"\u001b[0m\u001b[0;34m)\u001b[0m\u001b[0;34m\u001b[0m\u001b[0;34m\u001b[0m\u001b[0m\n",
            "\u001b[0;32m<ipython-input-118-12e680e443e5>\u001b[0m in \u001b[0;36mtrain_step\u001b[0;34m(model, dataloader, loss_fn, optimizer, device)\u001b[0m\n\u001b[1;32m      6\u001b[0m     \u001b[0;32mfor\u001b[0m \u001b[0mbatch\u001b[0m\u001b[0;34m,\u001b[0m\u001b[0;34m(\u001b[0m\u001b[0mX\u001b[0m\u001b[0;34m,\u001b[0m\u001b[0my\u001b[0m\u001b[0;34m)\u001b[0m \u001b[0;32min\u001b[0m \u001b[0menumerate\u001b[0m\u001b[0;34m(\u001b[0m\u001b[0mdataloader\u001b[0m\u001b[0;34m)\u001b[0m\u001b[0;34m:\u001b[0m\u001b[0;34m\u001b[0m\u001b[0;34m\u001b[0m\u001b[0m\n\u001b[1;32m      7\u001b[0m         \u001b[0mX\u001b[0m\u001b[0;34m,\u001b[0m\u001b[0my\u001b[0m \u001b[0;34m=\u001b[0m \u001b[0mX\u001b[0m\u001b[0;34m.\u001b[0m\u001b[0mto\u001b[0m\u001b[0;34m(\u001b[0m\u001b[0mdevice\u001b[0m\u001b[0;34m)\u001b[0m\u001b[0;34m,\u001b[0m\u001b[0my\u001b[0m\u001b[0;34m.\u001b[0m\u001b[0mto\u001b[0m\u001b[0;34m(\u001b[0m\u001b[0mdevice\u001b[0m\u001b[0;34m)\u001b[0m\u001b[0;34m\u001b[0m\u001b[0;34m\u001b[0m\u001b[0m\n\u001b[0;32m----> 8\u001b[0;31m         \u001b[0my_pred\u001b[0m \u001b[0;34m=\u001b[0m \u001b[0mmodel\u001b[0m\u001b[0;34m(\u001b[0m\u001b[0mX\u001b[0m\u001b[0;34m)\u001b[0m\u001b[0;34m\u001b[0m\u001b[0;34m\u001b[0m\u001b[0m\n\u001b[0m\u001b[1;32m      9\u001b[0m         \u001b[0mloss\u001b[0m \u001b[0;34m=\u001b[0m \u001b[0mloss_fn\u001b[0m\u001b[0;34m(\u001b[0m\u001b[0my_pred\u001b[0m\u001b[0;34m,\u001b[0m\u001b[0my\u001b[0m\u001b[0;34m)\u001b[0m\u001b[0;34m\u001b[0m\u001b[0;34m\u001b[0m\u001b[0m\n\u001b[1;32m     10\u001b[0m         \u001b[0ml1_regularization\u001b[0m \u001b[0;34m=\u001b[0m \u001b[0mtorch\u001b[0m\u001b[0;34m.\u001b[0m\u001b[0mtensor\u001b[0m\u001b[0;34m(\u001b[0m\u001b[0;36m0.\u001b[0m\u001b[0;34m,\u001b[0m\u001b[0mdevice\u001b[0m\u001b[0;34m=\u001b[0m\u001b[0mdevice\u001b[0m\u001b[0;34m)\u001b[0m\u001b[0;34m\u001b[0m\u001b[0;34m\u001b[0m\u001b[0m\n",
            "\u001b[0;32m/usr/local/lib/python3.10/dist-packages/torch/nn/modules/module.py\u001b[0m in \u001b[0;36m_call_impl\u001b[0;34m(self, *args, **kwargs)\u001b[0m\n\u001b[1;32m   1499\u001b[0m                 \u001b[0;32mor\u001b[0m \u001b[0m_global_backward_pre_hooks\u001b[0m \u001b[0;32mor\u001b[0m \u001b[0m_global_backward_hooks\u001b[0m\u001b[0;34m\u001b[0m\u001b[0;34m\u001b[0m\u001b[0m\n\u001b[1;32m   1500\u001b[0m                 or _global_forward_hooks or _global_forward_pre_hooks):\n\u001b[0;32m-> 1501\u001b[0;31m             \u001b[0;32mreturn\u001b[0m \u001b[0mforward_call\u001b[0m\u001b[0;34m(\u001b[0m\u001b[0;34m*\u001b[0m\u001b[0margs\u001b[0m\u001b[0;34m,\u001b[0m \u001b[0;34m**\u001b[0m\u001b[0mkwargs\u001b[0m\u001b[0;34m)\u001b[0m\u001b[0;34m\u001b[0m\u001b[0;34m\u001b[0m\u001b[0m\n\u001b[0m\u001b[1;32m   1502\u001b[0m         \u001b[0;31m# Do not call functions when jit is used\u001b[0m\u001b[0;34m\u001b[0m\u001b[0;34m\u001b[0m\u001b[0m\n\u001b[1;32m   1503\u001b[0m         \u001b[0mfull_backward_hooks\u001b[0m\u001b[0;34m,\u001b[0m \u001b[0mnon_full_backward_hooks\u001b[0m \u001b[0;34m=\u001b[0m \u001b[0;34m[\u001b[0m\u001b[0;34m]\u001b[0m\u001b[0;34m,\u001b[0m \u001b[0;34m[\u001b[0m\u001b[0;34m]\u001b[0m\u001b[0;34m\u001b[0m\u001b[0;34m\u001b[0m\u001b[0m\n",
            "\u001b[0;32m<ipython-input-109-486207a97024>\u001b[0m in \u001b[0;36mforward\u001b[0;34m(self, x)\u001b[0m\n\u001b[1;32m     84\u001b[0m         \u001b[0mout\u001b[0m \u001b[0;34m=\u001b[0m \u001b[0mself\u001b[0m\u001b[0;34m.\u001b[0m\u001b[0mdropout4\u001b[0m\u001b[0;34m(\u001b[0m\u001b[0mout\u001b[0m\u001b[0;34m)\u001b[0m\u001b[0;34m\u001b[0m\u001b[0;34m\u001b[0m\u001b[0m\n\u001b[1;32m     85\u001b[0m         \u001b[0;31m# print(out.shape)\u001b[0m\u001b[0;34m\u001b[0m\u001b[0;34m\u001b[0m\u001b[0m\n\u001b[0;32m---> 86\u001b[0;31m         \u001b[0mout\u001b[0m \u001b[0;34m=\u001b[0m \u001b[0mself\u001b[0m\u001b[0;34m.\u001b[0m\u001b[0mfc3\u001b[0m\u001b[0;34m(\u001b[0m\u001b[0mout\u001b[0m\u001b[0;34m)\u001b[0m\u001b[0;34m\u001b[0m\u001b[0;34m\u001b[0m\u001b[0m\n\u001b[0m\u001b[1;32m     87\u001b[0m         \u001b[0mout\u001b[0m \u001b[0;34m=\u001b[0m \u001b[0mself\u001b[0m\u001b[0;34m.\u001b[0m\u001b[0mdropout5\u001b[0m\u001b[0;34m(\u001b[0m\u001b[0mout\u001b[0m\u001b[0;34m)\u001b[0m\u001b[0;34m\u001b[0m\u001b[0;34m\u001b[0m\u001b[0m\n\u001b[1;32m     88\u001b[0m         \u001b[0;31m# print(out.shape)\u001b[0m\u001b[0;34m\u001b[0m\u001b[0;34m\u001b[0m\u001b[0m\n",
            "\u001b[0;32m/usr/local/lib/python3.10/dist-packages/torch/nn/modules/module.py\u001b[0m in \u001b[0;36m_call_impl\u001b[0;34m(self, *args, **kwargs)\u001b[0m\n\u001b[1;32m   1499\u001b[0m                 \u001b[0;32mor\u001b[0m \u001b[0m_global_backward_pre_hooks\u001b[0m \u001b[0;32mor\u001b[0m \u001b[0m_global_backward_hooks\u001b[0m\u001b[0;34m\u001b[0m\u001b[0;34m\u001b[0m\u001b[0m\n\u001b[1;32m   1500\u001b[0m                 or _global_forward_hooks or _global_forward_pre_hooks):\n\u001b[0;32m-> 1501\u001b[0;31m             \u001b[0;32mreturn\u001b[0m \u001b[0mforward_call\u001b[0m\u001b[0;34m(\u001b[0m\u001b[0;34m*\u001b[0m\u001b[0margs\u001b[0m\u001b[0;34m,\u001b[0m \u001b[0;34m**\u001b[0m\u001b[0mkwargs\u001b[0m\u001b[0;34m)\u001b[0m\u001b[0;34m\u001b[0m\u001b[0;34m\u001b[0m\u001b[0m\n\u001b[0m\u001b[1;32m   1502\u001b[0m         \u001b[0;31m# Do not call functions when jit is used\u001b[0m\u001b[0;34m\u001b[0m\u001b[0;34m\u001b[0m\u001b[0m\n\u001b[1;32m   1503\u001b[0m         \u001b[0mfull_backward_hooks\u001b[0m\u001b[0;34m,\u001b[0m \u001b[0mnon_full_backward_hooks\u001b[0m \u001b[0;34m=\u001b[0m \u001b[0;34m[\u001b[0m\u001b[0;34m]\u001b[0m\u001b[0;34m,\u001b[0m \u001b[0;34m[\u001b[0m\u001b[0;34m]\u001b[0m\u001b[0;34m\u001b[0m\u001b[0;34m\u001b[0m\u001b[0m\n",
            "\u001b[0;32m/usr/local/lib/python3.10/dist-packages/torch/nn/modules/linear.py\u001b[0m in \u001b[0;36mforward\u001b[0;34m(self, input)\u001b[0m\n\u001b[1;32m    112\u001b[0m \u001b[0;34m\u001b[0m\u001b[0m\n\u001b[1;32m    113\u001b[0m     \u001b[0;32mdef\u001b[0m \u001b[0mforward\u001b[0m\u001b[0;34m(\u001b[0m\u001b[0mself\u001b[0m\u001b[0;34m,\u001b[0m \u001b[0minput\u001b[0m\u001b[0;34m:\u001b[0m \u001b[0mTensor\u001b[0m\u001b[0;34m)\u001b[0m \u001b[0;34m->\u001b[0m \u001b[0mTensor\u001b[0m\u001b[0;34m:\u001b[0m\u001b[0;34m\u001b[0m\u001b[0;34m\u001b[0m\u001b[0m\n\u001b[0;32m--> 114\u001b[0;31m         \u001b[0;32mreturn\u001b[0m \u001b[0mF\u001b[0m\u001b[0;34m.\u001b[0m\u001b[0mlinear\u001b[0m\u001b[0;34m(\u001b[0m\u001b[0minput\u001b[0m\u001b[0;34m,\u001b[0m \u001b[0mself\u001b[0m\u001b[0;34m.\u001b[0m\u001b[0mweight\u001b[0m\u001b[0;34m,\u001b[0m \u001b[0mself\u001b[0m\u001b[0;34m.\u001b[0m\u001b[0mbias\u001b[0m\u001b[0;34m)\u001b[0m\u001b[0;34m\u001b[0m\u001b[0;34m\u001b[0m\u001b[0m\n\u001b[0m\u001b[1;32m    115\u001b[0m \u001b[0;34m\u001b[0m\u001b[0m\n\u001b[1;32m    116\u001b[0m     \u001b[0;32mdef\u001b[0m \u001b[0mextra_repr\u001b[0m\u001b[0;34m(\u001b[0m\u001b[0mself\u001b[0m\u001b[0;34m)\u001b[0m \u001b[0;34m->\u001b[0m \u001b[0mstr\u001b[0m\u001b[0;34m:\u001b[0m\u001b[0;34m\u001b[0m\u001b[0;34m\u001b[0m\u001b[0m\n",
            "\u001b[0;31mKeyboardInterrupt\u001b[0m: "
          ]
        }
      ],
      "source": [
        "    torch.manual_seed(42)\n",
        "torch.cuda.manual_seed(42)\n",
        "\n",
        "NUM_EPOCHS = 100\n",
        "\n",
        "# model_0 = TinyVGG(input_shape=3,\n",
        "#\n",
        "hidden_units=10,\n",
        "#                     output_shape=len(class_names)).to(device)\n",
        "\n",
        "model_0 = DEMNet(num_classes=4).to(device)\n",
        "loss_fn = nn.CrossEntropyLoss()\n",
        "optimizer = torch.optim.Adam(model_0.parameters(),lr=1e-3)\n",
        "\n",
        "\n",
        "\n",
        "\n",
        "from timeit import default_timer as timer\n",
        "start_time = timer()\n",
        "\n",
        "\n",
        "model_0_results = train(model_0,train_dataloader,test_dataloader,optimizer,loss_fn,NUM_EPOCHS,device)\n",
        "end_time = timer()\n",
        "\n",
        "print(f\"Time Taken : {(end_time-start_time)/60:.2f} mins\")"
      ]
    },
    {
      "cell_type": "code",
      "execution_count": null,
      "metadata": {
        "id": "2OxNTLoKi0fh",
        "colab": {
          "base_uri": "https://localhost:8080/",
          "height": 743,
          "referenced_widgets": [
            "bdb583b69b3e453d8a632ba6b75b91dd",
            "0599c6d28a5d4c1eb2a8255433f7c418",
            "72282f2d8dd640fbac96d814e52a7430",
            "258485612e7a40a6a56e5dce262bcd4d",
            "2e6e3b1f201041229acbb69d75423ca8",
            "2efa3d68a2ac490b8e403f8f0fe06e58",
            "03628e20958b46e39f2b2f671bed3bc7",
            "aeedb9a57e2e4b2bac362db308efb4ad",
            "94aecac62de44ad2bf82c95cfd86fd71",
            "11d16f59bc67438c8a832f858b2de589",
            "c309390efeee4da9a02ea5c4ed7b7271"
          ]
        },
        "outputId": "4fd1f55b-7469-4122-be49-3f6db3d99d70"
      },
      "outputs": [
        {
          "output_type": "display_data",
          "data": {
            "text/plain": [
              "  0%|          | 0/100 [00:00<?, ?it/s]"
            ],
            "application/vnd.jupyter.widget-view+json": {
              "version_major": 2,
              "version_minor": 0,
              "model_id": "bdb583b69b3e453d8a632ba6b75b91dd"
            }
          },
          "metadata": {}
        },
        {
          "output_type": "stream",
          "name": "stdout",
          "text": [
            "Epoch: 0 | Train Loss: 10.7218 | Train Acc: 0.2603 | Test Loss: 3.1884 | Test Acc: 0.3250\n",
            "Epoch: 1 | Train Loss: 2.6153 | Train Acc: 0.4054 | Test Loss: 2.9943 | Test Acc: 0.2547\n",
            "Epoch: 2 | Train Loss: 2.1375 | Train Acc: 0.5277 | Test Loss: 3.1761 | Test Acc: 0.2812\n",
            "Epoch: 3 | Train Loss: 2.0010 | Train Acc: 0.5536 | Test Loss: 3.4975 | Test Acc: 0.3441\n",
            "Epoch: 4 | Train Loss: 1.8177 | Train Acc: 0.5784 | Test Loss: 2.3878 | Test Acc: 0.2832\n",
            "Epoch: 5 | Train Loss: 1.7794 | Train Acc: 0.5880 | Test Loss: 2.6853 | Test Acc: 0.4164\n",
            "Epoch: 6 | Train Loss: 1.6815 | Train Acc: 0.6045 | Test Loss: 2.8746 | Test Acc: 0.3770\n",
            "Epoch: 7 | Train Loss: 1.8427 | Train Acc: 0.5911 | Test Loss: 3.7557 | Test Acc: 0.3824\n",
            "Epoch: 8 | Train Loss: 1.7420 | Train Acc: 0.6090 | Test Loss: 5.7628 | Test Acc: 0.3559\n",
            "Epoch: 9 | Train Loss: 1.6662 | Train Acc: 0.6152 | Test Loss: 2.7331 | Test Acc: 0.4168\n",
            "Epoch: 10 | Train Loss: 1.7119 | Train Acc: 0.6129 | Test Loss: 4.4580 | Test Acc: 0.3187\n",
            "Epoch: 11 | Train Loss: 1.8251 | Train Acc: 0.6070 | Test Loss: 3.4218 | Test Acc: 0.3352\n",
            "Epoch: 12 | Train Loss: 1.5468 | Train Acc: 0.6332 | Test Loss: 4.0464 | Test Acc: 0.4117\n",
            "Epoch: 13 | Train Loss: 1.6913 | Train Acc: 0.6205 | Test Loss: 3.9911 | Test Acc: 0.4355\n",
            "Epoch: 14 | Train Loss: 1.5810 | Train Acc: 0.6276 | Test Loss: 3.8288 | Test Acc: 0.4082\n",
            "Epoch: 15 | Train Loss: 1.5263 | Train Acc: 0.6308 | Test Loss: 3.3989 | Test Acc: 0.4383\n",
            "Epoch: 16 | Train Loss: 1.5903 | Train Acc: 0.6283 | Test Loss: 3.5061 | Test Acc: 0.3840\n",
            "Epoch: 17 | Train Loss: 1.7643 | Train Acc: 0.6323 | Test Loss: 2.5657 | Test Acc: 0.3633\n",
            "Epoch: 18 | Train Loss: 1.6457 | Train Acc: 0.6308 | Test Loss: 4.1280 | Test Acc: 0.3992\n",
            "Epoch: 19 | Train Loss: 1.5116 | Train Acc: 0.6533 | Test Loss: 2.4779 | Test Acc: 0.3367\n",
            "Epoch: 20 | Train Loss: 1.5174 | Train Acc: 0.6526 | Test Loss: 4.8619 | Test Acc: 0.3859\n",
            "Epoch: 21 | Train Loss: 1.4984 | Train Acc: 0.6536 | Test Loss: 3.1638 | Test Acc: 0.4223\n",
            "Epoch: 22 | Train Loss: 1.6541 | Train Acc: 0.6377 | Test Loss: 3.1216 | Test Acc: 0.4145\n",
            "Epoch: 23 | Train Loss: 1.7231 | Train Acc: 0.6428 | Test Loss: 2.5492 | Test Acc: 0.3773\n",
            "Epoch: 24 | Train Loss: 1.5287 | Train Acc: 0.6589 | Test Loss: 2.6297 | Test Acc: 0.3949\n",
            "Epoch: 25 | Train Loss: 1.5041 | Train Acc: 0.6591 | Test Loss: 5.0570 | Test Acc: 0.3488\n",
            "Epoch: 26 | Train Loss: 1.4610 | Train Acc: 0.6668 | Test Loss: 3.6630 | Test Acc: 0.4313\n",
            "Epoch: 27 | Train Loss: 1.5493 | Train Acc: 0.6578 | Test Loss: 2.9235 | Test Acc: 0.3820\n",
            "Epoch: 28 | Train Loss: 1.9675 | Train Acc: 0.5931 | Test Loss: 2.3279 | Test Acc: 0.3797\n",
            "Epoch: 29 | Train Loss: 1.5603 | Train Acc: 0.6570 | Test Loss: 3.8215 | Test Acc: 0.3695\n",
            "Epoch: 30 | Train Loss: 1.5128 | Train Acc: 0.6575 | Test Loss: 2.5098 | Test Acc: 0.3949\n",
            "Epoch: 31 | Train Loss: 1.4599 | Train Acc: 0.6719 | Test Loss: 2.3215 | Test Acc: 0.3879\n",
            "Epoch: 32 | Train Loss: 1.4877 | Train Acc: 0.6611 | Test Loss: 3.2536 | Test Acc: 0.3887\n",
            "Epoch: 33 | Train Loss: 1.9625 | Train Acc: 0.6247 | Test Loss: 3.5910 | Test Acc: 0.3777\n",
            "Epoch: 34 | Train Loss: 1.4916 | Train Acc: 0.6751 | Test Loss: 2.6452 | Test Acc: 0.3906\n",
            "Epoch: 35 | Train Loss: 1.4278 | Train Acc: 0.6805 | Test Loss: 3.7696 | Test Acc: 0.3918\n",
            "Epoch: 36 | Train Loss: 1.4424 | Train Acc: 0.6739 | Test Loss: 2.5753 | Test Acc: 0.3375\n",
            "Epoch: 37 | Train Loss: 1.5548 | Train Acc: 0.6656 | Test Loss: 3.0136 | Test Acc: 0.4070\n",
            "Epoch: 38 | Train Loss: 1.5295 | Train Acc: 0.6708 | Test Loss: 4.9323 | Test Acc: 0.4004\n",
            "Epoch: 39 | Train Loss: 1.4377 | Train Acc: 0.6805 | Test Loss: 4.0069 | Test Acc: 0.4145\n"
          ]
        }
      ],
      "source": [
        "import torch\n",
        "import torch.nn as nn\n",
        "\n",
        "class DEMNetBlock(nn.Module):\n",
        "    def __init__(self, in_channels, out_channels):\n",
        "        super(DEMNetBlock, self).__init__()\n",
        "        self.conv1 = nn.Conv2d(in_channels, out_channels, kernel_size=3, padding=1, bias=True)\n",
        "        self.relu1 = nn.ReLU(inplace=True)\n",
        "        self.conv2 = nn.Conv2d(out_channels, out_channels, kernel_size=3, padding=1, bias=True)\n",
        "        self.relu2 = nn.ReLU(inplace=True)\n",
        "        self.batchnorm = nn.BatchNorm2d(out_channels)\n",
        "        self.maxpool = nn.MaxPool2d(kernel_size=2, stride=2)\n",
        "\n",
        "        if in_channels != out_channels:\n",
        "            self.skip_connection = nn.Sequential(\n",
        "                nn.Conv2d(in_channels, out_channels, kernel_size=1, bias=True),\n",
        "                nn.MaxPool2d(kernel_size=2, stride=2)\n",
        "            )\n",
        "        else:\n",
        "            self.skip_connection = nn.Identity()\n",
        "\n",
        "    def forward(self, x):\n",
        "        residual = x\n",
        "\n",
        "        out = self.conv1(x)\n",
        "        out = self.relu1(out)\n",
        "        out = self.conv2(out)\n",
        "        out = self.relu2(out)\n",
        "        out = self.batchnorm(out)\n",
        "        out = self.maxpool(out)\n",
        "\n",
        "        skip_out = self.skip_connection(residual)\n",
        "        out += skip_out\n",
        "\n",
        "        return out\n",
        "\n",
        "class DEMNet(nn.Module):\n",
        "    def __init__(self, num_classes=4):\n",
        "        super(DEMNet, self).__init__()\n",
        "        self.conv1 = nn.Conv2d(3, 16, kernel_size=3, padding=1, bias=True)\n",
        "        self.relu1 = nn.ReLU(inplace=True)\n",
        "        self.conv2 = nn.Conv2d(16, 16, kernel_size=3, padding=1, bias=True)\n",
        "        self.relu2 = nn.ReLU(inplace=True)\n",
        "        self.maxpool = nn.MaxPool2d(kernel_size=2, stride=2)\n",
        "\n",
        "        self.block1 = DEMNetBlock(16, 32)\n",
        "        self.block2 = DEMNetBlock(32, 64)\n",
        "        self.block3 = DEMNetBlock(64, 128)\n",
        "        self.dropout1 = nn.Dropout2d(p=0.5)\n",
        "        self.block4 = DEMNetBlock(128, 256)\n",
        "        self.dropout2 = nn.Dropout2d(p=0.5)\n",
        "\n",
        "        self.flatten = nn.Flatten()\n",
        "        self.fc1 = nn.Linear(6400, 512, bias=True)\n",
        "        self.dropout3 = nn.Dropout(p=0.5)  # Modified: Changed to Dropout\n",
        "        self.fc2 = nn.Linear(512, 128, bias=True)\n",
        "        self.dropout4 = nn.Dropout(p=0.5)  # Modified: Changed to Dropout\n",
        "        self.fc3 = nn.Linear(128, 64, bias=True)\n",
        "        self.dropout5 = nn.Dropout(p=0.5)  # Modified: Changed to Dropout\n",
        "        self.fc4 = nn.Linear(64, num_classes, bias=True)\n",
        "\n",
        "    def forward(self, x):\n",
        "        out = self.conv1(x)\n",
        "        out = self.relu1(out)\n",
        "        out = self.conv2(out)\n",
        "        out = self.relu2(out)\n",
        "        out = self.maxpool(out)\n",
        "\n",
        "        out = self.block1(out)\n",
        "        out = self.block2(out)\n",
        "        out = self.block3(out)\n",
        "        out = self.dropout1(out)\n",
        "        out = self.block4(out)\n",
        "        out = self.dropout2(out)\n",
        "\n",
        "        out = self.flatten(out)\n",
        "        out = self.fc1(out)\n",
        "        out = self.dropout3(out)\n",
        "        out = self.fc2(out)\n",
        "        out = self.dropout4(out)\n",
        "        out = self.fc3(out)\n",
        "        out = self.dropout5(out)\n",
        "        out = self.fc4(out)\n",
        "\n",
        "        return out\n",
        "\n",
        "\n",
        "def train_step(model: nn.Module, dataloader: torch.utils.data.DataLoader, loss_fn: nn.Module,\n",
        "               optimizer: torch.optim.RMSprop, device=device):\n",
        "    model.train()\n",
        "    train_loss, train_acc = 0, 0\n",
        "    for batch, (X, y) in enumerate(dataloader):\n",
        "        X, y = X.to(device), y.to(device)\n",
        "        optimizer.zero_grad()\n",
        "        y_pred = model(X)\n",
        "        loss = loss_fn(y_pred, y)\n",
        "        l1_regularization = torch.tensor(0., device=device)\n",
        "        for param in model.parameters():\n",
        "            l1_regularization += torch.norm(param, 1)\n",
        "        l1_lambda = 0.001\n",
        "        loss += l1_lambda * l1_regularization\n",
        "        train_loss += loss.item()\n",
        "        loss.backward()\n",
        "        optimizer.step()\n",
        "\n",
        "        y_pred_class = torch.argmax(torch.softmax(y_pred, dim=1), dim=1)\n",
        "        train_acc += ((y_pred_class == y).sum().item() / len(y_pred))\n",
        "\n",
        "    train_loss = train_loss / len(dataloader)\n",
        "    train_acc = train_acc / len(dataloader)\n",
        "\n",
        "    return train_loss, train_acc\n",
        "\n",
        "def test_step(model: nn.Module, dataloader: torch.utils.data.DataLoader, loss_fn: nn.Module, device=device):\n",
        "    model.eval()\n",
        "    test_loss, test_acc = 0, 0\n",
        "    with torch.no_grad():\n",
        "        for batch, (X, y) in enumerate(dataloader):\n",
        "            X, y = X.to(device), y.to(device)\n",
        "            test_pred_logits = model(X)\n",
        "            loss = loss_fn(test_pred_logits, y)\n",
        "            l1_regularization = torch.tensor(0., device=device)\n",
        "            for param in model.parameters():\n",
        "                l1_regularization += torch.norm(param, 1)\n",
        "            l1_lambda = 0.001\n",
        "            loss += l1_lambda * l1_regularization\n",
        "            test_loss += loss.item()\n",
        "\n",
        "            test_pred_labels = test_pred_logits.argmax(dim=1)\n",
        "            test_acc += ((test_pred_labels == y).sum().item() / len(test_pred_labels))\n",
        "\n",
        "        test_loss = test_loss / len(dataloader)\n",
        "        test_acc = test_acc / len(dataloader)\n",
        "\n",
        "        return test_loss, test_acc\n",
        "\n",
        "from tqdm.auto import tqdm\n",
        "\n",
        "def train(model: nn.Module,\n",
        "          train_dataloader: torch.utils.data.DataLoader,\n",
        "          test_dataloader: torch.utils.data.DataLoader,\n",
        "          optimizer: torch.optim.Optimizer,\n",
        "          loss_fn: nn.Module = nn.CrossEntropyLoss(),\n",
        "          epochs: int = 10,\n",
        "          device=device):\n",
        "    results = {\n",
        "        \"train_loss\": [],\n",
        "        \"train_acc\": [],\n",
        "        \"test_loss\": [],\n",
        "        \"test_acc\": []\n",
        "    }\n",
        "\n",
        "    for epoch in tqdm(range(epochs)):\n",
        "        train_loss, train_acc = train_step(model, train_dataloader, loss_fn, optimizer, device)\n",
        "        test_loss, test_acc = test_step(model, test_dataloader, loss_fn, device)\n",
        "        print(f\"Epoch: {epoch} | Train Loss: {train_loss:.4f} | Train Acc: {train_acc:.4f} | \"\n",
        "              f\"Test Loss: {test_loss:.4f} | Test Acc: {test_acc:.4f}\")\n",
        "        results[\"train_loss\"].append(train_loss)\n",
        "        results[\"train_acc\"].append(train_acc)\n",
        "        results[\"test_loss\"].append(test_loss)\n",
        "        results[\"test_acc\"].append(test_acc)\n",
        "\n",
        "    return results\n",
        "\n",
        "torch.manual_seed(42)\n",
        "torch.cuda.manual_seed(42)\n",
        "\n",
        "NUM_EPOCHS = 100\n",
        "\n",
        "model_0 = DEMNet(num_classes=4).to(device)\n",
        "loss_fn = nn.CrossEntropyLoss()\n",
        "optimizer = torch.optim.Adam(model_0.parameters(), lr=1e-3)\n",
        "\n",
        "from timeit import default_timer as timer\n",
        "\n",
        "start_time = timer()\n",
        "\n",
        "model_0_results = train(model_0, train_dataloader, test_dataloader, optimizer, loss_fn, NUM_EPOCHS, device)\n",
        "\n",
        "end_time = timer()\n",
        "\n",
        "print(f\"Time Taken: {(end_time - start_time) / 60:.2f} mins\")\n"
      ]
    },
    {
      "cell_type": "markdown",
      "source": [
        "__________________________________________________________"
      ],
      "metadata": {
        "id": "DsXR-IFWJj6e"
      }
    },
    {
      "cell_type": "markdown",
      "source": [
        "#4-Class Binary Classification"
      ],
      "metadata": {
        "id": "bitxC7BlJmK_"
      }
    },
    {
      "cell_type": "code",
      "source": [
        "from google.colab import drive\n",
        "drive.mount('/content/drive')"
      ],
      "metadata": {
        "colab": {
          "base_uri": "https://localhost:8080/"
        },
        "id": "auyTjrqs_brl",
        "outputId": "3d7e4968-019d-4bcb-b0b1-03ecf5bba435"
      },
      "execution_count": 1,
      "outputs": [
        {
          "output_type": "stream",
          "name": "stdout",
          "text": [
            "Mounted at /content/drive\n"
          ]
        }
      ]
    },
    {
      "cell_type": "code",
      "execution_count": 2,
      "metadata": {
        "id": "EaRZI25NrJKy"
      },
      "outputs": [],
      "source": [
        "import torch\n",
        "from torchvision import datasets, transforms\n",
        "import os\n",
        "import torch\n",
        "import torch.nn as nn\n",
        "from tqdm.auto import tqdm\n",
        "from timeit import default_timer as timer\n",
        "from sklearn.model_selection import train_test_split\n",
        "from torch.utils.data import DataLoader\n",
        "from sklearn.metrics import roc_curve, confusion_matrix, roc_auc_score\n",
        "import matplotlib.pyplot as plt\n",
        "import seaborn as sns\n",
        "import numpy as np"
      ]
    },
    {
      "cell_type": "code",
      "source": [
        "transform = transforms.Compose([\n",
        "    transforms.Resize((176, 176)),  # Resize images to a fixed size\n",
        "    transforms.ToTensor(),  # Convert images to tensors\n",
        "    transforms.Normalize((0.5,), (0.5,))  # Normalize pixel values to the range [-1, 1]\n",
        "])"
      ],
      "metadata": {
        "id": "7maGbCUw_Nyh"
      },
      "execution_count": 3,
      "outputs": []
    },
    {
      "cell_type": "markdown",
      "source": [
        "## KAGGLE"
      ],
      "metadata": {
        "id": "AxppnzYZww_B"
      }
    },
    {
      "cell_type": "code",
      "source": [
        "train_dataset = datasets.ImageFolder('/content/drive/MyDrive/research/Alzheimer_s Dataset/train', transform=transform)\n",
        "test_dataset = datasets.ImageFolder('/content/drive/MyDrive/research/Alzheimer_s Dataset/test', transform=transform)"
      ],
      "metadata": {
        "id": "R0e7SkZlA8sM"
      },
      "execution_count": null,
      "outputs": []
    },
    {
      "cell_type": "code",
      "source": [
        "train_dataset = datasets.ImageFolder('/content/drive/MyDrive/Career/Research papers/alzheimers/Alzheimer_s Dataset/train', transform=transform)\n",
        "test_dataset = datasets.ImageFolder('/content/drive/MyDrive/Career/Research papers/alzheimers/Alzheimer_s Dataset/test', transform=transform)"
      ],
      "metadata": {
        "id": "A6ASv3RSnhmL"
      },
      "execution_count": 4,
      "outputs": []
    },
    {
      "cell_type": "markdown",
      "source": [
        "#ADNI"
      ],
      "metadata": {
        "id": "4oPtFmN0wyxa"
      }
    },
    {
      "cell_type": "code",
      "source": [
        "transform = transforms.Compose([\n",
        "    transforms.Resize((170, 176)),  # Resize images to a fixed size\n",
        "    transforms.ToTensor(),  # Convert images to tensors\n",
        "    transforms.Normalize((0.5,), (0.5,))  # Normalize pixel values to the range [-1, 1]\n",
        "])\n",
        "\n",
        "train_dataset = datasets.ImageFolder('/content/drive/MyDrive/research/ADNI/train', transform=transform)\n",
        "test_dataset = datasets.ImageFolder('/content/drive/MyDrive/research/ADNI/test', transform=transform)"
      ],
      "metadata": {
        "id": "Fkzj6K1RwvVN"
      },
      "execution_count": null,
      "outputs": []
    },
    {
      "cell_type": "code",
      "source": [
        "train_size = int(0.8 * len(train_dataset))\n",
        "validation_size = len(train_dataset) - train_size"
      ],
      "metadata": {
        "id": "ToefycvBCkTD"
      },
      "execution_count": 5,
      "outputs": []
    },
    {
      "cell_type": "code",
      "source": [
        "training_dataset, validation_dataset = torch.utils.data.random_split(train_dataset, [train_size, validation_size])"
      ],
      "metadata": {
        "id": "tFjBHD4SDwl5"
      },
      "execution_count": 6,
      "outputs": []
    },
    {
      "cell_type": "code",
      "source": [
        "BATCH_SIZE = 16\n",
        "train_dataloader = DataLoader(dataset=training_dataset,batch_size=BATCH_SIZE,num_workers=os.cpu_count(),shuffle=True)\n",
        "validation_dataloader = DataLoader(dataset=validation_dataset,batch_size=BATCH_SIZE,num_workers=os.cpu_count(),shuffle=True)\n",
        "test_dataloader = DataLoader(dataset=test_dataset,batch_size=BATCH_SIZE,num_workers=os.cpu_count(),shuffle=True)"
      ],
      "metadata": {
        "id": "u1x22SqowbXQ"
      },
      "execution_count": 7,
      "outputs": []
    },
    {
      "cell_type": "code",
      "source": [
        "device = \"cuda\" if torch.cuda.is_available() else \"cpu\""
      ],
      "metadata": {
        "id": "i3M6Ta3gyW_v"
      },
      "execution_count": 8,
      "outputs": []
    },
    {
      "cell_type": "code",
      "source": [
        "class DEMNetBlock(nn.Module):\n",
        "    def __init__(self, in_channels, out_channels):\n",
        "        super(DEMNetBlock, self).__init__()\n",
        "        self.conv1 = nn.Conv2d(in_channels, out_channels, kernel_size=3, padding=1, bias=True)\n",
        "        self.relu1 = nn.ReLU(inplace=True)\n",
        "        self.conv2 = nn.Conv2d(out_channels, out_channels, kernel_size=3, padding=1, bias=True)\n",
        "        self.relu2 = nn.ReLU(inplace=True)\n",
        "        self.batchnorm = nn.BatchNorm2d(out_channels)\n",
        "        self.maxpool = nn.MaxPool2d(kernel_size=2, stride=2)\n",
        "\n",
        "        if in_channels != out_channels:\n",
        "            self.skip_connection = nn.Sequential(\n",
        "                nn.Conv2d(in_channels, out_channels, kernel_size=1, bias=True),\n",
        "                nn.MaxPool2d(kernel_size=2, stride=2)\n",
        "            )\n",
        "        else:\n",
        "            self.skip_connection = nn.Identity()\n",
        "\n",
        "    def forward(self, x):\n",
        "        residual = x\n",
        "\n",
        "        out = self.conv1(x)\n",
        "        out = self.relu1(out)\n",
        "        out = self.conv2(out)\n",
        "        out = self.relu2(out)\n",
        "        out = self.batchnorm(out)\n",
        "        out = self.maxpool(out)\n",
        "\n",
        "        skip_out = self.skip_connection(residual)\n",
        "        out += skip_out\n",
        "\n",
        "        return out"
      ],
      "metadata": {
        "id": "ZEchRKpVxD0y"
      },
      "execution_count": 9,
      "outputs": []
    },
    {
      "cell_type": "code",
      "source": [
        "class DEMNet(nn.Module):\n",
        "    def __init__(self, num_classes=2):\n",
        "        super(DEMNet, self).__init__()\n",
        "        self.conv1 = nn.Conv2d(3, 16, kernel_size=3, padding=1, bias=True)\n",
        "        self.relu1 = nn.ReLU(inplace=True)\n",
        "        self.conv2 = nn.Conv2d(16, 16, kernel_size=3, padding=1, bias=True)\n",
        "        self.relu2 = nn.ReLU(inplace=True)\n",
        "        self.maxpool = nn.MaxPool2d(kernel_size=2, stride=2)\n",
        "\n",
        "        self.block1 = DEMNetBlock(16, 32)\n",
        "        self.block2 = DEMNetBlock(32, 64)\n",
        "        self.block3 = DEMNetBlock(64, 128)\n",
        "        self.dropout1 = nn.Dropout2d(p=0.5)\n",
        "        self.block4 = DEMNetBlock(128, 256)\n",
        "        self.dropout2 = nn.Dropout2d(p=0.5)\n",
        "\n",
        "        self.flatten = nn.Flatten()\n",
        "        self.fc1 = nn.Linear(6400, 512, bias=True)\n",
        "        self.dropout3 = nn.Dropout(p=0.5)  # Modified: Changed to Dropout\n",
        "        self.fc2 = nn.Linear(512, 128, bias=True)\n",
        "        self.dropout4 = nn.Dropout(p=0.5)  # Modified: Changed to Dropout\n",
        "        self.fc3 = nn.Linear(128, 64, bias=True)\n",
        "        self.dropout5 = nn.Dropout(p=0.5)  # Modified: Changed to Dropout\n",
        "        self.fc4 = nn.Linear(64, num_classes, bias=True)\n",
        "\n",
        "    def forward(self, x):\n",
        "        out = self.conv1(x)\n",
        "        out = self.relu1(out)\n",
        "        out = self.conv2(out)\n",
        "        out = self.relu2(out)\n",
        "        out = self.maxpool(out)\n",
        "\n",
        "        out = self.block1(out)\n",
        "        out = self.block2(out)\n",
        "        out = self.block3(out)\n",
        "        out = self.dropout1(out)\n",
        "        out = self.block4(out)\n",
        "        out = self.dropout2(out)\n",
        "\n",
        "        out = self.flatten(out)\n",
        "        out = self.fc1(out)\n",
        "        out = self.dropout3(out)\n",
        "        out = self.fc2(out)\n",
        "        out = self.dropout4(out)\n",
        "        out = self.fc3(out)\n",
        "        out = self.dropout5(out)\n",
        "        out = self.fc4(out)\n",
        "\n",
        "        return out"
      ],
      "metadata": {
        "id": "t_WNFTmPxKJk"
      },
      "execution_count": 10,
      "outputs": []
    },
    {
      "cell_type": "code",
      "source": [
        "def train_step(model: nn.Module, dataloader: torch.utils.data.DataLoader, loss_fn: nn.Module,\n",
        "               optimizer: torch.optim.RMSprop, device=device):\n",
        "    model.train()\n",
        "    train_loss, train_acc = 0.0, 0\n",
        "    for batch, (X, y) in enumerate(dataloader):\n",
        "        X, y = X.to(device), y.to(device)\n",
        "        optimizer.zero_grad()\n",
        "        y_pred = model(X)\n",
        "        loss = loss_fn(y_pred, y)\n",
        "        l1_regularization = torch.tensor(0., device=device)\n",
        "        for param in model.parameters():\n",
        "            l1_regularization += torch.norm(param, 1)\n",
        "        l1_lambda = 0.001\n",
        "        loss += l1_lambda * l1_regularization\n",
        "        train_loss += loss.item()\n",
        "        loss.backward()\n",
        "        optimizer.step()\n",
        "\n",
        "        y_pred_class = torch.argmax(torch.softmax(y_pred, dim=1), dim=1)\n",
        "        train_acc += ((y_pred_class == y).sum().item() / len(y_pred))\n",
        "\n",
        "    train_loss = train_loss / len(dataloader)\n",
        "    train_acc = train_acc / len(dataloader)\n",
        "\n",
        "    return train_loss, train_acc"
      ],
      "metadata": {
        "id": "zOVeQvzkxbBW"
      },
      "execution_count": 11,
      "outputs": []
    },
    {
      "cell_type": "code",
      "source": [
        "def test_step(model: nn.Module, dataloader: torch.utils.data.DataLoader, loss_fn: nn.Module, device=device):\n",
        "    model.eval()\n",
        "    test_loss, test_acc = 0, 0\n",
        "    with torch.no_grad():\n",
        "        for batch, (X, y) in enumerate(dataloader):\n",
        "            X, y = X.to(device), y.to(device)\n",
        "            test_pred_logits = model(X)\n",
        "            loss = loss_fn(test_pred_logits, y)\n",
        "            # l1_regularization = torch.tensor(0., device=device)\n",
        "            # for param in model.parameters():\n",
        "            #     l1_regularization += torch.norm(param, 1)\n",
        "            # l1_lambda = 0.001\n",
        "            # loss += l1_lambda * l1_regularization\n",
        "            test_loss += loss.item()\n",
        "\n",
        "            test_pred_labels = test_pred_logits.argmax(dim=1)\n",
        "            test_acc += ((test_pred_labels == y).sum().item() / len(test_pred_labels))\n",
        "\n",
        "        test_loss = test_loss / len(dataloader)\n",
        "        test_acc = test_acc / len(dataloader)\n",
        "\n",
        "        return test_loss, test_acc"
      ],
      "metadata": {
        "id": "c35y_90rympi"
      },
      "execution_count": 12,
      "outputs": []
    },
    {
      "cell_type": "code",
      "source": [
        "def train(model: nn.Module,\n",
        "          train_dataloader: torch.utils.data.DataLoader,\n",
        "          test_dataloader: torch.utils.data.DataLoader,\n",
        "          optimizer: torch.optim.Optimizer,\n",
        "          loss_fn: nn.Module = nn.CrossEntropyLoss(),\n",
        "          epochs: int = 10,\n",
        "          device=device):\n",
        "    results = {\n",
        "        \"train_loss\": [],\n",
        "        \"train_acc\": [],\n",
        "        \"test_loss\": [],\n",
        "        \"test_acc\": []\n",
        "    }\n",
        "    for epoch in tqdm(range(epochs)):\n",
        "        train_loss, train_acc = train_step(model, train_dataloader, loss_fn, optimizer, device)\n",
        "        test_loss, test_acc = test_step(model, test_dataloader, loss_fn, device)\n",
        "        print(f\"Epoch: {epoch} | Train Loss: {train_loss:.4f} | Train Acc: {train_acc:.4f} | \"\n",
        "              f\"Test Loss: {test_loss:.4f} | Test Acc: {test_acc:.4f}\")\n",
        "        results[\"train_loss\"].append(train_loss)\n",
        "        results[\"train_acc\"].append(train_acc)\n",
        "        results[\"test_loss\"].append(test_loss)\n",
        "        results[\"test_acc\"].append(test_acc)\n",
        "\n",
        "    return results"
      ],
      "metadata": {
        "id": "Ol9T6WP3yzMO"
      },
      "execution_count": 13,
      "outputs": []
    },
    {
      "cell_type": "code",
      "source": [
        "torch.manual_seed(42)\n",
        "torch.cuda.manual_seed(42)\n",
        "\n",
        "NUM_EPOCHS = 20\n",
        "\n",
        "model_0 = DEMNet(num_classes=4).to(device)\n",
        "loss_fn = nn.CrossEntropyLoss()\n",
        "optimizer = torch.optim.Adam(model_0.parameters(), lr=1e-3)\n",
        "\n",
        "start_time = timer()\n",
        "\n",
        "model_0_results = train(model_0, train_dataloader, validation_dataloader, optimizer, loss_fn, NUM_EPOCHS, device)\n",
        "\n",
        "end_time = timer()\n",
        "\n",
        "print(f\"Time Taken: {(end_time - start_time) / 60:.2f} mins\")"
      ],
      "metadata": {
        "colab": {
          "base_uri": "https://localhost:8080/",
          "height": 413,
          "referenced_widgets": [
            "9ef9028f76bb42ab9b509cae96a15c4f",
            "de9afd42636b43c3bfd3db9c1b915597",
            "7717f4d5e61443dbaffe96b4f2529f82",
            "9368f52140de47d19f99314acfe9a6d6",
            "5f1a3f899dcf423885ba6d25d8fd28c0",
            "9316acdea4354f31a414328b609294c0",
            "05ef3627581f4383b53983e75dc04c2f",
            "82b78534e5ec41bbad73fd1a236d9f4b",
            "6da8411ad1c5446a98b480ea4aa5a7e3",
            "f9b19f750ce54e0c800e20e306a88b29",
            "2c2e73b71c3c48f7ae65d39c9c694a1e"
          ]
        },
        "id": "qyfWouh_y8Rm",
        "outputId": "a2072182-faa8-41c2-dad8-ad3a7a1d4119"
      },
      "execution_count": 15,
      "outputs": [
        {
          "output_type": "display_data",
          "data": {
            "text/plain": [
              "  0%|          | 0/20 [00:00<?, ?it/s]"
            ],
            "application/vnd.jupyter.widget-view+json": {
              "version_major": 2,
              "version_minor": 0,
              "model_id": "9ef9028f76bb42ab9b509cae96a15c4f"
            }
          },
          "metadata": {}
        },
        {
          "output_type": "stream",
          "name": "stdout",
          "text": [
            "Epoch: 0 | Train Loss: 17.9877 | Train Acc: 0.7820 | Test Loss: 0.5748 | Test Acc: 0.8066\n",
            "Epoch: 1 | Train Loss: 4.9603 | Train Acc: 0.9402 | Test Loss: 0.5632 | Test Acc: 0.8398\n",
            "Epoch: 2 | Train Loss: 2.8194 | Train Acc: 0.9595 | Test Loss: 0.2793 | Test Acc: 0.9072\n",
            "Epoch: 3 | Train Loss: 2.0686 | Train Acc: 0.9705 | Test Loss: 1.3702 | Test Acc: 0.6230\n",
            "Epoch: 4 | Train Loss: 1.6663 | Train Acc: 0.9771 | Test Loss: 0.0259 | Test Acc: 0.9922\n",
            "Epoch: 5 | Train Loss: 1.3227 | Train Acc: 0.9893 | Test Loss: 0.2205 | Test Acc: 0.8779\n",
            "Epoch: 6 | Train Loss: 1.4698 | Train Acc: 0.9832 | Test Loss: 1.4168 | Test Acc: 0.5830\n",
            "Epoch: 7 | Train Loss: 1.3189 | Train Acc: 0.9817 | Test Loss: 0.0175 | Test Acc: 0.9971\n",
            "Epoch: 8 | Train Loss: 1.3162 | Train Acc: 0.9839 | Test Loss: 0.0227 | Test Acc: 0.9785\n",
            "Epoch: 9 | Train Loss: 1.1936 | Train Acc: 0.9766 | Test Loss: 0.6590 | Test Acc: 0.8643\n",
            "Epoch: 10 | Train Loss: 0.9607 | Train Acc: 0.9944 | Test Loss: 0.3304 | Test Acc: 0.8271\n",
            "Epoch: 11 | Train Loss: 1.1247 | Train Acc: 0.9802 | Test Loss: 0.0910 | Test Acc: 0.9805\n",
            "Epoch: 12 | Train Loss: 1.0490 | Train Acc: 0.9829 | Test Loss: 0.0129 | Test Acc: 0.9951\n",
            "Epoch: 13 | Train Loss: 1.0101 | Train Acc: 0.9900 | Test Loss: 0.0560 | Test Acc: 0.9854\n",
            "Epoch: 14 | Train Loss: 0.9216 | Train Acc: 0.9927 | Test Loss: 0.2362 | Test Acc: 0.8857\n",
            "Epoch: 15 | Train Loss: 0.9442 | Train Acc: 0.9880 | Test Loss: 0.0003 | Test Acc: 1.0000\n",
            "Epoch: 16 | Train Loss: 0.8573 | Train Acc: 0.9924 | Test Loss: 0.2247 | Test Acc: 0.9619\n",
            "Epoch: 17 | Train Loss: 0.8634 | Train Acc: 0.9902 | Test Loss: 0.0048 | Test Acc: 0.9980\n",
            "Epoch: 18 | Train Loss: 0.7681 | Train Acc: 0.9995 | Test Loss: 0.0011 | Test Acc: 1.0000\n",
            "Epoch: 19 | Train Loss: 1.2191 | Train Acc: 0.9739 | Test Loss: 0.0066 | Test Acc: 0.9980\n",
            "Time Taken: 5.05 mins\n"
          ]
        }
      ]
    },
    {
      "cell_type": "markdown",
      "source": [],
      "metadata": {
        "id": "R2YBm0mLZ3tL"
      }
    },
    {
      "cell_type": "code",
      "source": [
        "model_0.eval()"
      ],
      "metadata": {
        "colab": {
          "base_uri": "https://localhost:8080/"
        },
        "id": "Z5ly2dmjLEaY",
        "outputId": "7d69cce5-30c6-48a3-a243-0505fbe13a71"
      },
      "execution_count": 16,
      "outputs": [
        {
          "output_type": "execute_result",
          "data": {
            "text/plain": [
              "DEMNet(\n",
              "  (conv1): Conv2d(3, 16, kernel_size=(3, 3), stride=(1, 1), padding=(1, 1))\n",
              "  (relu1): ReLU(inplace=True)\n",
              "  (conv2): Conv2d(16, 16, kernel_size=(3, 3), stride=(1, 1), padding=(1, 1))\n",
              "  (relu2): ReLU(inplace=True)\n",
              "  (maxpool): MaxPool2d(kernel_size=2, stride=2, padding=0, dilation=1, ceil_mode=False)\n",
              "  (block1): DEMNetBlock(\n",
              "    (conv1): Conv2d(16, 32, kernel_size=(3, 3), stride=(1, 1), padding=(1, 1))\n",
              "    (relu1): ReLU(inplace=True)\n",
              "    (conv2): Conv2d(32, 32, kernel_size=(3, 3), stride=(1, 1), padding=(1, 1))\n",
              "    (relu2): ReLU(inplace=True)\n",
              "    (batchnorm): BatchNorm2d(32, eps=1e-05, momentum=0.1, affine=True, track_running_stats=True)\n",
              "    (maxpool): MaxPool2d(kernel_size=2, stride=2, padding=0, dilation=1, ceil_mode=False)\n",
              "    (skip_connection): Sequential(\n",
              "      (0): Conv2d(16, 32, kernel_size=(1, 1), stride=(1, 1))\n",
              "      (1): MaxPool2d(kernel_size=2, stride=2, padding=0, dilation=1, ceil_mode=False)\n",
              "    )\n",
              "  )\n",
              "  (block2): DEMNetBlock(\n",
              "    (conv1): Conv2d(32, 64, kernel_size=(3, 3), stride=(1, 1), padding=(1, 1))\n",
              "    (relu1): ReLU(inplace=True)\n",
              "    (conv2): Conv2d(64, 64, kernel_size=(3, 3), stride=(1, 1), padding=(1, 1))\n",
              "    (relu2): ReLU(inplace=True)\n",
              "    (batchnorm): BatchNorm2d(64, eps=1e-05, momentum=0.1, affine=True, track_running_stats=True)\n",
              "    (maxpool): MaxPool2d(kernel_size=2, stride=2, padding=0, dilation=1, ceil_mode=False)\n",
              "    (skip_connection): Sequential(\n",
              "      (0): Conv2d(32, 64, kernel_size=(1, 1), stride=(1, 1))\n",
              "      (1): MaxPool2d(kernel_size=2, stride=2, padding=0, dilation=1, ceil_mode=False)\n",
              "    )\n",
              "  )\n",
              "  (block3): DEMNetBlock(\n",
              "    (conv1): Conv2d(64, 128, kernel_size=(3, 3), stride=(1, 1), padding=(1, 1))\n",
              "    (relu1): ReLU(inplace=True)\n",
              "    (conv2): Conv2d(128, 128, kernel_size=(3, 3), stride=(1, 1), padding=(1, 1))\n",
              "    (relu2): ReLU(inplace=True)\n",
              "    (batchnorm): BatchNorm2d(128, eps=1e-05, momentum=0.1, affine=True, track_running_stats=True)\n",
              "    (maxpool): MaxPool2d(kernel_size=2, stride=2, padding=0, dilation=1, ceil_mode=False)\n",
              "    (skip_connection): Sequential(\n",
              "      (0): Conv2d(64, 128, kernel_size=(1, 1), stride=(1, 1))\n",
              "      (1): MaxPool2d(kernel_size=2, stride=2, padding=0, dilation=1, ceil_mode=False)\n",
              "    )\n",
              "  )\n",
              "  (dropout1): Dropout2d(p=0.5, inplace=False)\n",
              "  (block4): DEMNetBlock(\n",
              "    (conv1): Conv2d(128, 256, kernel_size=(3, 3), stride=(1, 1), padding=(1, 1))\n",
              "    (relu1): ReLU(inplace=True)\n",
              "    (conv2): Conv2d(256, 256, kernel_size=(3, 3), stride=(1, 1), padding=(1, 1))\n",
              "    (relu2): ReLU(inplace=True)\n",
              "    (batchnorm): BatchNorm2d(256, eps=1e-05, momentum=0.1, affine=True, track_running_stats=True)\n",
              "    (maxpool): MaxPool2d(kernel_size=2, stride=2, padding=0, dilation=1, ceil_mode=False)\n",
              "    (skip_connection): Sequential(\n",
              "      (0): Conv2d(128, 256, kernel_size=(1, 1), stride=(1, 1))\n",
              "      (1): MaxPool2d(kernel_size=2, stride=2, padding=0, dilation=1, ceil_mode=False)\n",
              "    )\n",
              "  )\n",
              "  (dropout2): Dropout2d(p=0.5, inplace=False)\n",
              "  (flatten): Flatten(start_dim=1, end_dim=-1)\n",
              "  (fc1): Linear(in_features=6400, out_features=512, bias=True)\n",
              "  (dropout3): Dropout(p=0.5, inplace=False)\n",
              "  (fc2): Linear(in_features=512, out_features=128, bias=True)\n",
              "  (dropout4): Dropout(p=0.5, inplace=False)\n",
              "  (fc3): Linear(in_features=128, out_features=64, bias=True)\n",
              "  (dropout5): Dropout(p=0.5, inplace=False)\n",
              "  (fc4): Linear(in_features=64, out_features=4, bias=True)\n",
              ")"
            ]
          },
          "metadata": {},
          "execution_count": 16
        }
      ]
    },
    {
      "cell_type": "markdown",
      "source": [
        "## ROC , AUC , Precision , Classification Metrics , Accuracy and Loss Curve"
      ],
      "metadata": {
        "id": "tioWRnwPZ1V6"
      }
    },
    {
      "cell_type": "markdown",
      "source": [
        "### ROC Curve & AUC"
      ],
      "metadata": {
        "id": "0Afh565-b2Kz"
      }
    },
    {
      "cell_type": "code",
      "source": [
        "with torch.no_grad():\n",
        "    predictions = []\n",
        "    true_labels = []\n",
        "    for batch,(x,y) in enumerate(test_dataloader):\n",
        "      x,y = x.to(device),y.to(device)\n",
        "      outputs = model_0(x)\n",
        "      _, predicted = torch.max(outputs.data, 1)\n",
        "      predictions.extend(predicted.tolist())\n",
        "      true_labels.extend(y.tolist())"
      ],
      "metadata": {
        "id": "zJLirYgZLzqN"
      },
      "execution_count": 17,
      "outputs": []
    },
    {
      "cell_type": "code",
      "source": [
        "fpr, tpr, thresholds = roc_curve(true_labels, predictions)\n",
        "auc = roc_auc_score(true_labels, predictions)"
      ],
      "metadata": {
        "id": "0pmmtMb8aHO4"
      },
      "execution_count": 18,
      "outputs": []
    },
    {
      "cell_type": "code",
      "source": [
        "plt.plot(fpr, tpr)\n",
        "plt.xlabel('False Positive Rate')\n",
        "plt.ylabel('True Positive Rate')\n",
        "plt.title('Receiver Operating Characteristic (ROC) Curve')\n",
        "plt.show()"
      ],
      "metadata": {
        "colab": {
          "base_uri": "https://localhost:8080/",
          "height": 472
        },
        "id": "jwMUyyVdaQE9",
        "outputId": "a892300b-8289-41bb-acb0-728159d9d29f"
      },
      "execution_count": 19,
      "outputs": [
        {
          "output_type": "display_data",
          "data": {
            "text/plain": [
              "<Figure size 640x480 with 1 Axes>"
            ],
            "image/png": "[encoded data removed]"
          },
          "metadata": {}
        }
      ]
    },
    {
      "cell_type": "code",
      "source": [
        "print(\"AUC:\", auc)"
      ],
      "metadata": {
        "colab": {
          "base_uri": "https://localhost:8080/"
        },
        "id": "PJAp71qdiKSM",
        "outputId": "3ed1565f-e2dd-47dd-851d-d419d59833e1"
      },
      "execution_count": 20,
      "outputs": [
        {
          "output_type": "stream",
          "name": "stdout",
          "text": [
            "AUC: 0.8390625\n"
          ]
        }
      ]
    },
    {
      "cell_type": "markdown",
      "source": [
        "### Accuracy"
      ],
      "metadata": {
        "id": "gQVnug9Zb41g"
      }
    },
    {
      "cell_type": "code",
      "source": [
        "correct = 0\n",
        "total = 0\n",
        "with torch.no_grad():\n",
        "    for batch,(x,y) in enumerate(test_dataloader):\n",
        "      x,y = x.to(device),y.to(device)\n",
        "      outputs = model_0(x)\n",
        "      _, predicted = torch.max(outputs.data, 1)\n",
        "      total += y.size(0)\n",
        "      correct += (predicted == y).sum().item()"
      ],
      "metadata": {
        "id": "oj7Z9sEuXGGH"
      },
      "execution_count": 21,
      "outputs": []
    },
    {
      "cell_type": "code",
      "source": [
        "accuracy = correct / total\n",
        "print(f\"Accuracy: {accuracy}\")"
      ],
      "metadata": {
        "colab": {
          "base_uri": "https://localhost:8080/"
        },
        "id": "RU2R1tC2K548",
        "outputId": "98edbfb3-2b48-43e5-e11c-ef514bb4e1d4"
      },
      "execution_count": 22,
      "outputs": [
        {
          "output_type": "stream",
          "name": "stdout",
          "text": [
            "Accuracy: 0.8390625\n"
          ]
        }
      ]
    },
    {
      "cell_type": "code",
      "source": [
        "cm = confusion_matrix(true_labels, predictions)"
      ],
      "metadata": {
        "id": "1PySI0fWXoCf"
      },
      "execution_count": 23,
      "outputs": []
    },
    {
      "cell_type": "code",
      "source": [
        "labels = ['NonDemented','ModerateDemented']\n",
        "\n",
        "plt.figure(figsize=(8, 6))\n",
        "sns.heatmap(cm, annot=True, fmt=\"d\", cmap=\"Blues\", xticklabels=labels, yticklabels=labels)\n",
        "plt.xlabel(\"Predicted\")\n",
        "plt.ylabel(\"True\")\n",
        "plt.title(\"Confusion Matrix\")\n",
        "plt.show()"
      ],
      "metadata": {
        "colab": {
          "base_uri": "https://localhost:8080/",
          "height": 564
        },
        "id": "So6QfdOqcK83",
        "outputId": "4c1aab03-c5a5-4fd2-d9fa-2c73c8b1450d"
      },
      "execution_count": 24,
      "outputs": [
        {
          "output_type": "display_data",
          "data": {
            "text/plain": [
              "<Figure size 800x600 with 2 Axes>"
            ],
            "image/png": "[encoded data removed]"
          },
          "metadata": {}
        }
      ]
    },
    {
      "cell_type": "code",
      "source": [
        "true_positives = cm.diagonal()\n",
        "false_positives = cm.sum(axis=0) - true_positives\n",
        "false_negatives = cm.sum(axis=1) - true_positives\n",
        "true_negatives = cm.sum() - (true_positives + false_positives + false_negatives)"
      ],
      "metadata": {
        "id": "f8MEUT27eYcN"
      },
      "execution_count": 25,
      "outputs": []
    },
    {
      "cell_type": "code",
      "source": [
        "accuracy = (true_positives + true_negatives) / cm.sum()\n",
        "precision = true_positives / (true_positives + false_positives)\n",
        "\n",
        "print(\"Accuracy:\", accuracy)\n",
        "print(\"Precision:\", precision)"
      ],
      "metadata": {
        "colab": {
          "base_uri": "https://localhost:8080/"
        },
        "id": "UR1c6HlEek1p",
        "outputId": "ef2c1486-81d8-4a49-9b5f-b9a6922da662"
      },
      "execution_count": 26,
      "outputs": [
        {
          "output_type": "stream",
          "name": "stdout",
          "text": [
            "Accuracy: [0.8390625 0.8390625]\n",
            "Precision: [0.97173913 0.76463415]\n"
          ]
        }
      ]
    },
    {
      "cell_type": "markdown",
      "source": [
        "### Loss Curve"
      ],
      "metadata": {
        "id": "ORSIlUBCh2rx"
      }
    },
    {
      "cell_type": "code",
      "source": [
        "plt.plot(range(1, NUM_EPOCHS+1), model_0_results['train_loss'])\n",
        "plt.xlabel('Epoch')\n",
        "plt.ylabel('Loss')\n",
        "plt.title('Training Loss Curve')\n",
        "plt.show()"
      ],
      "metadata": {
        "colab": {
          "base_uri": "https://localhost:8080/",
          "height": 472
        },
        "id": "xVa0Nsnvenq_",
        "outputId": "32db141f-51d9-4458-e49d-05e4ce427bbe"
      },
      "execution_count": 27,
      "outputs": [
        {
          "output_type": "display_data",
          "data": {
            "text/plain": [
              "<Figure size 640x480 with 1 Axes>"
            ],
            "image/png": "[encoded data removed]"
          },
          "metadata": {}
        }
      ]
    },
    {
      "cell_type": "markdown",
      "source": [
        "### Train & Test Accuracy"
      ],
      "metadata": {
        "id": "8cXSjlS2k-gI"
      }
    },
    {
      "cell_type": "code",
      "source": [
        "plt.plot(range(1, NUM_EPOCHS+1), model_0_results['train_acc'], label='Train Accuracy')\n",
        "plt.plot(range(1, NUM_EPOCHS+1), model_0_results['test_acc'], label='Test Accuracy')\n",
        "plt.xlabel('Epoch')\n",
        "plt.ylabel('Accuracy')\n",
        "plt.legend()\n",
        "plt.show()"
      ],
      "metadata": {
        "colab": {
          "base_uri": "https://localhost:8080/",
          "height": 449
        },
        "id": "NYgkGxNQkaSl",
        "outputId": "5bda0ddd-562e-48fb-a3b1-9eec5feef82e"
      },
      "execution_count": 28,
      "outputs": [
        {
          "output_type": "display_data",
          "data": {
            "text/plain": [
              "<Figure size 640x480 with 1 Axes>"
            ],
            "image/png": "[encoded data removed]"
          },
          "metadata": {}
        }
      ]
    },
    {
      "cell_type": "markdown",
      "source": [
        "___"
      ],
      "metadata": {
        "id": "8ROp1Xoghl3D"
      }
    },
    {
      "cell_type": "markdown",
      "source": [
        "## Fourier Bessel Transform"
      ],
      "metadata": {
        "id": "gaZm8vgBl6MG"
      }
    },
    {
      "cell_type": "code",
      "source": [
        "from scipy.fftpack import dct, idct\n",
        "from scipy.special import jn, jn_zeros"
      ],
      "metadata": {
        "id": "UpJe03wCuAvx"
      },
      "execution_count": 14,
      "outputs": []
    },
    {
      "cell_type": "code",
      "source": [
        "def fourier_bessel_transform(img):\n",
        "    img_np = np.array(img)\n",
        "    c, h, w = img_np.shape\n",
        "    freq_r = np.fft.fftfreq(h) * h\n",
        "    freq_r = np.fft.fftshift(freq_r)\n",
        "    freq_a = np.arange(w) - (w // 2)\n",
        "    bessel_zeros = jn_zeros(0, c)\n",
        "    img_transformed = np.zeros((c, h, w), dtype=np.complex64)\n",
        "    for i in range(c):\n",
        "        for j in range(h):\n",
        "            for k in range(w):\n",
        "                r = freq_r[j]\n",
        "                a = freq_a[k]\n",
        "                img_transformed[i, j, k] = np.sum(img_np[i] * jn(0, bessel_zeros[i] * r) * np.exp(1j * a * r))\n",
        "    img_transformed = torch.from_numpy(img_transformed.real)\n",
        "    return img_transformed\n",
        "\n",
        "# def fourier_bessel_transform(image):\n",
        "#     f_size = 25\n",
        "#     transformed_channels = []\n",
        "#     for i in range(3):\n",
        "#         rgb_fft = np.fft.fftshift(np.fft.fft2((image[:, :, i])))\n",
        "#         rgb_fft[:225, 235:237] = 1\n",
        "#         rgb_fft[-225:,235:237] = 1\n",
        "#         transformed_channels.append(abs(np.fft.ifft2(rgb_fft)))\n",
        "\n",
        "#     final_image = np.dstack([transformed_channels[0].astype(int),\n",
        "#                              transformed_channels[1].astype(int),\n",
        "#                              transformed_channels[2].astype(int)])\n",
        "#     return final_image"
      ],
      "metadata": {
        "id": "Lt_ZhW6ul58t"
      },
      "execution_count": 32,
      "outputs": []
    },
    {
      "cell_type": "code",
      "source": [
        "train_dataset = datasets.ImageFolder('/content/drive/MyDrive/Career/Research papers/alzheimers/Alzheimer_s Dataset/train', transform=transform)\n",
        "test_dataset = datasets.ImageFolder('/content/drive/MyDrive/Career/Research papers/alzheimers/Alzheimer_s Dataset/test', transform=transform)"
      ],
      "metadata": {
        "id": "ULabWIjfm90o"
      },
      "execution_count": 15,
      "outputs": []
    },
    {
      "cell_type": "code",
      "source": [
        "len(train_dataset)"
      ],
      "metadata": {
        "colab": {
          "base_uri": "https://localhost:8080/"
        },
        "id": "FYG0osJqyp8f",
        "outputId": "a5498b08-a019-4896-b276-5e83ea72a104"
      },
      "execution_count": 16,
      "outputs": [
        {
          "output_type": "execute_result",
          "data": {
            "text/plain": [
              "5120"
            ]
          },
          "metadata": {},
          "execution_count": 16
        }
      ]
    },
    {
      "cell_type": "code",
      "source": [
        "transformed_dataset = []\n",
        "i=1\n",
        "for image, _ in train_dataset:\n",
        "    transformed_image = fourier_bessel_transform(image)\n",
        "    transformed_dataset.append(transformed_image)\n",
        "    print('{}/{} image done.'.format(i,len(train_dataset)))\n",
        "    i+=1\n",
        "    if i==5: break\n",
        "transformed_dataset = torch.stack(transformed_dataset)"
      ],
      "metadata": {
        "colab": {
          "base_uri": "https://localhost:8080/"
        },
        "id": "8FkM2v90ojhW",
        "outputId": "1410488b-264b-409f-8744-e10cd9356e43"
      },
      "execution_count": 33,
      "outputs": [
        {
          "output_type": "stream",
          "name": "stdout",
          "text": [
            "1/5120 image done.\n",
            "2/5120 image done.\n",
            "3/5120 image done.\n",
            "4/5120 image done.\n"
          ]
        }
      ]
    },
    {
      "cell_type": "code",
      "source": [
        "train_size = int(0.8 * len(train_dataset))\n",
        "validation_size = len(train_dataset) - train_size"
      ],
      "metadata": {
        "id": "oWxYiXVNn7OB"
      },
      "execution_count": 17,
      "outputs": []
    },
    {
      "cell_type": "code",
      "source": [
        "train_size = int(0.8 * len(transformed_dataset))\n",
        "validation_size = len(transformed_dataset) - train_size"
      ],
      "metadata": {
        "id": "P_Xt74Qf6D_B"
      },
      "execution_count": null,
      "outputs": []
    },
    {
      "cell_type": "code",
      "source": [
        "training_dataset, validation_dataset = torch.utils.data.random_split(transformed_dataset, [train_size, validation_size])"
      ],
      "metadata": {
        "id": "znCfYeSVn-oe"
      },
      "execution_count": 23,
      "outputs": []
    },
    {
      "cell_type": "code",
      "source": [
        "BATCH_SIZE = 1\n",
        "train_dataloader = DataLoader(dataset=training_dataset,batch_size=BATCH_SIZE,num_workers=os.cpu_count(),shuffle=True)\n",
        "validation_dataloader = DataLoader(dataset=validation_dataset,batch_size=BATCH_SIZE,num_workers=os.cpu_count(),shuffle=True)\n",
        "test_dataloader = DataLoader(dataset=test_dataset,batch_size=BATCH_SIZE,num_workers=os.cpu_count(),shuffle=True)"
      ],
      "metadata": {
        "id": "5KK9ptz9oEI3"
      },
      "execution_count": 18,
      "outputs": []
    },
    {
      "cell_type": "code",
      "source": [
        "BATCH_SIZE = 1\n",
        "transformed_dataloader = DataLoader(dataset=train_dataset,batch_size=BATCH_SIZE,num_workers=os.cpu_count(),shuffle=True)"
      ],
      "metadata": {
        "id": "pl8cKpWQBkG_"
      },
      "execution_count": 19,
      "outputs": []
    },
    {
      "cell_type": "code",
      "source": [
        "# print(transformed_dataset)\n",
        "print(train_dataset)"
      ],
      "metadata": {
        "colab": {
          "base_uri": "https://localhost:8080/"
        },
        "id": "DoToWZz4B_28",
        "outputId": "a2891b37-8c71-4393-8a22-384bf963f6cc"
      },
      "execution_count": 47,
      "outputs": [
        {
          "output_type": "stream",
          "name": "stdout",
          "text": [
            "Dataset ImageFolder\n",
            "    Number of datapoints: 5120\n",
            "    Root location: /content/drive/MyDrive/Career/Research papers/alzheimers/Alzheimer_s Dataset/train\n",
            "    StandardTransform\n",
            "Transform: Compose(\n",
            "               Resize(size=(176, 176), interpolation=bilinear, max_size=None, antialias=warn)\n",
            "               ToTensor()\n",
            "               Normalize(mean=(0.5,), std=(0.5,))\n",
            "           )\n"
          ]
        }
      ]
    },
    {
      "cell_type": "code",
      "source": [
        "for batch, (X, y) in enumerate(train_dataloader):\n",
        "  X, y = X.to(device), y.to(device)\n",
        "  print(y)"
      ],
      "metadata": {
        "colab": {
          "base_uri": "https://localhost:8080/",
          "height": 1000
        },
        "id": "yphoktj2B83S",
        "outputId": "6e757070-ab4a-40d2-eb04-fb99385365a9"
      },
      "execution_count": 49,
      "outputs": [
        {
          "output_type": "stream",
          "name": "stdout",
          "text": [
            "tensor([0], device='cuda:0')\n",
            "tensor([1], device='cuda:0')\n",
            "tensor([0], device='cuda:0')\n",
            "tensor([0], device='cuda:0')\n",
            "tensor([1], device='cuda:0')\n",
            "tensor([1], device='cuda:0')\n",
            "tensor([0], device='cuda:0')\n",
            "tensor([1], device='cuda:0')\n",
            "tensor([0], device='cuda:0')\n",
            "tensor([1], device='cuda:0')\n",
            "tensor([0], device='cuda:0')\n",
            "tensor([0], device='cuda:0')\n",
            "tensor([1], device='cuda:0')\n",
            "tensor([0], device='cuda:0')\n",
            "tensor([1], device='cuda:0')\n",
            "tensor([0], device='cuda:0')\n",
            "tensor([0], device='cuda:0')\n",
            "tensor([1], device='cuda:0')\n",
            "tensor([1], device='cuda:0')\n",
            "tensor([1], device='cuda:0')\n",
            "tensor([1], device='cuda:0')\n",
            "tensor([1], device='cuda:0')\n",
            "tensor([0], device='cuda:0')\n",
            "tensor([0], device='cuda:0')\n",
            "tensor([1], device='cuda:0')\n",
            "tensor([0], device='cuda:0')\n",
            "tensor([1], device='cuda:0')\n",
            "tensor([0], device='cuda:0')\n",
            "tensor([1], device='cuda:0')\n",
            "tensor([1], device='cuda:0')\n",
            "tensor([1], device='cuda:0')\n",
            "tensor([0], device='cuda:0')\n",
            "tensor([1], device='cuda:0')\n",
            "tensor([0], device='cuda:0')\n",
            "tensor([1], device='cuda:0')\n",
            "tensor([1], device='cuda:0')\n",
            "tensor([1], device='cuda:0')\n",
            "tensor([1], device='cuda:0')\n",
            "tensor([1], device='cuda:0')\n",
            "tensor([1], device='cuda:0')\n",
            "tensor([0], device='cuda:0')\n",
            "tensor([0], device='cuda:0')\n",
            "tensor([1], device='cuda:0')\n",
            "tensor([0], device='cuda:0')\n",
            "tensor([1], device='cuda:0')\n",
            "tensor([0], device='cuda:0')\n",
            "tensor([0], device='cuda:0')\n",
            "tensor([1], device='cuda:0')\n",
            "tensor([0], device='cuda:0')\n",
            "tensor([0], device='cuda:0')\n",
            "tensor([1], device='cuda:0')\n",
            "tensor([1], device='cuda:0')\n",
            "tensor([1], device='cuda:0')\n",
            "tensor([1], device='cuda:0')\n",
            "tensor([1], device='cuda:0')\n",
            "tensor([1], device='cuda:0')\n",
            "tensor([0], device='cuda:0')\n",
            "tensor([1], device='cuda:0')\n",
            "tensor([0], device='cuda:0')\n",
            "tensor([1], device='cuda:0')\n",
            "tensor([0], device='cuda:0')\n",
            "tensor([1], device='cuda:0')\n",
            "tensor([1], device='cuda:0')\n",
            "tensor([0], device='cuda:0')\n",
            "tensor([0], device='cuda:0')\n",
            "tensor([1], device='cuda:0')\n",
            "tensor([0], device='cuda:0')\n",
            "tensor([1], device='cuda:0')\n",
            "tensor([0], device='cuda:0')\n",
            "tensor([1], device='cuda:0')\n",
            "tensor([1], device='cuda:0')\n",
            "tensor([0], device='cuda:0')\n"
          ]
        },
        {
          "output_type": "error",
          "ename": "KeyboardInterrupt",
          "evalue": "ignored",
          "traceback": [
            "\u001b[0;31m---------------------------------------------------------------------------\u001b[0m",
            "\u001b[0;31mKeyboardInterrupt\u001b[0m                         Traceback (most recent call last)",
            "\u001b[0;32m<ipython-input-49-761d4e023ba4>\u001b[0m in \u001b[0;36m<cell line: 1>\u001b[0;34m()\u001b[0m\n\u001b[0;32m----> 1\u001b[0;31m \u001b[0;32mfor\u001b[0m \u001b[0mbatch\u001b[0m\u001b[0;34m,\u001b[0m \u001b[0;34m(\u001b[0m\u001b[0mX\u001b[0m\u001b[0;34m,\u001b[0m \u001b[0my\u001b[0m\u001b[0;34m)\u001b[0m \u001b[0;32min\u001b[0m \u001b[0menumerate\u001b[0m\u001b[0;34m(\u001b[0m\u001b[0mtrain_dataloader\u001b[0m\u001b[0;34m)\u001b[0m\u001b[0;34m:\u001b[0m\u001b[0;34m\u001b[0m\u001b[0;34m\u001b[0m\u001b[0m\n\u001b[0m\u001b[1;32m      2\u001b[0m   \u001b[0mX\u001b[0m\u001b[0;34m,\u001b[0m \u001b[0my\u001b[0m \u001b[0;34m=\u001b[0m \u001b[0mX\u001b[0m\u001b[0;34m.\u001b[0m\u001b[0mto\u001b[0m\u001b[0;34m(\u001b[0m\u001b[0mdevice\u001b[0m\u001b[0;34m)\u001b[0m\u001b[0;34m,\u001b[0m \u001b[0my\u001b[0m\u001b[0;34m.\u001b[0m\u001b[0mto\u001b[0m\u001b[0;34m(\u001b[0m\u001b[0mdevice\u001b[0m\u001b[0;34m)\u001b[0m\u001b[0;34m\u001b[0m\u001b[0;34m\u001b[0m\u001b[0m\n\u001b[1;32m      3\u001b[0m   \u001b[0mprint\u001b[0m\u001b[0;34m(\u001b[0m\u001b[0my\u001b[0m\u001b[0;34m)\u001b[0m\u001b[0;34m\u001b[0m\u001b[0;34m\u001b[0m\u001b[0m\n",
            "\u001b[0;32m/usr/local/lib/python3.10/dist-packages/torch/utils/data/dataloader.py\u001b[0m in \u001b[0;36m__next__\u001b[0;34m(self)\u001b[0m\n\u001b[1;32m    631\u001b[0m                 \u001b[0;31m# TODO(https://github.com/pytorch/pytorch/issues/76750)\u001b[0m\u001b[0;34m\u001b[0m\u001b[0;34m\u001b[0m\u001b[0m\n\u001b[1;32m    632\u001b[0m                 \u001b[0mself\u001b[0m\u001b[0;34m.\u001b[0m\u001b[0m_reset\u001b[0m\u001b[0;34m(\u001b[0m\u001b[0;34m)\u001b[0m  \u001b[0;31m# type: ignore[call-arg]\u001b[0m\u001b[0;34m\u001b[0m\u001b[0;34m\u001b[0m\u001b[0m\n\u001b[0;32m--> 633\u001b[0;31m             \u001b[0mdata\u001b[0m \u001b[0;34m=\u001b[0m \u001b[0mself\u001b[0m\u001b[0;34m.\u001b[0m\u001b[0m_next_data\u001b[0m\u001b[0;34m(\u001b[0m\u001b[0;34m)\u001b[0m\u001b[0;34m\u001b[0m\u001b[0;34m\u001b[0m\u001b[0m\n\u001b[0m\u001b[1;32m    634\u001b[0m             \u001b[0mself\u001b[0m\u001b[0;34m.\u001b[0m\u001b[0m_num_yielded\u001b[0m \u001b[0;34m+=\u001b[0m \u001b[0;36m1\u001b[0m\u001b[0;34m\u001b[0m\u001b[0;34m\u001b[0m\u001b[0m\n\u001b[1;32m    635\u001b[0m             \u001b[0;32mif\u001b[0m \u001b[0mself\u001b[0m\u001b[0;34m.\u001b[0m\u001b[0m_dataset_kind\u001b[0m \u001b[0;34m==\u001b[0m \u001b[0m_DatasetKind\u001b[0m\u001b[0;34m.\u001b[0m\u001b[0mIterable\u001b[0m \u001b[0;32mand\u001b[0m\u001b[0;31m \u001b[0m\u001b[0;31m\\\u001b[0m\u001b[0;34m\u001b[0m\u001b[0;34m\u001b[0m\u001b[0m\n",
            "\u001b[0;32m/usr/local/lib/python3.10/dist-packages/torch/utils/data/dataloader.py\u001b[0m in \u001b[0;36m_next_data\u001b[0;34m(self)\u001b[0m\n\u001b[1;32m   1326\u001b[0m \u001b[0;34m\u001b[0m\u001b[0m\n\u001b[1;32m   1327\u001b[0m             \u001b[0;32massert\u001b[0m \u001b[0;32mnot\u001b[0m \u001b[0mself\u001b[0m\u001b[0;34m.\u001b[0m\u001b[0m_shutdown\u001b[0m \u001b[0;32mand\u001b[0m \u001b[0mself\u001b[0m\u001b[0;34m.\u001b[0m\u001b[0m_tasks_outstanding\u001b[0m \u001b[0;34m>\u001b[0m \u001b[0;36m0\u001b[0m\u001b[0;34m\u001b[0m\u001b[0;34m\u001b[0m\u001b[0m\n\u001b[0;32m-> 1328\u001b[0;31m             \u001b[0midx\u001b[0m\u001b[0;34m,\u001b[0m \u001b[0mdata\u001b[0m \u001b[0;34m=\u001b[0m \u001b[0mself\u001b[0m\u001b[0;34m.\u001b[0m\u001b[0m_get_data\u001b[0m\u001b[0;34m(\u001b[0m\u001b[0;34m)\u001b[0m\u001b[0;34m\u001b[0m\u001b[0;34m\u001b[0m\u001b[0m\n\u001b[0m\u001b[1;32m   1329\u001b[0m             \u001b[0mself\u001b[0m\u001b[0;34m.\u001b[0m\u001b[0m_tasks_outstanding\u001b[0m \u001b[0;34m-=\u001b[0m \u001b[0;36m1\u001b[0m\u001b[0;34m\u001b[0m\u001b[0;34m\u001b[0m\u001b[0m\n\u001b[1;32m   1330\u001b[0m             \u001b[0;32mif\u001b[0m \u001b[0mself\u001b[0m\u001b[0;34m.\u001b[0m\u001b[0m_dataset_kind\u001b[0m \u001b[0;34m==\u001b[0m \u001b[0m_DatasetKind\u001b[0m\u001b[0;34m.\u001b[0m\u001b[0mIterable\u001b[0m\u001b[0;34m:\u001b[0m\u001b[0;34m\u001b[0m\u001b[0;34m\u001b[0m\u001b[0m\n",
            "\u001b[0;32m/usr/local/lib/python3.10/dist-packages/torch/utils/data/dataloader.py\u001b[0m in \u001b[0;36m_get_data\u001b[0;34m(self)\u001b[0m\n\u001b[1;32m   1292\u001b[0m         \u001b[0;32melse\u001b[0m\u001b[0;34m:\u001b[0m\u001b[0;34m\u001b[0m\u001b[0;34m\u001b[0m\u001b[0m\n\u001b[1;32m   1293\u001b[0m             \u001b[0;32mwhile\u001b[0m \u001b[0;32mTrue\u001b[0m\u001b[0;34m:\u001b[0m\u001b[0;34m\u001b[0m\u001b[0;34m\u001b[0m\u001b[0m\n\u001b[0;32m-> 1294\u001b[0;31m                 \u001b[0msuccess\u001b[0m\u001b[0;34m,\u001b[0m \u001b[0mdata\u001b[0m \u001b[0;34m=\u001b[0m \u001b[0mself\u001b[0m\u001b[0;34m.\u001b[0m\u001b[0m_try_get_data\u001b[0m\u001b[0;34m(\u001b[0m\u001b[0;34m)\u001b[0m\u001b[0;34m\u001b[0m\u001b[0;34m\u001b[0m\u001b[0m\n\u001b[0m\u001b[1;32m   1295\u001b[0m                 \u001b[0;32mif\u001b[0m \u001b[0msuccess\u001b[0m\u001b[0;34m:\u001b[0m\u001b[0;34m\u001b[0m\u001b[0;34m\u001b[0m\u001b[0m\n\u001b[1;32m   1296\u001b[0m                     \u001b[0;32mreturn\u001b[0m \u001b[0mdata\u001b[0m\u001b[0;34m\u001b[0m\u001b[0;34m\u001b[0m\u001b[0m\n",
            "\u001b[0;32m/usr/local/lib/python3.10/dist-packages/torch/utils/data/dataloader.py\u001b[0m in \u001b[0;36m_try_get_data\u001b[0;34m(self, timeout)\u001b[0m\n\u001b[1;32m   1130\u001b[0m         \u001b[0;31m#   (bool: whether successfully get data, any: data if successful else None)\u001b[0m\u001b[0;34m\u001b[0m\u001b[0;34m\u001b[0m\u001b[0m\n\u001b[1;32m   1131\u001b[0m         \u001b[0;32mtry\u001b[0m\u001b[0;34m:\u001b[0m\u001b[0;34m\u001b[0m\u001b[0;34m\u001b[0m\u001b[0m\n\u001b[0;32m-> 1132\u001b[0;31m             \u001b[0mdata\u001b[0m \u001b[0;34m=\u001b[0m \u001b[0mself\u001b[0m\u001b[0;34m.\u001b[0m\u001b[0m_data_queue\u001b[0m\u001b[0;34m.\u001b[0m\u001b[0mget\u001b[0m\u001b[0;34m(\u001b[0m\u001b[0mtimeout\u001b[0m\u001b[0;34m=\u001b[0m\u001b[0mtimeout\u001b[0m\u001b[0;34m)\u001b[0m\u001b[0;34m\u001b[0m\u001b[0;34m\u001b[0m\u001b[0m\n\u001b[0m\u001b[1;32m   1133\u001b[0m             \u001b[0;32mreturn\u001b[0m \u001b[0;34m(\u001b[0m\u001b[0;32mTrue\u001b[0m\u001b[0;34m,\u001b[0m \u001b[0mdata\u001b[0m\u001b[0;34m)\u001b[0m\u001b[0;34m\u001b[0m\u001b[0;34m\u001b[0m\u001b[0m\n\u001b[1;32m   1134\u001b[0m         \u001b[0;32mexcept\u001b[0m \u001b[0mException\u001b[0m \u001b[0;32mas\u001b[0m \u001b[0me\u001b[0m\u001b[0;34m:\u001b[0m\u001b[0;34m\u001b[0m\u001b[0;34m\u001b[0m\u001b[0m\n",
            "\u001b[0;32m/usr/lib/python3.10/multiprocessing/queues.py\u001b[0m in \u001b[0;36mget\u001b[0;34m(self, block, timeout)\u001b[0m\n\u001b[1;32m    111\u001b[0m                 \u001b[0;32mif\u001b[0m \u001b[0mblock\u001b[0m\u001b[0;34m:\u001b[0m\u001b[0;34m\u001b[0m\u001b[0;34m\u001b[0m\u001b[0m\n\u001b[1;32m    112\u001b[0m                     \u001b[0mtimeout\u001b[0m \u001b[0;34m=\u001b[0m \u001b[0mdeadline\u001b[0m \u001b[0;34m-\u001b[0m \u001b[0mtime\u001b[0m\u001b[0;34m.\u001b[0m\u001b[0mmonotonic\u001b[0m\u001b[0;34m(\u001b[0m\u001b[0;34m)\u001b[0m\u001b[0;34m\u001b[0m\u001b[0;34m\u001b[0m\u001b[0m\n\u001b[0;32m--> 113\u001b[0;31m                     \u001b[0;32mif\u001b[0m \u001b[0;32mnot\u001b[0m \u001b[0mself\u001b[0m\u001b[0;34m.\u001b[0m\u001b[0m_poll\u001b[0m\u001b[0;34m(\u001b[0m\u001b[0mtimeout\u001b[0m\u001b[0;34m)\u001b[0m\u001b[0;34m:\u001b[0m\u001b[0;34m\u001b[0m\u001b[0;34m\u001b[0m\u001b[0m\n\u001b[0m\u001b[1;32m    114\u001b[0m                         \u001b[0;32mraise\u001b[0m \u001b[0mEmpty\u001b[0m\u001b[0;34m\u001b[0m\u001b[0;34m\u001b[0m\u001b[0m\n\u001b[1;32m    115\u001b[0m                 \u001b[0;32melif\u001b[0m \u001b[0;32mnot\u001b[0m \u001b[0mself\u001b[0m\u001b[0;34m.\u001b[0m\u001b[0m_poll\u001b[0m\u001b[0;34m(\u001b[0m\u001b[0;34m)\u001b[0m\u001b[0;34m:\u001b[0m\u001b[0;34m\u001b[0m\u001b[0;34m\u001b[0m\u001b[0m\n",
            "\u001b[0;32m/usr/lib/python3.10/multiprocessing/connection.py\u001b[0m in \u001b[0;36mpoll\u001b[0;34m(self, timeout)\u001b[0m\n\u001b[1;32m    255\u001b[0m         \u001b[0mself\u001b[0m\u001b[0;34m.\u001b[0m\u001b[0m_check_closed\u001b[0m\u001b[0;34m(\u001b[0m\u001b[0;34m)\u001b[0m\u001b[0;34m\u001b[0m\u001b[0;34m\u001b[0m\u001b[0m\n\u001b[1;32m    256\u001b[0m         \u001b[0mself\u001b[0m\u001b[0;34m.\u001b[0m\u001b[0m_check_readable\u001b[0m\u001b[0;34m(\u001b[0m\u001b[0;34m)\u001b[0m\u001b[0;34m\u001b[0m\u001b[0;34m\u001b[0m\u001b[0m\n\u001b[0;32m--> 257\u001b[0;31m         \u001b[0;32mreturn\u001b[0m \u001b[0mself\u001b[0m\u001b[0;34m.\u001b[0m\u001b[0m_poll\u001b[0m\u001b[0;34m(\u001b[0m\u001b[0mtimeout\u001b[0m\u001b[0;34m)\u001b[0m\u001b[0;34m\u001b[0m\u001b[0;34m\u001b[0m\u001b[0m\n\u001b[0m\u001b[1;32m    258\u001b[0m \u001b[0;34m\u001b[0m\u001b[0m\n\u001b[1;32m    259\u001b[0m     \u001b[0;32mdef\u001b[0m \u001b[0m__enter__\u001b[0m\u001b[0;34m(\u001b[0m\u001b[0mself\u001b[0m\u001b[0;34m)\u001b[0m\u001b[0;34m:\u001b[0m\u001b[0;34m\u001b[0m\u001b[0;34m\u001b[0m\u001b[0m\n",
            "\u001b[0;32m/usr/lib/python3.10/multiprocessing/connection.py\u001b[0m in \u001b[0;36m_poll\u001b[0;34m(self, timeout)\u001b[0m\n\u001b[1;32m    422\u001b[0m \u001b[0;34m\u001b[0m\u001b[0m\n\u001b[1;32m    423\u001b[0m     \u001b[0;32mdef\u001b[0m \u001b[0m_poll\u001b[0m\u001b[0;34m(\u001b[0m\u001b[0mself\u001b[0m\u001b[0;34m,\u001b[0m \u001b[0mtimeout\u001b[0m\u001b[0;34m)\u001b[0m\u001b[0;34m:\u001b[0m\u001b[0;34m\u001b[0m\u001b[0;34m\u001b[0m\u001b[0m\n\u001b[0;32m--> 424\u001b[0;31m         \u001b[0mr\u001b[0m \u001b[0;34m=\u001b[0m \u001b[0mwait\u001b[0m\u001b[0;34m(\u001b[0m\u001b[0;34m[\u001b[0m\u001b[0mself\u001b[0m\u001b[0;34m]\u001b[0m\u001b[0;34m,\u001b[0m \u001b[0mtimeout\u001b[0m\u001b[0;34m)\u001b[0m\u001b[0;34m\u001b[0m\u001b[0;34m\u001b[0m\u001b[0m\n\u001b[0m\u001b[1;32m    425\u001b[0m         \u001b[0;32mreturn\u001b[0m \u001b[0mbool\u001b[0m\u001b[0;34m(\u001b[0m\u001b[0mr\u001b[0m\u001b[0;34m)\u001b[0m\u001b[0;34m\u001b[0m\u001b[0;34m\u001b[0m\u001b[0m\n\u001b[1;32m    426\u001b[0m \u001b[0;34m\u001b[0m\u001b[0m\n",
            "\u001b[0;32m/usr/lib/python3.10/multiprocessing/connection.py\u001b[0m in \u001b[0;36mwait\u001b[0;34m(object_list, timeout)\u001b[0m\n\u001b[1;32m    929\u001b[0m \u001b[0;34m\u001b[0m\u001b[0m\n\u001b[1;32m    930\u001b[0m             \u001b[0;32mwhile\u001b[0m \u001b[0;32mTrue\u001b[0m\u001b[0;34m:\u001b[0m\u001b[0;34m\u001b[0m\u001b[0;34m\u001b[0m\u001b[0m\n\u001b[0;32m--> 931\u001b[0;31m                 \u001b[0mready\u001b[0m \u001b[0;34m=\u001b[0m \u001b[0mselector\u001b[0m\u001b[0;34m.\u001b[0m\u001b[0mselect\u001b[0m\u001b[0;34m(\u001b[0m\u001b[0mtimeout\u001b[0m\u001b[0;34m)\u001b[0m\u001b[0;34m\u001b[0m\u001b[0;34m\u001b[0m\u001b[0m\n\u001b[0m\u001b[1;32m    932\u001b[0m                 \u001b[0;32mif\u001b[0m \u001b[0mready\u001b[0m\u001b[0;34m:\u001b[0m\u001b[0;34m\u001b[0m\u001b[0;34m\u001b[0m\u001b[0m\n\u001b[1;32m    933\u001b[0m                     \u001b[0;32mreturn\u001b[0m \u001b[0;34m[\u001b[0m\u001b[0mkey\u001b[0m\u001b[0;34m.\u001b[0m\u001b[0mfileobj\u001b[0m \u001b[0;32mfor\u001b[0m \u001b[0;34m(\u001b[0m\u001b[0mkey\u001b[0m\u001b[0;34m,\u001b[0m \u001b[0mevents\u001b[0m\u001b[0;34m)\u001b[0m \u001b[0;32min\u001b[0m \u001b[0mready\u001b[0m\u001b[0;34m]\u001b[0m\u001b[0;34m\u001b[0m\u001b[0;34m\u001b[0m\u001b[0m\n",
            "\u001b[0;32m/usr/lib/python3.10/selectors.py\u001b[0m in \u001b[0;36mselect\u001b[0;34m(self, timeout)\u001b[0m\n\u001b[1;32m    414\u001b[0m         \u001b[0mready\u001b[0m \u001b[0;34m=\u001b[0m \u001b[0;34m[\u001b[0m\u001b[0;34m]\u001b[0m\u001b[0;34m\u001b[0m\u001b[0;34m\u001b[0m\u001b[0m\n\u001b[1;32m    415\u001b[0m         \u001b[0;32mtry\u001b[0m\u001b[0;34m:\u001b[0m\u001b[0;34m\u001b[0m\u001b[0;34m\u001b[0m\u001b[0m\n\u001b[0;32m--> 416\u001b[0;31m             \u001b[0mfd_event_list\u001b[0m \u001b[0;34m=\u001b[0m \u001b[0mself\u001b[0m\u001b[0;34m.\u001b[0m\u001b[0m_selector\u001b[0m\u001b[0;34m.\u001b[0m\u001b[0mpoll\u001b[0m\u001b[0;34m(\u001b[0m\u001b[0mtimeout\u001b[0m\u001b[0;34m)\u001b[0m\u001b[0;34m\u001b[0m\u001b[0;34m\u001b[0m\u001b[0m\n\u001b[0m\u001b[1;32m    417\u001b[0m         \u001b[0;32mexcept\u001b[0m \u001b[0mInterruptedError\u001b[0m\u001b[0;34m:\u001b[0m\u001b[0;34m\u001b[0m\u001b[0;34m\u001b[0m\u001b[0m\n\u001b[1;32m    418\u001b[0m             \u001b[0;32mreturn\u001b[0m \u001b[0mready\u001b[0m\u001b[0;34m\u001b[0m\u001b[0;34m\u001b[0m\u001b[0m\n",
            "\u001b[0;31mKeyboardInterrupt\u001b[0m: "
          ]
        }
      ]
    },
    {
      "cell_type": "code",
      "source": [
        "torch.manual_seed(42)\n",
        "torch.cuda.manual_seed(42)\n",
        "\n",
        "NUM_EPOCHS = 100\n",
        "\n",
        "model_1 = DEMNet(num_classes=2).to(device)\n",
        "loss_fn = nn.CrossEntropyLoss()\n",
        "optimizer = torch.optim.Adam(model_0.parameters(), lr=1e-3)\n",
        "\n",
        "start_time = timer()\n",
        "\n",
        "model_1_results = train(model_1, transformed_dataloader, validation_dataloader, optimizer, loss_fn, NUM_EPOCHS, device)\n",
        "\n",
        "end_time = timer()\n",
        "\n",
        "print(f\"Time Taken: {(end_time - start_time) / 60:.2f} mins\")"
      ],
      "metadata": {
        "colab": {
          "base_uri": "https://localhost:8080/",
          "height": 412,
          "referenced_widgets": [
            "f10339805cd649379fd0e59c7fa59597",
            "3d2aabf9c728485490ec31c0a233ed04",
            "00bc1339f30d4131b95a3cab51f4425d",
            "7217818515a84a57a9c20e6d9cc0fac4",
            "1ac90b9221374e77835a46dea8903c8b",
            "a50c2144bf274fee94833db86af38837",
            "82ac2e05e1114840bb62a2c1fcd7f49b",
            "9d109c79014944ffba0233c4a8d580cd",
            "139a63a844794c5b80938e1c844dbf24",
            "b8025890dbd24cd89e15e83125f16f3f",
            "907cc2310d184441b3d18bb369e22eba"
          ]
        },
        "id": "reRG1TkVoN7_",
        "outputId": "8174405a-75b0-42bd-e5ae-855be5b575f9"
      },
      "execution_count": null,
      "outputs": [
        {
          "output_type": "display_data",
          "data": {
            "text/plain": [
              "  0%|          | 0/100 [00:00<?, ?it/s]"
            ],
            "application/vnd.jupyter.widget-view+json": {
              "version_major": 2,
              "version_minor": 0,
              "model_id": "f10339805cd649379fd0e59c7fa59597"
            }
          },
          "metadata": {}
        },
        {
          "output_type": "error",
          "ename": "ValueError",
          "evalue": "ignored",
          "traceback": [
            "\u001b[0;31m---------------------------------------------------------------------------\u001b[0m",
            "\u001b[0;31mValueError\u001b[0m                                Traceback (most recent call last)",
            "\u001b[0;32m<ipython-input-104-16304dafe764>\u001b[0m in \u001b[0;36m<cell line: 12>\u001b[0;34m()\u001b[0m\n\u001b[1;32m     10\u001b[0m \u001b[0mstart_time\u001b[0m \u001b[0;34m=\u001b[0m \u001b[0mtimer\u001b[0m\u001b[0;34m(\u001b[0m\u001b[0;34m)\u001b[0m\u001b[0;34m\u001b[0m\u001b[0;34m\u001b[0m\u001b[0m\n\u001b[1;32m     11\u001b[0m \u001b[0;34m\u001b[0m\u001b[0m\n\u001b[0;32m---> 12\u001b[0;31m \u001b[0mmodel_1_results\u001b[0m \u001b[0;34m=\u001b[0m \u001b[0mtrain\u001b[0m\u001b[0;34m(\u001b[0m\u001b[0mmodel_1\u001b[0m\u001b[0;34m,\u001b[0m \u001b[0mtransformed_dataloader\u001b[0m\u001b[0;34m,\u001b[0m \u001b[0mvalidation_dataloader\u001b[0m\u001b[0;34m,\u001b[0m \u001b[0moptimizer\u001b[0m\u001b[0;34m,\u001b[0m \u001b[0mloss_fn\u001b[0m\u001b[0;34m,\u001b[0m \u001b[0mNUM_EPOCHS\u001b[0m\u001b[0;34m,\u001b[0m \u001b[0mdevice\u001b[0m\u001b[0;34m)\u001b[0m\u001b[0;34m\u001b[0m\u001b[0;34m\u001b[0m\u001b[0m\n\u001b[0m\u001b[1;32m     13\u001b[0m \u001b[0;34m\u001b[0m\u001b[0m\n\u001b[1;32m     14\u001b[0m \u001b[0mend_time\u001b[0m \u001b[0;34m=\u001b[0m \u001b[0mtimer\u001b[0m\u001b[0;34m(\u001b[0m\u001b[0;34m)\u001b[0m\u001b[0;34m\u001b[0m\u001b[0;34m\u001b[0m\u001b[0m\n",
            "\u001b[0;32m<ipython-input-86-f360d75738c2>\u001b[0m in \u001b[0;36mtrain\u001b[0;34m(model, train_dataloader, test_dataloader, optimizer, loss_fn, epochs, device)\u001b[0m\n\u001b[1;32m     13\u001b[0m     }\n\u001b[1;32m     14\u001b[0m     \u001b[0;32mfor\u001b[0m \u001b[0mepoch\u001b[0m \u001b[0;32min\u001b[0m \u001b[0mtqdm\u001b[0m\u001b[0;34m(\u001b[0m\u001b[0mrange\u001b[0m\u001b[0;34m(\u001b[0m\u001b[0mepochs\u001b[0m\u001b[0;34m)\u001b[0m\u001b[0;34m)\u001b[0m\u001b[0;34m:\u001b[0m\u001b[0;34m\u001b[0m\u001b[0;34m\u001b[0m\u001b[0m\n\u001b[0;32m---> 15\u001b[0;31m         \u001b[0mtrain_loss\u001b[0m\u001b[0;34m,\u001b[0m \u001b[0mtrain_acc\u001b[0m \u001b[0;34m=\u001b[0m \u001b[0mtrain_step\u001b[0m\u001b[0;34m(\u001b[0m\u001b[0mmodel\u001b[0m\u001b[0;34m,\u001b[0m \u001b[0mtrain_dataloader\u001b[0m\u001b[0;34m,\u001b[0m \u001b[0mloss_fn\u001b[0m\u001b[0;34m,\u001b[0m \u001b[0moptimizer\u001b[0m\u001b[0;34m,\u001b[0m \u001b[0mdevice\u001b[0m\u001b[0;34m)\u001b[0m\u001b[0;34m\u001b[0m\u001b[0;34m\u001b[0m\u001b[0m\n\u001b[0m\u001b[1;32m     16\u001b[0m         \u001b[0mtest_loss\u001b[0m\u001b[0;34m,\u001b[0m \u001b[0mtest_acc\u001b[0m \u001b[0;34m=\u001b[0m \u001b[0mtest_step\u001b[0m\u001b[0;34m(\u001b[0m\u001b[0mmodel\u001b[0m\u001b[0;34m,\u001b[0m \u001b[0mtest_dataloader\u001b[0m\u001b[0;34m,\u001b[0m \u001b[0mloss_fn\u001b[0m\u001b[0;34m,\u001b[0m \u001b[0mdevice\u001b[0m\u001b[0;34m)\u001b[0m\u001b[0;34m\u001b[0m\u001b[0;34m\u001b[0m\u001b[0m\n\u001b[1;32m     17\u001b[0m         print(f\"Epoch: {epoch} | Train Loss: {train_loss:.4f} | Train Acc: {train_acc:.4f} | \"\n",
            "\u001b[0;32m<ipython-input-84-e71cd6a341c1>\u001b[0m in \u001b[0;36mtrain_step\u001b[0;34m(model, dataloader, loss_fn, optimizer, device)\u001b[0m\n\u001b[1;32m      3\u001b[0m     \u001b[0mmodel\u001b[0m\u001b[0;34m.\u001b[0m\u001b[0mtrain\u001b[0m\u001b[0;34m(\u001b[0m\u001b[0;34m)\u001b[0m\u001b[0;34m\u001b[0m\u001b[0;34m\u001b[0m\u001b[0m\n\u001b[1;32m      4\u001b[0m     \u001b[0mtrain_loss\u001b[0m\u001b[0;34m,\u001b[0m \u001b[0mtrain_acc\u001b[0m \u001b[0;34m=\u001b[0m \u001b[0;36m0.0\u001b[0m\u001b[0;34m,\u001b[0m \u001b[0;36m0\u001b[0m\u001b[0;34m\u001b[0m\u001b[0;34m\u001b[0m\u001b[0m\n\u001b[0;32m----> 5\u001b[0;31m     \u001b[0;32mfor\u001b[0m \u001b[0mbatch\u001b[0m\u001b[0;34m,\u001b[0m \u001b[0;34m(\u001b[0m\u001b[0mX\u001b[0m\u001b[0;34m,\u001b[0m \u001b[0my\u001b[0m\u001b[0;34m)\u001b[0m \u001b[0;32min\u001b[0m \u001b[0menumerate\u001b[0m\u001b[0;34m(\u001b[0m\u001b[0mdataloader\u001b[0m\u001b[0;34m)\u001b[0m\u001b[0;34m:\u001b[0m\u001b[0;34m\u001b[0m\u001b[0;34m\u001b[0m\u001b[0m\n\u001b[0m\u001b[1;32m      6\u001b[0m         \u001b[0mX\u001b[0m\u001b[0;34m,\u001b[0m \u001b[0my\u001b[0m \u001b[0;34m=\u001b[0m \u001b[0mX\u001b[0m\u001b[0;34m.\u001b[0m\u001b[0mto\u001b[0m\u001b[0;34m(\u001b[0m\u001b[0mdevice\u001b[0m\u001b[0;34m)\u001b[0m\u001b[0;34m,\u001b[0m \u001b[0my\u001b[0m\u001b[0;34m.\u001b[0m\u001b[0mto\u001b[0m\u001b[0;34m(\u001b[0m\u001b[0mdevice\u001b[0m\u001b[0;34m)\u001b[0m\u001b[0;34m\u001b[0m\u001b[0;34m\u001b[0m\u001b[0m\n\u001b[1;32m      7\u001b[0m         \u001b[0moptimizer\u001b[0m\u001b[0;34m.\u001b[0m\u001b[0mzero_grad\u001b[0m\u001b[0;34m(\u001b[0m\u001b[0;34m)\u001b[0m\u001b[0;34m\u001b[0m\u001b[0;34m\u001b[0m\u001b[0m\n",
            "\u001b[0;31mValueError\u001b[0m: not enough values to unpack (expected 2, got 1)"
          ]
        }
      ]
    }
  ],
  "metadata": {
    "accelerator": "GPU",
    "colab": {
      "provenance": []
    },
    "kernelspec": {
      "display_name": "Python 3",
      "name": "python3"
    },
    "language_info": {
      "name": "python"
    },
    "widgets": {
      "application/vnd.jupyter.widget-state+json": {
        "8a3ba7d6e97b4ca981a5736276bcfd05": {
          "model_module": "@jupyter-widgets/controls",
          "model_name": "HBoxModel",
          "model_module_version": "1.5.0",
          "state": {
            "_dom_classes": [],
            "_model_module": "@jupyter-widgets/controls",
            "_model_module_version": "1.5.0",
            "_model_name": "HBoxModel",
            "_view_count": null,
            "_view_module": "@jupyter-widgets/controls",
            "_view_module_version": "1.5.0",
            "_view_name": "HBoxView",
            "box_style": "",
            "children": [
              "IPY_MODEL_a49028a9f25e4c2490ef9e368a0988f0",
              "IPY_MODEL_7f19ce3098eb45738c3263f8c3e0c692",
              "IPY_MODEL_532e633b50f44e55a1846771569cd891"
            ],
            "layout": "IPY_MODEL_962da0fe59d84cde8b0af3faca1e178c"
          }
        },
        "a49028a9f25e4c2490ef9e368a0988f0": {
          "model_module": "@jupyter-widgets/controls",
          "model_name": "HTMLModel",
          "model_module_version": "1.5.0",
          "state": {
            "_dom_classes": [],
            "_model_module": "@jupyter-widgets/controls",
            "_model_module_version": "1.5.0",
            "_model_name": "HTMLModel",
            "_view_count": null,
            "_view_module": "@jupyter-widgets/controls",
            "_view_module_version": "1.5.0",
            "_view_name": "HTMLView",
            "description": "",
            "description_tooltip": null,
            "layout": "IPY_MODEL_f5163b18cc31472bad94d3e615a7f7eb",
            "placeholder": "​",
            "style": "IPY_MODEL_214f442973084ba7874bfabc8b30dfd7",
            "value": " 84%"
          }
        },
        "7f19ce3098eb45738c3263f8c3e0c692": {
          "model_module": "@jupyter-widgets/controls",
          "model_name": "FloatProgressModel",
          "model_module_version": "1.5.0",
          "state": {
            "_dom_classes": [],
            "_model_module": "@jupyter-widgets/controls",
            "_model_module_version": "1.5.0",
            "_model_name": "FloatProgressModel",
            "_view_count": null,
            "_view_module": "@jupyter-widgets/controls",
            "_view_module_version": "1.5.0",
            "_view_name": "ProgressView",
            "bar_style": "danger",
            "description": "",
            "description_tooltip": null,
            "layout": "IPY_MODEL_8b85ce02a87e40f89ef8e56e6ec4ce8f",
            "max": 100,
            "min": 0,
            "orientation": "horizontal",
            "style": "IPY_MODEL_bbe6ece414794eb296d732cb695e349b",
            "value": 84
          }
        },
        "532e633b50f44e55a1846771569cd891": {
          "model_module": "@jupyter-widgets/controls",
          "model_name": "HTMLModel",
          "model_module_version": "1.5.0",
          "state": {
            "_dom_classes": [],
            "_model_module": "@jupyter-widgets/controls",
            "_model_module_version": "1.5.0",
            "_model_name": "HTMLModel",
            "_view_count": null,
            "_view_module": "@jupyter-widgets/controls",
            "_view_module_version": "1.5.0",
            "_view_name": "HTMLView",
            "description": "",
            "description_tooltip": null,
            "layout": "IPY_MODEL_6bea8f6bd96b4aec829982edd95440fc",
            "placeholder": "​",
            "style": "IPY_MODEL_58d32b382411461ba64982f105ef7d6f",
            "value": " 84/100 [46:29&lt;08:44, 32.77s/it]"
          }
        },
        "962da0fe59d84cde8b0af3faca1e178c": {
          "model_module": "@jupyter-widgets/base",
          "model_name": "LayoutModel",
          "model_module_version": "1.2.0",
          "state": {
            "_model_module": "@jupyter-widgets/base",
            "_model_module_version": "1.2.0",
            "_model_name": "LayoutModel",
            "_view_count": null,
            "_view_module": "@jupyter-widgets/base",
            "_view_module_version": "1.2.0",
            "_view_name": "LayoutView",
            "align_content": null,
            "align_items": null,
            "align_self": null,
            "border": null,
            "bottom": null,
            "display": null,
            "flex": null,
            "flex_flow": null,
            "grid_area": null,
            "grid_auto_columns": null,
            "grid_auto_flow": null,
            "grid_auto_rows": null,
            "grid_column": null,
            "grid_gap": null,
            "grid_row": null,
            "grid_template_areas": null,
            "grid_template_columns": null,
            "grid_template_rows": null,
            "height": null,
            "justify_content": null,
            "justify_items": null,
            "left": null,
            "margin": null,
            "max_height": null,
            "max_width": null,
            "min_height": null,
            "min_width": null,
            "object_fit": null,
            "object_position": null,
            "order": null,
            "overflow": null,
            "overflow_x": null,
            "overflow_y": null,
            "padding": null,
            "right": null,
            "top": null,
            "visibility": null,
            "width": null
          }
        },
        "f5163b18cc31472bad94d3e615a7f7eb": {
          "model_module": "@jupyter-widgets/base",
          "model_name": "LayoutModel",
          "model_module_version": "1.2.0",
          "state": {
            "_model_module": "@jupyter-widgets/base",
            "_model_module_version": "1.2.0",
            "_model_name": "LayoutModel",
            "_view_count": null,
            "_view_module": "@jupyter-widgets/base",
            "_view_module_version": "1.2.0",
            "_view_name": "LayoutView",
            "align_content": null,
            "align_items": null,
            "align_self": null,
            "border": null,
            "bottom": null,
            "display": null,
            "flex": null,
            "flex_flow": null,
            "grid_area": null,
            "grid_auto_columns": null,
            "grid_auto_flow": null,
            "grid_auto_rows": null,
            "grid_column": null,
            "grid_gap": null,
            "grid_row": null,
            "grid_template_areas": null,
            "grid_template_columns": null,
            "grid_template_rows": null,
            "height": null,
            "justify_content": null,
            "justify_items": null,
            "left": null,
            "margin": null,
            "max_height": null,
            "max_width": null,
            "min_height": null,
            "min_width": null,
            "object_fit": null,
            "object_position": null,
            "order": null,
            "overflow": null,
            "overflow_x": null,
            "overflow_y": null,
            "padding": null,
            "right": null,
            "top": null,
            "visibility": null,
            "width": null
          }
        },
        "214f442973084ba7874bfabc8b30dfd7": {
          "model_module": "@jupyter-widgets/controls",
          "model_name": "DescriptionStyleModel",
          "model_module_version": "1.5.0",
          "state": {
            "_model_module": "@jupyter-widgets/controls",
            "_model_module_version": "1.5.0",
            "_model_name": "DescriptionStyleModel",
            "_view_count": null,
            "_view_module": "@jupyter-widgets/base",
            "_view_module_version": "1.2.0",
            "_view_name": "StyleView",
            "description_width": ""
          }
        },
        "8b85ce02a87e40f89ef8e56e6ec4ce8f": {
          "model_module": "@jupyter-widgets/base",
          "model_name": "LayoutModel",
          "model_module_version": "1.2.0",
          "state": {
            "_model_module": "@jupyter-widgets/base",
            "_model_module_version": "1.2.0",
            "_model_name": "LayoutModel",
            "_view_count": null,
            "_view_module": "@jupyter-widgets/base",
            "_view_module_version": "1.2.0",
            "_view_name": "LayoutView",
            "align_content": null,
            "align_items": null,
            "align_self": null,
            "border": null,
            "bottom": null,
            "display": null,
            "flex": null,
            "flex_flow": null,
            "grid_area": null,
            "grid_auto_columns": null,
            "grid_auto_flow": null,
            "grid_auto_rows": null,
            "grid_column": null,
            "grid_gap": null,
            "grid_row": null,
            "grid_template_areas": null,
            "grid_template_columns": null,
            "grid_template_rows": null,
            "height": null,
            "justify_content": null,
            "justify_items": null,
            "left": null,
            "margin": null,
            "max_height": null,
            "max_width": null,
            "min_height": null,
            "min_width": null,
            "object_fit": null,
            "object_position": null,
            "order": null,
            "overflow": null,
            "overflow_x": null,
            "overflow_y": null,
            "padding": null,
            "right": null,
            "top": null,
            "visibility": null,
            "width": null
          }
        },
        "bbe6ece414794eb296d732cb695e349b": {
          "model_module": "@jupyter-widgets/controls",
          "model_name": "ProgressStyleModel",
          "model_module_version": "1.5.0",
          "state": {
            "_model_module": "@jupyter-widgets/controls",
            "_model_module_version": "1.5.0",
            "_model_name": "ProgressStyleModel",
            "_view_count": null,
            "_view_module": "@jupyter-widgets/base",
            "_view_module_version": "1.2.0",
            "_view_name": "StyleView",
            "bar_color": null,
            "description_width": ""
          }
        },
        "6bea8f6bd96b4aec829982edd95440fc": {
          "model_module": "@jupyter-widgets/base",
          "model_name": "LayoutModel",
          "model_module_version": "1.2.0",
          "state": {
            "_model_module": "@jupyter-widgets/base",
            "_model_module_version": "1.2.0",
            "_model_name": "LayoutModel",
            "_view_count": null,
            "_view_module": "@jupyter-widgets/base",
            "_view_module_version": "1.2.0",
            "_view_name": "LayoutView",
            "align_content": null,
            "align_items": null,
            "align_self": null,
            "border": null,
            "bottom": null,
            "display": null,
            "flex": null,
            "flex_flow": null,
            "grid_area": null,
            "grid_auto_columns": null,
            "grid_auto_flow": null,
            "grid_auto_rows": null,
            "grid_column": null,
            "grid_gap": null,
            "grid_row": null,
            "grid_template_areas": null,
            "grid_template_columns": null,
            "grid_template_rows": null,
            "height": null,
            "justify_content": null,
            "justify_items": null,
            "left": null,
            "margin": null,
            "max_height": null,
            "max_width": null,
            "min_height": null,
            "min_width": null,
            "object_fit": null,
            "object_position": null,
            "order": null,
            "overflow": null,
            "overflow_x": null,
            "overflow_y": null,
            "padding": null,
            "right": null,
            "top": null,
            "visibility": null,
            "width": null
          }
        },
        "58d32b382411461ba64982f105ef7d6f": {
          "model_module": "@jupyter-widgets/controls",
          "model_name": "DescriptionStyleModel",
          "model_module_version": "1.5.0",
          "state": {
            "_model_module": "@jupyter-widgets/controls",
            "_model_module_version": "1.5.0",
            "_model_name": "DescriptionStyleModel",
            "_view_count": null,
            "_view_module": "@jupyter-widgets/base",
            "_view_module_version": "1.2.0",
            "_view_name": "StyleView",
            "description_width": ""
          }
        },
        "bdb583b69b3e453d8a632ba6b75b91dd": {
          "model_module": "@jupyter-widgets/controls",
          "model_name": "HBoxModel",
          "model_module_version": "1.5.0",
          "state": {
            "_dom_classes": [],
            "_model_module": "@jupyter-widgets/controls",
            "_model_module_version": "1.5.0",
            "_model_name": "HBoxModel",
            "_view_count": null,
            "_view_module": "@jupyter-widgets/controls",
            "_view_module_version": "1.5.0",
            "_view_name": "HBoxView",
            "box_style": "",
            "children": [
              "IPY_MODEL_0599c6d28a5d4c1eb2a8255433f7c418",
              "IPY_MODEL_72282f2d8dd640fbac96d814e52a7430",
              "IPY_MODEL_258485612e7a40a6a56e5dce262bcd4d"
            ],
            "layout": "IPY_MODEL_2e6e3b1f201041229acbb69d75423ca8"
          }
        },
        "0599c6d28a5d4c1eb2a8255433f7c418": {
          "model_module": "@jupyter-widgets/controls",
          "model_name": "HTMLModel",
          "model_module_version": "1.5.0",
          "state": {
            "_dom_classes": [],
            "_model_module": "@jupyter-widgets/controls",
            "_model_module_version": "1.5.0",
            "_model_name": "HTMLModel",
            "_view_count": null,
            "_view_module": "@jupyter-widgets/controls",
            "_view_module_version": "1.5.0",
            "_view_name": "HTMLView",
            "description": "",
            "description_tooltip": null,
            "layout": "IPY_MODEL_2efa3d68a2ac490b8e403f8f0fe06e58",
            "placeholder": "​",
            "style": "IPY_MODEL_03628e20958b46e39f2b2f671bed3bc7",
            "value": " 40%"
          }
        },
        "72282f2d8dd640fbac96d814e52a7430": {
          "model_module": "@jupyter-widgets/controls",
          "model_name": "FloatProgressModel",
          "model_module_version": "1.5.0",
          "state": {
            "_dom_classes": [],
            "_model_module": "@jupyter-widgets/controls",
            "_model_module_version": "1.5.0",
            "_model_name": "FloatProgressModel",
            "_view_count": null,
            "_view_module": "@jupyter-widgets/controls",
            "_view_module_version": "1.5.0",
            "_view_name": "ProgressView",
            "bar_style": "",
            "description": "",
            "description_tooltip": null,
            "layout": "IPY_MODEL_aeedb9a57e2e4b2bac362db308efb4ad",
            "max": 100,
            "min": 0,
            "orientation": "horizontal",
            "style": "IPY_MODEL_94aecac62de44ad2bf82c95cfd86fd71",
            "value": 40
          }
        },
        "258485612e7a40a6a56e5dce262bcd4d": {
          "model_module": "@jupyter-widgets/controls",
          "model_name": "HTMLModel",
          "model_module_version": "1.5.0",
          "state": {
            "_dom_classes": [],
            "_model_module": "@jupyter-widgets/controls",
            "_model_module_version": "1.5.0",
            "_model_name": "HTMLModel",
            "_view_count": null,
            "_view_module": "@jupyter-widgets/controls",
            "_view_module_version": "1.5.0",
            "_view_name": "HTMLView",
            "description": "",
            "description_tooltip": null,
            "layout": "IPY_MODEL_11d16f59bc67438c8a832f858b2de589",
            "placeholder": "​",
            "style": "IPY_MODEL_c309390efeee4da9a02ea5c4ed7b7271",
            "value": " 40/100 [23:02&lt;34:01, 34.03s/it]"
          }
        },
        "2e6e3b1f201041229acbb69d75423ca8": {
          "model_module": "@jupyter-widgets/base",
          "model_name": "LayoutModel",
          "model_module_version": "1.2.0",
          "state": {
            "_model_module": "@jupyter-widgets/base",
            "_model_module_version": "1.2.0",
            "_model_name": "LayoutModel",
            "_view_count": null,
            "_view_module": "@jupyter-widgets/base",
            "_view_module_version": "1.2.0",
            "_view_name": "LayoutView",
            "align_content": null,
            "align_items": null,
            "align_self": null,
            "border": null,
            "bottom": null,
            "display": null,
            "flex": null,
            "flex_flow": null,
            "grid_area": null,
            "grid_auto_columns": null,
            "grid_auto_flow": null,
            "grid_auto_rows": null,
            "grid_column": null,
            "grid_gap": null,
            "grid_row": null,
            "grid_template_areas": null,
            "grid_template_columns": null,
            "grid_template_rows": null,
            "height": null,
            "justify_content": null,
            "justify_items": null,
            "left": null,
            "margin": null,
            "max_height": null,
            "max_width": null,
            "min_height": null,
            "min_width": null,
            "object_fit": null,
            "object_position": null,
            "order": null,
            "overflow": null,
            "overflow_x": null,
            "overflow_y": null,
            "padding": null,
            "right": null,
            "top": null,
            "visibility": null,
            "width": null
          }
        },
        "2efa3d68a2ac490b8e403f8f0fe06e58": {
          "model_module": "@jupyter-widgets/base",
          "model_name": "LayoutModel",
          "model_module_version": "1.2.0",
          "state": {
            "_model_module": "@jupyter-widgets/base",
            "_model_module_version": "1.2.0",
            "_model_name": "LayoutModel",
            "_view_count": null,
            "_view_module": "@jupyter-widgets/base",
            "_view_module_version": "1.2.0",
            "_view_name": "LayoutView",
            "align_content": null,
            "align_items": null,
            "align_self": null,
            "border": null,
            "bottom": null,
            "display": null,
            "flex": null,
            "flex_flow": null,
            "grid_area": null,
            "grid_auto_columns": null,
            "grid_auto_flow": null,
            "grid_auto_rows": null,
            "grid_column": null,
            "grid_gap": null,
            "grid_row": null,
            "grid_template_areas": null,
            "grid_template_columns": null,
            "grid_template_rows": null,
            "height": null,
            "justify_content": null,
            "justify_items": null,
            "left": null,
            "margin": null,
            "max_height": null,
            "max_width": null,
            "min_height": null,
            "min_width": null,
            "object_fit": null,
            "object_position": null,
            "order": null,
            "overflow": null,
            "overflow_x": null,
            "overflow_y": null,
            "padding": null,
            "right": null,
            "top": null,
            "visibility": null,
            "width": null
          }
        },
        "03628e20958b46e39f2b2f671bed3bc7": {
          "model_module": "@jupyter-widgets/controls",
          "model_name": "DescriptionStyleModel",
          "model_module_version": "1.5.0",
          "state": {
            "_model_module": "@jupyter-widgets/controls",
            "_model_module_version": "1.5.0",
            "_model_name": "DescriptionStyleModel",
            "_view_count": null,
            "_view_module": "@jupyter-widgets/base",
            "_view_module_version": "1.2.0",
            "_view_name": "StyleView",
            "description_width": ""
          }
        },
        "aeedb9a57e2e4b2bac362db308efb4ad": {
          "model_module": "@jupyter-widgets/base",
          "model_name": "LayoutModel",
          "model_module_version": "1.2.0",
          "state": {
            "_model_module": "@jupyter-widgets/base",
            "_model_module_version": "1.2.0",
            "_model_name": "LayoutModel",
            "_view_count": null,
            "_view_module": "@jupyter-widgets/base",
            "_view_module_version": "1.2.0",
            "_view_name": "LayoutView",
            "align_content": null,
            "align_items": null,
            "align_self": null,
            "border": null,
            "bottom": null,
            "display": null,
            "flex": null,
            "flex_flow": null,
            "grid_area": null,
            "grid_auto_columns": null,
            "grid_auto_flow": null,
            "grid_auto_rows": null,
            "grid_column": null,
            "grid_gap": null,
            "grid_row": null,
            "grid_template_areas": null,
            "grid_template_columns": null,
            "grid_template_rows": null,
            "height": null,
            "justify_content": null,
            "justify_items": null,
            "left": null,
            "margin": null,
            "max_height": null,
            "max_width": null,
            "min_height": null,
            "min_width": null,
            "object_fit": null,
            "object_position": null,
            "order": null,
            "overflow": null,
            "overflow_x": null,
            "overflow_y": null,
            "padding": null,
            "right": null,
            "top": null,
            "visibility": null,
            "width": null
          }
        },
        "94aecac62de44ad2bf82c95cfd86fd71": {
          "model_module": "@jupyter-widgets/controls",
          "model_name": "ProgressStyleModel",
          "model_module_version": "1.5.0",
          "state": {
            "_model_module": "@jupyter-widgets/controls",
            "_model_module_version": "1.5.0",
            "_model_name": "ProgressStyleModel",
            "_view_count": null,
            "_view_module": "@jupyter-widgets/base",
            "_view_module_version": "1.2.0",
            "_view_name": "StyleView",
            "bar_color": null,
            "description_width": ""
          }
        },
        "11d16f59bc67438c8a832f858b2de589": {
          "model_module": "@jupyter-widgets/base",
          "model_name": "LayoutModel",
          "model_module_version": "1.2.0",
          "state": {
            "_model_module": "@jupyter-widgets/base",
            "_model_module_version": "1.2.0",
            "_model_name": "LayoutModel",
            "_view_count": null,
            "_view_module": "@jupyter-widgets/base",
            "_view_module_version": "1.2.0",
            "_view_name": "LayoutView",
            "align_content": null,
            "align_items": null,
            "align_self": null,
            "border": null,
            "bottom": null,
            "display": null,
            "flex": null,
            "flex_flow": null,
            "grid_area": null,
            "grid_auto_columns": null,
            "grid_auto_flow": null,
            "grid_auto_rows": null,
            "grid_column": null,
            "grid_gap": null,
            "grid_row": null,
            "grid_template_areas": null,
            "grid_template_columns": null,
            "grid_template_rows": null,
            "height": null,
            "justify_content": null,
            "justify_items": null,
            "left": null,
            "margin": null,
            "max_height": null,
            "max_width": null,
            "min_height": null,
            "min_width": null,
            "object_fit": null,
            "object_position": null,
            "order": null,
            "overflow": null,
            "overflow_x": null,
            "overflow_y": null,
            "padding": null,
            "right": null,
            "top": null,
            "visibility": null,
            "width": null
          }
        },
        "c309390efeee4da9a02ea5c4ed7b7271": {
          "model_module": "@jupyter-widgets/controls",
          "model_name": "DescriptionStyleModel",
          "model_module_version": "1.5.0",
          "state": {
            "_model_module": "@jupyter-widgets/controls",
            "_model_module_version": "1.5.0",
            "_model_name": "DescriptionStyleModel",
            "_view_count": null,
            "_view_module": "@jupyter-widgets/base",
            "_view_module_version": "1.2.0",
            "_view_name": "StyleView",
            "description_width": ""
          }
        },
        "f10339805cd649379fd0e59c7fa59597": {
          "model_module": "@jupyter-widgets/controls",
          "model_name": "HBoxModel",
          "model_module_version": "1.5.0",
          "state": {
            "_dom_classes": [],
            "_model_module": "@jupyter-widgets/controls",
            "_model_module_version": "1.5.0",
            "_model_name": "HBoxModel",
            "_view_count": null,
            "_view_module": "@jupyter-widgets/controls",
            "_view_module_version": "1.5.0",
            "_view_name": "HBoxView",
            "box_style": "",
            "children": [
              "IPY_MODEL_3d2aabf9c728485490ec31c0a233ed04",
              "IPY_MODEL_00bc1339f30d4131b95a3cab51f4425d",
              "IPY_MODEL_7217818515a84a57a9c20e6d9cc0fac4"
            ],
            "layout": "IPY_MODEL_1ac90b9221374e77835a46dea8903c8b"
          }
        },
        "3d2aabf9c728485490ec31c0a233ed04": {
          "model_module": "@jupyter-widgets/controls",
          "model_name": "HTMLModel",
          "model_module_version": "1.5.0",
          "state": {
            "_dom_classes": [],
            "_model_module": "@jupyter-widgets/controls",
            "_model_module_version": "1.5.0",
            "_model_name": "HTMLModel",
            "_view_count": null,
            "_view_module": "@jupyter-widgets/controls",
            "_view_module_version": "1.5.0",
            "_view_name": "HTMLView",
            "description": "",
            "description_tooltip": null,
            "layout": "IPY_MODEL_a50c2144bf274fee94833db86af38837",
            "placeholder": "​",
            "style": "IPY_MODEL_82ac2e05e1114840bb62a2c1fcd7f49b",
            "value": "  0%"
          }
        },
        "00bc1339f30d4131b95a3cab51f4425d": {
          "model_module": "@jupyter-widgets/controls",
          "model_name": "FloatProgressModel",
          "model_module_version": "1.5.0",
          "state": {
            "_dom_classes": [],
            "_model_module": "@jupyter-widgets/controls",
            "_model_module_version": "1.5.0",
            "_model_name": "FloatProgressModel",
            "_view_count": null,
            "_view_module": "@jupyter-widgets/controls",
            "_view_module_version": "1.5.0",
            "_view_name": "ProgressView",
            "bar_style": "danger",
            "description": "",
            "description_tooltip": null,
            "layout": "IPY_MODEL_9d109c79014944ffba0233c4a8d580cd",
            "max": 100,
            "min": 0,
            "orientation": "horizontal",
            "style": "IPY_MODEL_139a63a844794c5b80938e1c844dbf24",
            "value": 0
          }
        },
        "7217818515a84a57a9c20e6d9cc0fac4": {
          "model_module": "@jupyter-widgets/controls",
          "model_name": "HTMLModel",
          "model_module_version": "1.5.0",
          "state": {
            "_dom_classes": [],
            "_model_module": "@jupyter-widgets/controls",
            "_model_module_version": "1.5.0",
            "_model_name": "HTMLModel",
            "_view_count": null,
            "_view_module": "@jupyter-widgets/controls",
            "_view_module_version": "1.5.0",
            "_view_name": "HTMLView",
            "description": "",
            "description_tooltip": null,
            "layout": "IPY_MODEL_b8025890dbd24cd89e15e83125f16f3f",
            "placeholder": "​",
            "style": "IPY_MODEL_907cc2310d184441b3d18bb369e22eba",
            "value": " 0/100 [00:00&lt;?, ?it/s]"
          }
        },
        "1ac90b9221374e77835a46dea8903c8b": {
          "model_module": "@jupyter-widgets/base",
          "model_name": "LayoutModel",
          "model_module_version": "1.2.0",
          "state": {
            "_model_module": "@jupyter-widgets/base",
            "_model_module_version": "1.2.0",
            "_model_name": "LayoutModel",
            "_view_count": null,
            "_view_module": "@jupyter-widgets/base",
            "_view_module_version": "1.2.0",
            "_view_name": "LayoutView",
            "align_content": null,
            "align_items": null,
            "align_self": null,
            "border": null,
            "bottom": null,
            "display": null,
            "flex": null,
            "flex_flow": null,
            "grid_area": null,
            "grid_auto_columns": null,
            "grid_auto_flow": null,
            "grid_auto_rows": null,
            "grid_column": null,
            "grid_gap": null,
            "grid_row": null,
            "grid_template_areas": null,
            "grid_template_columns": null,
            "grid_template_rows": null,
            "height": null,
            "justify_content": null,
            "justify_items": null,
            "left": null,
            "margin": null,
            "max_height": null,
            "max_width": null,
            "min_height": null,
            "min_width": null,
            "object_fit": null,
            "object_position": null,
            "order": null,
            "overflow": null,
            "overflow_x": null,
            "overflow_y": null,
            "padding": null,
            "right": null,
            "top": null,
            "visibility": null,
            "width": null
          }
        },
        "a50c2144bf274fee94833db86af38837": {
          "model_module": "@jupyter-widgets/base",
          "model_name": "LayoutModel",
          "model_module_version": "1.2.0",
          "state": {
            "_model_module": "@jupyter-widgets/base",
            "_model_module_version": "1.2.0",
            "_model_name": "LayoutModel",
            "_view_count": null,
            "_view_module": "@jupyter-widgets/base",
            "_view_module_version": "1.2.0",
            "_view_name": "LayoutView",
            "align_content": null,
            "align_items": null,
            "align_self": null,
            "border": null,
            "bottom": null,
            "display": null,
            "flex": null,
            "flex_flow": null,
            "grid_area": null,
            "grid_auto_columns": null,
            "grid_auto_flow": null,
            "grid_auto_rows": null,
            "grid_column": null,
            "grid_gap": null,
            "grid_row": null,
            "grid_template_areas": null,
            "grid_template_columns": null,
            "grid_template_rows": null,
            "height": null,
            "justify_content": null,
            "justify_items": null,
            "left": null,
            "margin": null,
            "max_height": null,
            "max_width": null,
            "min_height": null,
            "min_width": null,
            "object_fit": null,
            "object_position": null,
            "order": null,
            "overflow": null,
            "overflow_x": null,
            "overflow_y": null,
            "padding": null,
            "right": null,
            "top": null,
            "visibility": null,
            "width": null
          }
        },
        "82ac2e05e1114840bb62a2c1fcd7f49b": {
          "model_module": "@jupyter-widgets/controls",
          "model_name": "DescriptionStyleModel",
          "model_module_version": "1.5.0",
          "state": {
            "_model_module": "@jupyter-widgets/controls",
            "_model_module_version": "1.5.0",
            "_model_name": "DescriptionStyleModel",
            "_view_count": null,
            "_view_module": "@jupyter-widgets/base",
            "_view_module_version": "1.2.0",
            "_view_name": "StyleView",
            "description_width": ""
          }
        },
        "9d109c79014944ffba0233c4a8d580cd": {
          "model_module": "@jupyter-widgets/base",
          "model_name": "LayoutModel",
          "model_module_version": "1.2.0",
          "state": {
            "_model_module": "@jupyter-widgets/base",
            "_model_module_version": "1.2.0",
            "_model_name": "LayoutModel",
            "_view_count": null,
            "_view_module": "@jupyter-widgets/base",
            "_view_module_version": "1.2.0",
            "_view_name": "LayoutView",
            "align_content": null,
            "align_items": null,
            "align_self": null,
            "border": null,
            "bottom": null,
            "display": null,
            "flex": null,
            "flex_flow": null,
            "grid_area": null,
            "grid_auto_columns": null,
            "grid_auto_flow": null,
            "grid_auto_rows": null,
            "grid_column": null,
            "grid_gap": null,
            "grid_row": null,
            "grid_template_areas": null,
            "grid_template_columns": null,
            "grid_template_rows": null,
            "height": null,
            "justify_content": null,
            "justify_items": null,
            "left": null,
            "margin": null,
            "max_height": null,
            "max_width": null,
            "min_height": null,
            "min_width": null,
            "object_fit": null,
            "object_position": null,
            "order": null,
            "overflow": null,
            "overflow_x": null,
            "overflow_y": null,
            "padding": null,
            "right": null,
            "top": null,
            "visibility": null,
            "width": null
          }
        },
        "139a63a844794c5b80938e1c844dbf24": {
          "model_module": "@jupyter-widgets/controls",
          "model_name": "ProgressStyleModel",
          "model_module_version": "1.5.0",
          "state": {
            "_model_module": "@jupyter-widgets/controls",
            "_model_module_version": "1.5.0",
            "_model_name": "ProgressStyleModel",
            "_view_count": null,
            "_view_module": "@jupyter-widgets/base",
            "_view_module_version": "1.2.0",
            "_view_name": "StyleView",
            "bar_color": null,
            "description_width": ""
          }
        },
        "b8025890dbd24cd89e15e83125f16f3f": {
          "model_module": "@jupyter-widgets/base",
          "model_name": "LayoutModel",
          "model_module_version": "1.2.0",
          "state": {
            "_model_module": "@jupyter-widgets/base",
            "_model_module_version": "1.2.0",
            "_model_name": "LayoutModel",
            "_view_count": null,
            "_view_module": "@jupyter-widgets/base",
            "_view_module_version": "1.2.0",
            "_view_name": "LayoutView",
            "align_content": null,
            "align_items": null,
            "align_self": null,
            "border": null,
            "bottom": null,
            "display": null,
            "flex": null,
            "flex_flow": null,
            "grid_area": null,
            "grid_auto_columns": null,
            "grid_auto_flow": null,
            "grid_auto_rows": null,
            "grid_column": null,
            "grid_gap": null,
            "grid_row": null,
            "grid_template_areas": null,
            "grid_template_columns": null,
            "grid_template_rows": null,
            "height": null,
            "justify_content": null,
            "justify_items": null,
            "left": null,
            "margin": null,
            "max_height": null,
            "max_width": null,
            "min_height": null,
            "min_width": null,
            "object_fit": null,
            "object_position": null,
            "order": null,
            "overflow": null,
            "overflow_x": null,
            "overflow_y": null,
            "padding": null,
            "right": null,
            "top": null,
            "visibility": null,
            "width": null
          }
        },
        "907cc2310d184441b3d18bb369e22eba": {
          "model_module": "@jupyter-widgets/controls",
          "model_name": "DescriptionStyleModel",
          "model_module_version": "1.5.0",
          "state": {
            "_model_module": "@jupyter-widgets/controls",
            "_model_module_version": "1.5.0",
            "_model_name": "DescriptionStyleModel",
            "_view_count": null,
            "_view_module": "@jupyter-widgets/base",
            "_view_module_version": "1.2.0",
            "_view_name": "StyleView",
            "description_width": ""
          }
        },
        "9ef9028f76bb42ab9b509cae96a15c4f": {
          "model_module": "@jupyter-widgets/controls",
          "model_name": "HBoxModel",
          "model_module_version": "1.5.0",
          "state": {
            "_dom_classes": [],
            "_model_module": "@jupyter-widgets/controls",
            "_model_module_version": "1.5.0",
            "_model_name": "HBoxModel",
            "_view_count": null,
            "_view_module": "@jupyter-widgets/controls",
            "_view_module_version": "1.5.0",
            "_view_name": "HBoxView",
            "box_style": "",
            "children": [
              "IPY_MODEL_de9afd42636b43c3bfd3db9c1b915597",
              "IPY_MODEL_7717f4d5e61443dbaffe96b4f2529f82",
              "IPY_MODEL_9368f52140de47d19f99314acfe9a6d6"
            ],
            "layout": "IPY_MODEL_5f1a3f899dcf423885ba6d25d8fd28c0"
          }
        },
        "de9afd42636b43c3bfd3db9c1b915597": {
          "model_module": "@jupyter-widgets/controls",
          "model_name": "HTMLModel",
          "model_module_version": "1.5.0",
          "state": {
            "_dom_classes": [],
            "_model_module": "@jupyter-widgets/controls",
            "_model_module_version": "1.5.0",
            "_model_name": "HTMLModel",
            "_view_count": null,
            "_view_module": "@jupyter-widgets/controls",
            "_view_module_version": "1.5.0",
            "_view_name": "HTMLView",
            "description": "",
            "description_tooltip": null,
            "layout": "IPY_MODEL_9316acdea4354f31a414328b609294c0",
            "placeholder": "​",
            "style": "IPY_MODEL_05ef3627581f4383b53983e75dc04c2f",
            "value": "100%"
          }
        },
        "7717f4d5e61443dbaffe96b4f2529f82": {
          "model_module": "@jupyter-widgets/controls",
          "model_name": "FloatProgressModel",
          "model_module_version": "1.5.0",
          "state": {
            "_dom_classes": [],
            "_model_module": "@jupyter-widgets/controls",
            "_model_module_version": "1.5.0",
            "_model_name": "FloatProgressModel",
            "_view_count": null,
            "_view_module": "@jupyter-widgets/controls",
            "_view_module_version": "1.5.0",
            "_view_name": "ProgressView",
            "bar_style": "success",
            "description": "",
            "description_tooltip": null,
            "layout": "IPY_MODEL_82b78534e5ec41bbad73fd1a236d9f4b",
            "max": 20,
            "min": 0,
            "orientation": "horizontal",
            "style": "IPY_MODEL_6da8411ad1c5446a98b480ea4aa5a7e3",
            "value": 20
          }
        },
        "9368f52140de47d19f99314acfe9a6d6": {
          "model_module": "@jupyter-widgets/controls",
          "model_name": "HTMLModel",
          "model_module_version": "1.5.0",
          "state": {
            "_dom_classes": [],
            "_model_module": "@jupyter-widgets/controls",
            "_model_module_version": "1.5.0",
            "_model_name": "HTMLModel",
            "_view_count": null,
            "_view_module": "@jupyter-widgets/controls",
            "_view_module_version": "1.5.0",
            "_view_name": "HTMLView",
            "description": "",
            "description_tooltip": null,
            "layout": "IPY_MODEL_f9b19f750ce54e0c800e20e306a88b29",
            "placeholder": "​",
            "style": "IPY_MODEL_2c2e73b71c3c48f7ae65d39c9c694a1e",
            "value": " 20/20 [05:03&lt;00:00, 14.89s/it]"
          }
        },
        "5f1a3f899dcf423885ba6d25d8fd28c0": {
          "model_module": "@jupyter-widgets/base",
          "model_name": "LayoutModel",
          "model_module_version": "1.2.0",
          "state": {
            "_model_module": "@jupyter-widgets/base",
            "_model_module_version": "1.2.0",
            "_model_name": "LayoutModel",
            "_view_count": null,
            "_view_module": "@jupyter-widgets/base",
            "_view_module_version": "1.2.0",
            "_view_name": "LayoutView",
            "align_content": null,
            "align_items": null,
            "align_self": null,
            "border": null,
            "bottom": null,
            "display": null,
            "flex": null,
            "flex_flow": null,
            "grid_area": null,
            "grid_auto_columns": null,
            "grid_auto_flow": null,
            "grid_auto_rows": null,
            "grid_column": null,
            "grid_gap": null,
            "grid_row": null,
            "grid_template_areas": null,
            "grid_template_columns": null,
            "grid_template_rows": null,
            "height": null,
            "justify_content": null,
            "justify_items": null,
            "left": null,
            "margin": null,
            "max_height": null,
            "max_width": null,
            "min_height": null,
            "min_width": null,
            "object_fit": null,
            "object_position": null,
            "order": null,
            "overflow": null,
            "overflow_x": null,
            "overflow_y": null,
            "padding": null,
            "right": null,
            "top": null,
            "visibility": null,
            "width": null
          }
        },
        "9316acdea4354f31a414328b609294c0": {
          "model_module": "@jupyter-widgets/base",
          "model_name": "LayoutModel",
          "model_module_version": "1.2.0",
          "state": {
            "_model_module": "@jupyter-widgets/base",
            "_model_module_version": "1.2.0",
            "_model_name": "LayoutModel",
            "_view_count": null,
            "_view_module": "@jupyter-widgets/base",
            "_view_module_version": "1.2.0",
            "_view_name": "LayoutView",
            "align_content": null,
            "align_items": null,
            "align_self": null,
            "border": null,
            "bottom": null,
            "display": null,
            "flex": null,
            "flex_flow": null,
            "grid_area": null,
            "grid_auto_columns": null,
            "grid_auto_flow": null,
            "grid_auto_rows": null,
            "grid_column": null,
            "grid_gap": null,
            "grid_row": null,
            "grid_template_areas": null,
            "grid_template_columns": null,
            "grid_template_rows": null,
            "height": null,
            "justify_content": null,
            "justify_items": null,
            "left": null,
            "margin": null,
            "max_height": null,
            "max_width": null,
            "min_height": null,
            "min_width": null,
            "object_fit": null,
            "object_position": null,
            "order": null,
            "overflow": null,
            "overflow_x": null,
            "overflow_y": null,
            "padding": null,
            "right": null,
            "top": null,
            "visibility": null,
            "width": null
          }
        },
        "05ef3627581f4383b53983e75dc04c2f": {
          "model_module": "@jupyter-widgets/controls",
          "model_name": "DescriptionStyleModel",
          "model_module_version": "1.5.0",
          "state": {
            "_model_module": "@jupyter-widgets/controls",
            "_model_module_version": "1.5.0",
            "_model_name": "DescriptionStyleModel",
            "_view_count": null,
            "_view_module": "@jupyter-widgets/base",
            "_view_module_version": "1.2.0",
            "_view_name": "StyleView",
            "description_width": ""
          }
        },
        "82b78534e5ec41bbad73fd1a236d9f4b": {
          "model_module": "@jupyter-widgets/base",
          "model_name": "LayoutModel",
          "model_module_version": "1.2.0",
          "state": {
            "_model_module": "@jupyter-widgets/base",
            "_model_module_version": "1.2.0",
            "_model_name": "LayoutModel",
            "_view_count": null,
            "_view_module": "@jupyter-widgets/base",
            "_view_module_version": "1.2.0",
            "_view_name": "LayoutView",
            "align_content": null,
            "align_items": null,
            "align_self": null,
            "border": null,
            "bottom": null,
            "display": null,
            "flex": null,
            "flex_flow": null,
            "grid_area": null,
            "grid_auto_columns": null,
            "grid_auto_flow": null,
            "grid_auto_rows": null,
            "grid_column": null,
            "grid_gap": null,
            "grid_row": null,
            "grid_template_areas": null,
            "grid_template_columns": null,
            "grid_template_rows": null,
            "height": null,
            "justify_content": null,
            "justify_items": null,
            "left": null,
            "margin": null,
            "max_height": null,
            "max_width": null,
            "min_height": null,
            "min_width": null,
            "object_fit": null,
            "object_position": null,
            "order": null,
            "overflow": null,
            "overflow_x": null,
            "overflow_y": null,
            "padding": null,
            "right": null,
            "top": null,
            "visibility": null,
            "width": null
          }
        },
        "6da8411ad1c5446a98b480ea4aa5a7e3": {
          "model_module": "@jupyter-widgets/controls",
          "model_name": "ProgressStyleModel",
          "model_module_version": "1.5.0",
          "state": {
            "_model_module": "@jupyter-widgets/controls",
            "_model_module_version": "1.5.0",
            "_model_name": "ProgressStyleModel",
            "_view_count": null,
            "_view_module": "@jupyter-widgets/base",
            "_view_module_version": "1.2.0",
            "_view_name": "StyleView",
            "bar_color": null,
            "description_width": ""
          }
        },
        "f9b19f750ce54e0c800e20e306a88b29": {
          "model_module": "@jupyter-widgets/base",
          "model_name": "LayoutModel",
          "model_module_version": "1.2.0",
          "state": {
            "_model_module": "@jupyter-widgets/base",
            "_model_module_version": "1.2.0",
            "_model_name": "LayoutModel",
            "_view_count": null,
            "_view_module": "@jupyter-widgets/base",
            "_view_module_version": "1.2.0",
            "_view_name": "LayoutView",
            "align_content": null,
            "align_items": null,
            "align_self": null,
            "border": null,
            "bottom": null,
            "display": null,
            "flex": null,
            "flex_flow": null,
            "grid_area": null,
            "grid_auto_columns": null,
            "grid_auto_flow": null,
            "grid_auto_rows": null,
            "grid_column": null,
            "grid_gap": null,
            "grid_row": null,
            "grid_template_areas": null,
            "grid_template_columns": null,
            "grid_template_rows": null,
            "height": null,
            "justify_content": null,
            "justify_items": null,
            "left": null,
            "margin": null,
            "max_height": null,
            "max_width": null,
            "min_height": null,
            "min_width": null,
            "object_fit": null,
            "object_position": null,
            "order": null,
            "overflow": null,
            "overflow_x": null,
            "overflow_y": null,
            "padding": null,
            "right": null,
            "top": null,
            "visibility": null,
            "width": null
          }
        },
        "2c2e73b71c3c48f7ae65d39c9c694a1e": {
          "model_module": "@jupyter-widgets/controls",
          "model_name": "DescriptionStyleModel",
          "model_module_version": "1.5.0",
          "state": {
            "_model_module": "@jupyter-widgets/controls",
            "_model_module_version": "1.5.0",
            "_model_name": "DescriptionStyleModel",
            "_view_count": null,
            "_view_module": "@jupyter-widgets/base",
            "_view_module_version": "1.2.0",
            "_view_name": "StyleView",
            "description_width": ""
          }
        }
      }
    }
  },
  "nbformat": 4,
  "nbformat_minor": 0
}